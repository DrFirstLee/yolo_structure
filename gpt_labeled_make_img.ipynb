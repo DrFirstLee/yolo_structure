{
 "cells": [
  {
   "cell_type": "code",
   "execution_count": 1,
   "id": "1409b830",
   "metadata": {},
   "outputs": [],
   "source": [
    "import cv2\n",
    "import os\n",
    "\n",
    "\n",
    "import xml.etree.ElementTree as ET\n",
    "\n",
    "origin_dir = \"/app\"\n",
    "cnt = 0"
   ]
  },
  {
   "cell_type": "code",
   "execution_count": 2,
   "id": "76063d2e-094f-4d1e-89af-4c0b488cc3e4",
   "metadata": {},
   "outputs": [],
   "source": [
    "def parse_xml(xml_file):\n",
    "    \"\"\"\n",
    "    Parse the XML file to extract image annotations.\n",
    "    \"\"\"\n",
    "    tree = ET.parse(xml_file)\n",
    "    root = tree.getroot()\n",
    "    annotations = {}\n",
    "\n",
    "    for image in root.findall(\"image\"):\n",
    "        image_name = image.attrib[\"name\"]\n",
    "        width = int(image.attrib[\"width\"])\n",
    "        height = int(image.attrib[\"height\"])\n",
    "        boxes = []\n",
    "\n",
    "        for box in image.findall(\"box\"):\n",
    "            label = box.attrib[\"label\"]\n",
    "            xtl = int(float(box.attrib[\"xtl\"]))\n",
    "            ytl = int(float(box.attrib[\"ytl\"]))\n",
    "            xbr = int(float(box.attrib[\"xbr\"]))\n",
    "            ybr = int(float(box.attrib[\"ybr\"]))\n",
    "            boxes.append((label, xtl, ytl, xbr, ybr))\n",
    "        \n",
    "        annotations[image_name] = {\"width\": width, \"height\": height, \"boxes\": boxes}\n",
    "    \n",
    "    return annotations\n",
    "\n",
    "def overlay_labels(image_path, annotations, output_dir):\n",
    "    \"\"\"\n",
    "    Overlay labels and bounding boxes on the image and save as JPG.\n",
    "    \"\"\"\n",
    "    global cnt\n",
    "    image_name = os.path.basename(image_path)\n",
    "    if image_name not in annotations:\n",
    "        # print(f\"No annotations found for {image_name}. Skipping...\")\n",
    "        return\n",
    "\n",
    "    image = cv2.imread(image_path)\n",
    "    data = annotations[image_name]\n",
    "    \n",
    "    for box in data[\"boxes\"]:\n",
    "        label, xtl, ytl, xbr, ybr = box\n",
    "        # Draw bounding box\n",
    "        cv2.rectangle(image, (xtl, ytl), (xbr, ybr), (0, 255, 0), 2)\n",
    "        # Add label text\n",
    "        cv2.putText(image, label, (xtl, ytl - 10), cv2.FONT_HERSHEY_SIMPLEX, 0.5, (0, 255, 0), 2)\n",
    "\n",
    "    # Save the image as JPG\n",
    "    output_file = os.path.join(output_dir, image_name.replace(\".png\", \".jpg\"))\n",
    "    cv2.imwrite(output_file, image)\n",
    "    cnt += 1\n",
    "    if (cnt % 1000 ==0 )  :\n",
    "        print(f\"Saved labeled image to {output_file} /  {cnt})\")\n",
    "\n",
    "\n",
    "def process_files(xml_file, image_dir, output_dir):\n",
    "    \"\"\"\n",
    "    Process XML and PNG files, overlay labels, and save as JPG.\n",
    "    \"\"\"\n",
    "    os.makedirs(output_dir, exist_ok=True)\n",
    "    annotations = parse_xml(xml_file)\n",
    "\n",
    "    for file in os.listdir(image_dir):\n",
    "        if file.endswith(\".png\"):\n",
    "            image_path = os.path.join(image_dir, file)\n",
    "            overlay_labels(image_path, annotations, output_dir)\n",
    "\n",
    "def process_files_test(xml_file, image_dir, output_dir, img_name):\n",
    "    \"\"\"\n",
    "    Process XML and PNG files, overlay labels, and save as JPG.\n",
    "    \"\"\"\n",
    "    os.makedirs(output_dir, exist_ok=True)\n",
    "    annotations = parse_xml(xml_file)\n",
    "    for file in os.listdir(image_dir):\n",
    "        if (file.endswith(\".png\")) and (img_name in file):\n",
    "            image_path = os.path.join(image_dir, file)\n",
    "            overlay_labels(image_path, annotations, output_dir)\n"
   ]
  },
  {
   "cell_type": "code",
   "execution_count": 3,
   "id": "b6161c1e-20ed-4764-b9db-83a6ecdb4ce0",
   "metadata": {},
   "outputs": [
    {
     "name": "stdout",
     "output_type": "stream",
     "text": [
      "Saved labeled image to /app/yolo_structure/adjust_label_img/Hongcheon_wonchang4brdg_20201021_1630_WED_15m_NH_highway_OW2_sunny_FHD_119.jpg /  1000)\n",
      "Saved labeled image to /app/yolo_structure/adjust_label_img/Hongcheon_guljitunnel_20201021_0930_WED_15m_NH_highway_TW2_sunny_FHD_158.jpg /  2000)\n",
      "Saved labeled image to /app/yolo_structure/adjust_label_img/Cheonan_gangjeong_20201020_0930_TUE_15m_RH_highway_TW3_fog_FHD 1890.jpg /  3000)\n",
      "Saved labeled image to /app/yolo_structure/adjust_label_img/Hongcheon_guljitunnel_20201020_1200_TUE_15m_NH_highway_TW2_sunny_FHD_103.jpg /  4000)\n",
      "Saved labeled image to /app/yolo_structure/adjust_label_img/Cheonan_ogsan_20201019_2100_MON_15m_NH_highway_TW3_sunny_FHD_078.jpg /  5000)\n",
      "Saved labeled image to /app/yolo_structure/adjust_label_img/Cheonan_ogsan_20201021_0900_WED_15m_RH_highway_TW3_sunny_FHD_141.jpg /  6000)\n",
      "Saved labeled image to /app/yolo_structure/adjust_label_img/Hongcheon_seomgangbrdg_20201020_0930_TUE_15m_NH_highway_TW2_sunny_FHD_093.jpg /  7000)\n",
      "Saved labeled image to /app/yolo_structure/adjust_label_img/Gangneung_wichon2brdg_20201021_1700_WED_15m_NH_highway_TW2_sunny_FHD_158.jpg /  8000)\n",
      "Saved labeled image to /app/yolo_structure/adjust_label_img/Hongcheon_guljitunnel_20201020_1330_TUE_15m_NH_highway_TW2_sunny_FHD_052.jpg /  9000)\n",
      "Saved labeled image to /app/yolo_structure/adjust_label_img/Cheonan_gangjeong_20201019_1600_MON_15m_RH_highway_TW3_sunny_FHD_171.jpg /  10000)\n",
      "Saved labeled image to /app/yolo_structure/adjust_label_img/Hongcheon_guljitunnel_20201020_1430_TUE_15m_NH_highway_TW2_sunny_FHD_011.jpg /  11000)\n",
      "Saved labeled image to /app/yolo_structure/adjust_label_img/Cheonan_gangjeong_20201020_0930_TUE_15m_RH_highway_TW3_fog_FHD 0427.jpg /  12000)\n",
      "Saved labeled image to /app/yolo_structure/adjust_label_img/Hongcheon_seomgangbrdg_20201020_0800_TUE_15m_NH_highway_TW2_sunny_FHD_019.jpg /  13000)\n",
      "Saved labeled image to /app/yolo_structure/adjust_label_img/Hongcheon_seomgangbrdg_20201021_1130_WED_15m_NH_highway_TW2_sunny_FHD_104.jpg /  14000)\n",
      "Saved labeled image to /app/yolo_structure/adjust_label_img/Cheonan_gangjeong_20201019_1700_MON_15m_NH_highway_TW3_sunny_FHD_080.jpg /  15000)\n",
      "Saved labeled image to /app/yolo_structure/adjust_label_img/Cheonan_gangjeong_20201021_1300_WED_15m_NH_highway_TW3_sunny_FHD_058.jpg /  16000)\n",
      "Saved labeled image to /app/yolo_structure/adjust_label_img/Cheonan_ogsan_20201020_0700_TUE_15m_NH_highway_TW3_fog_FHD_093.jpg /  17000)\n",
      "Saved labeled image to /app/yolo_structure/adjust_label_img/Cheonan_gangjeong_20201020_1730_TUE_15m_RH_highway_TW3_sunny_FHD_043.jpg /  18000)\n"
     ]
    }
   ],
   "source": [
    "image_dir = f\"{origin_dir}/yolo_structure/origin_img/\"  # Directory containing PNG files\n",
    "output_dir = f\"{origin_dir}/yolo_structure/adjust_label_img/\"  # Directory to save labeled JPG images\n",
    "xml_file_dir = f\"{origin_dir}/yolo_structure/adjust_label_xml/\"\n",
    "\n",
    "for xml_file_name in os.listdir(xml_file_dir):\n",
    "    if 'ipynb' in xml_file_name:\n",
    "        continue\n",
    "    # Run the process\n",
    "    process_files(xml_file_dir +xml_file_name, image_dir, output_dir)"
   ]
  },
  {
   "cell_type": "code",
   "execution_count": null,
   "id": "860761dc-b657-46e5-b932-044d629e9a06",
   "metadata": {},
   "outputs": [],
   "source": []
  },
  {
   "cell_type": "code",
   "execution_count": 4,
   "id": "59a94b9b-36f6-41a3-9d66-61fdd02e3e0d",
   "metadata": {
    "scrolled": true
   },
   "outputs": [
    {
     "name": "stdout",
     "output_type": "stream",
     "text": [
      "Saved labeled image to /app/yolo_structure/adjust_label_img/Gangneung_wichon2brdg_20201021_1300_WED_15m_NH_highway_TW2_sunny_FHD_163.jpg /  19000)\n"
     ]
    }
   ],
   "source": [
    "image_dir = f\"{origin_dir}/yolo_structure/origin_img/\"  # Directory containing PNG files\n",
    "output_dir = f\"{origin_dir}/yolo_structure/adjust_label_img/\"  # Directory to save labeled JPG images\n",
    "xml_file_dir = f\"{origin_dir}/yolo_structure/adjust_label_xml/\"\n",
    "\n",
    "for xml_file_name in os.listdir(xml_file_dir):\n",
    "    if 'ipynb' in xml_file_name:\n",
    "        continue\n",
    "    # Run the process\n",
    "    process_files_test(xml_file_dir + xml_file_name, image_dir, output_dir, \"Gangneung_wichon2brdg_20201021_1300_WED_15m_NH_highway_TW2_sunny_FHD\")\n",
    "    # process_files(xml_file_name, image_dir, output_dir)"
   ]
  },
  {
   "cell_type": "code",
   "execution_count": null,
   "id": "7e42ee5f-b7da-4b87-aca2-7988bfbea025",
   "metadata": {},
   "outputs": [],
   "source": [
    "Cheonan_ogsan_20201020_1230_TUE_15m_NH_highway_TW3_sunny_FHD"
   ]
  },
  {
   "cell_type": "code",
   "execution_count": 6,
   "id": "00ab15e3-0a3f-4751-9ca8-c1f83b17ef3b",
   "metadata": {},
   "outputs": [
    {
     "name": "stdout",
     "output_type": "stream",
     "text": [
      "Cheonan_ogsan_20201020_1230_TUE_15m_NH_highway_TW3_sunny_FHD.xml\n",
      ".ipynb_checkpoints\n"
     ]
    }
   ],
   "source": [
    "xml_file_dir = f\"{origin_dir}/yolo_structure/adjust_label_xml/\"\n",
    "xml_area_l = []\n",
    "for xml_file_name in os.listdir(xml_file_dir):\n",
    "\n",
    "    adjust_xml_file = f\"{xml_file_dir}/{xml_file_name}\"\n",
    "\n",
    "    tree = ET.parse(adjust_xml_file)\n",
    "    root = tree.getroot()\n",
    "    objects = []\n",
    "    for obj in root.findall(\"object\"):\n",
    "        label = obj.find(\"name\").text\n",
    "        bbox = obj.find(\"bndbox\")\n",
    "        xmin = int(bbox.find(\"xmin\").text)\n",
    "        ymin = int(bbox.find(\"ymin\").text)\n",
    "        xmax = int(bbox.find(\"xmax\").text)\n",
    "        ymax = int(bbox.find(\"ymax\").text)\n",
    "        objects.append((label, xmin, ymin, xmax, ymax))\n",
    "        print(label)\n",
    "    \n"
   ]
  },
  {
   "cell_type": "code",
   "execution_count": null,
   "id": "79faf273-3ae1-4df4-9825-c59aac61b2d0",
   "metadata": {},
   "outputs": [],
   "source": []
  },
  {
   "cell_type": "code",
   "execution_count": null,
   "id": "eafd0d2a-7dcf-4a03-8125-21b6cb8f85bd",
   "metadata": {},
   "outputs": [],
   "source": []
  },
  {
   "cell_type": "code",
   "execution_count": 32,
   "id": "9c1313b7",
   "metadata": {},
   "outputs": [],
   "source": [
    "xml_file = \"adjust_label_xml/Suwon_CH01_20200720_1730_MON_9m_NH_highway_TW5_sunny_FHD.xml\""
   ]
  },
  {
   "cell_type": "code",
   "execution_count": 33,
   "id": "757e44bc",
   "metadata": {},
   "outputs": [],
   "source": [
    "tree = ET.parse(xml_file)\n",
    "root = tree.getroot()\n",
    "objects = []\n",
    "for obj in root.findall(\"object\"):\n",
    "    label = obj.find(\"name\").text\n",
    "    bbox = obj.find(\"bndbox\")\n",
    "    xmin = int(bbox.find(\"xmin\").text)\n",
    "    ymin = int(bbox.find(\"ymin\").text)\n",
    "    xmax = int(bbox.find(\"xmax\").text)\n",
    "    ymax = int(bbox.find(\"ymax\").text)\n",
    "    objects.append((label, xmin, ymin, xmax, ymax))\n",
    "    print(label)\n"
   ]
  },
  {
   "cell_type": "code",
   "execution_count": 34,
   "id": "924b005c",
   "metadata": {},
   "outputs": [],
   "source": [
    "def parse_xml(xml_file):\n",
    "    \"\"\"\n",
    "    Parse the XML file to extract image annotations.\n",
    "    \"\"\"\n",
    "    tree = ET.parse(xml_file)\n",
    "    root = tree.getroot()\n",
    "    annotations = {}\n",
    "\n",
    "    for image in root.findall(\"image\"):\n",
    "        image_name = image.attrib[\"name\"]\n",
    "        width = int(image.attrib[\"width\"])\n",
    "        height = int(image.attrib[\"height\"])\n",
    "        boxes = []\n",
    "\n",
    "        for box in image.findall(\"box\"):\n",
    "            label = box.attrib[\"label\"]\n",
    "            xtl = int(float(box.attrib[\"xtl\"]))\n",
    "            ytl = int(float(box.attrib[\"ytl\"]))\n",
    "            xbr = int(float(box.attrib[\"xbr\"]))\n",
    "            ybr = int(float(box.attrib[\"ybr\"]))\n",
    "            boxes.append((label, xtl, ytl, xbr, ybr))\n",
    "        \n",
    "        annotations[image_name] = {\"width\": width, \"height\": height, \"boxes\": boxes}\n",
    "    \n",
    "    return annotations\n",
    "\n",
    "def overlay_labels(image_path, annotations, output_dir):\n",
    "    \"\"\"\n",
    "    Overlay labels and bounding boxes on the image and save as JPG.\n",
    "    \"\"\"\n",
    "    image_name = os.path.basename(image_path)\n",
    "    if image_name not in annotations:\n",
    "        print(f\"No annotations found for {image_name}. Skipping...\")\n",
    "        return\n",
    "\n",
    "    image = cv2.imread(image_path)\n",
    "    data = annotations[image_name]\n",
    "    \n",
    "    for box in data[\"boxes\"]:\n",
    "        label, xtl, ytl, xbr, ybr = box\n",
    "        # Draw bounding box\n",
    "        cv2.rectangle(image, (xtl, ytl), (xbr, ybr), (0, 255, 0), 2)\n",
    "        # Add label text\n",
    "        cv2.putText(image, label, (xtl, ytl - 10), cv2.FONT_HERSHEY_SIMPLEX, 0.5, (0, 255, 0), 2)\n",
    "\n",
    "    # Save the image as JPG\n",
    "    output_file = os.path.join(output_dir, image_name.replace(\".png\", \".jpg\"))\n",
    "    cv2.imwrite(output_file, image)\n",
    "    print(f\"Saved labeled image to {output_file}\")"
   ]
  },
  {
   "cell_type": "code",
   "execution_count": 35,
   "id": "3c50a473",
   "metadata": {},
   "outputs": [
    {
     "name": "stdout",
     "output_type": "stream",
     "text": [
      "Saved labeled image to ./adjust_label_img/Suwon_CH01_20200720_1730_MON_9m_NH_highway_TW5_sunny_FHD_014.jpg\n",
      "Saved labeled image to ./adjust_label_img/Suwon_CH01_20200720_1730_MON_9m_NH_highway_TW5_sunny_FHD_009.jpg\n",
      "Saved labeled image to ./adjust_label_img/Suwon_CH01_20200720_1730_MON_9m_NH_highway_TW5_sunny_FHD_006.jpg\n",
      "Saved labeled image to ./adjust_label_img/Suwon_CH01_20200720_1730_MON_9m_NH_highway_TW5_sunny_FHD_002.jpg\n",
      "Saved labeled image to ./adjust_label_img/Suwon_CH01_20200720_1730_MON_9m_NH_highway_TW5_sunny_FHD_003.jpg\n"
     ]
    }
   ],
   "source": [
    "\n",
    "def process_files(xml_file, image_dir, output_dir):\n",
    "    \"\"\"\n",
    "    Process XML and PNG files, overlay labels, and save as JPG.\n",
    "    \"\"\"\n",
    "    os.makedirs(output_dir, exist_ok=True)\n",
    "    annotations = parse_xml(xml_file)\n",
    "\n",
    "    for file in os.listdir(image_dir):\n",
    "        if file.endswith(\".png\"):\n",
    "            image_path = os.path.join(image_dir, file)\n",
    "            overlay_labels(image_path, annotations, output_dir)\n",
    "\n",
    "image_dir = \"./origin_img/\"  # Directory containing PNG files\n",
    "output_dir = \"./adjust_label_img/\"  # Directory to save labeled JPG images\n",
    "\n",
    "# Run the process\n",
    "process_files(xml_file, image_dir, output_dir)"
   ]
  },
  {
   "cell_type": "code",
   "execution_count": null,
   "id": "fd3d675c",
   "metadata": {},
   "outputs": [],
   "source": []
  }
 ],
 "metadata": {
  "kernelspec": {
   "display_name": "Python 3 (ipykernel)",
   "language": "python",
   "name": "python3"
  },
  "language_info": {
   "codemirror_mode": {
    "name": "ipython",
    "version": 3
   },
   "file_extension": ".py",
   "mimetype": "text/x-python",
   "name": "python",
   "nbconvert_exporter": "python",
   "pygments_lexer": "ipython3",
   "version": "3.12.2"
  }
 },
 "nbformat": 4,
 "nbformat_minor": 5
}
