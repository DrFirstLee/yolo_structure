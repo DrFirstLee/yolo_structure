{
 "cells": [
  {
   "cell_type": "code",
   "execution_count": 31,
   "id": "1409b830",
   "metadata": {},
   "outputs": [],
   "source": [
    "import cv2\n",
    "import os\n",
    "import xml.etree.ElementTree as ET"
   ]
  },
  {
   "cell_type": "code",
   "execution_count": 32,
   "id": "9c1313b7",
   "metadata": {},
   "outputs": [],
   "source": [
    "xml_file = \"adjust_label_xml/Suwon_CH01_20200720_1730_MON_9m_NH_highway_TW5_sunny_FHD.xml\""
   ]
  },
  {
   "cell_type": "code",
   "execution_count": 33,
   "id": "757e44bc",
   "metadata": {},
   "outputs": [],
   "source": [
    "tree = ET.parse(xml_file)\n",
    "root = tree.getroot()\n",
    "objects = []\n",
    "for obj in root.findall(\"object\"):\n",
    "    label = obj.find(\"name\").text\n",
    "    bbox = obj.find(\"bndbox\")\n",
    "    xmin = int(bbox.find(\"xmin\").text)\n",
    "    ymin = int(bbox.find(\"ymin\").text)\n",
    "    xmax = int(bbox.find(\"xmax\").text)\n",
    "    ymax = int(bbox.find(\"ymax\").text)\n",
    "    objects.append((label, xmin, ymin, xmax, ymax))\n",
    "    print(label)\n"
   ]
  },
  {
   "cell_type": "code",
   "execution_count": 34,
   "id": "924b005c",
   "metadata": {},
   "outputs": [],
   "source": [
    "def parse_xml(xml_file):\n",
    "    \"\"\"\n",
    "    Parse the XML file to extract image annotations.\n",
    "    \"\"\"\n",
    "    tree = ET.parse(xml_file)\n",
    "    root = tree.getroot()\n",
    "    annotations = {}\n",
    "\n",
    "    for image in root.findall(\"image\"):\n",
    "        image_name = image.attrib[\"name\"]\n",
    "        width = int(image.attrib[\"width\"])\n",
    "        height = int(image.attrib[\"height\"])\n",
    "        boxes = []\n",
    "\n",
    "        for box in image.findall(\"box\"):\n",
    "            label = box.attrib[\"label\"]\n",
    "            xtl = int(float(box.attrib[\"xtl\"]))\n",
    "            ytl = int(float(box.attrib[\"ytl\"]))\n",
    "            xbr = int(float(box.attrib[\"xbr\"]))\n",
    "            ybr = int(float(box.attrib[\"ybr\"]))\n",
    "            boxes.append((label, xtl, ytl, xbr, ybr))\n",
    "        \n",
    "        annotations[image_name] = {\"width\": width, \"height\": height, \"boxes\": boxes}\n",
    "    \n",
    "    return annotations\n",
    "\n",
    "def overlay_labels(image_path, annotations, output_dir):\n",
    "    \"\"\"\n",
    "    Overlay labels and bounding boxes on the image and save as JPG.\n",
    "    \"\"\"\n",
    "    image_name = os.path.basename(image_path)\n",
    "    if image_name not in annotations:\n",
    "        print(f\"No annotations found for {image_name}. Skipping...\")\n",
    "        return\n",
    "\n",
    "    image = cv2.imread(image_path)\n",
    "    data = annotations[image_name]\n",
    "    \n",
    "    for box in data[\"boxes\"]:\n",
    "        label, xtl, ytl, xbr, ybr = box\n",
    "        # Draw bounding box\n",
    "        cv2.rectangle(image, (xtl, ytl), (xbr, ybr), (0, 255, 0), 2)\n",
    "        # Add label text\n",
    "        cv2.putText(image, label, (xtl, ytl - 10), cv2.FONT_HERSHEY_SIMPLEX, 0.5, (0, 255, 0), 2)\n",
    "\n",
    "    # Save the image as JPG\n",
    "    output_file = os.path.join(output_dir, image_name.replace(\".png\", \".jpg\"))\n",
    "    cv2.imwrite(output_file, image)\n",
    "    print(f\"Saved labeled image to {output_file}\")"
   ]
  },
  {
   "cell_type": "code",
   "execution_count": 35,
   "id": "3c50a473",
   "metadata": {},
   "outputs": [
    {
     "name": "stdout",
     "output_type": "stream",
     "text": [
      "Saved labeled image to ./adjust_label_img/Suwon_CH01_20200720_1730_MON_9m_NH_highway_TW5_sunny_FHD_014.jpg\n",
      "Saved labeled image to ./adjust_label_img/Suwon_CH01_20200720_1730_MON_9m_NH_highway_TW5_sunny_FHD_009.jpg\n",
      "Saved labeled image to ./adjust_label_img/Suwon_CH01_20200720_1730_MON_9m_NH_highway_TW5_sunny_FHD_006.jpg\n",
      "Saved labeled image to ./adjust_label_img/Suwon_CH01_20200720_1730_MON_9m_NH_highway_TW5_sunny_FHD_002.jpg\n",
      "Saved labeled image to ./adjust_label_img/Suwon_CH01_20200720_1730_MON_9m_NH_highway_TW5_sunny_FHD_003.jpg\n"
     ]
    }
   ],
   "source": [
    "\n",
    "def process_files(xml_file, image_dir, output_dir):\n",
    "    \"\"\"\n",
    "    Process XML and PNG files, overlay labels, and save as JPG.\n",
    "    \"\"\"\n",
    "    os.makedirs(output_dir, exist_ok=True)\n",
    "    annotations = parse_xml(xml_file)\n",
    "\n",
    "    for file in os.listdir(image_dir):\n",
    "        if file.endswith(\".png\"):\n",
    "            image_path = os.path.join(image_dir, file)\n",
    "            overlay_labels(image_path, annotations, output_dir)\n",
    "\n",
    "image_dir = \"./origin_img/\"  # Directory containing PNG files\n",
    "output_dir = \"./adjust_label_img/\"  # Directory to save labeled JPG images\n",
    "\n",
    "# Run the process\n",
    "process_files(xml_file, image_dir, output_dir)"
   ]
  },
  {
   "cell_type": "code",
   "execution_count": null,
   "id": "fd3d675c",
   "metadata": {},
   "outputs": [],
   "source": []
  }
 ],
 "metadata": {
  "kernelspec": {
   "display_name": "Python 3 (ipykernel)",
   "language": "python",
   "name": "python3"
  },
  "language_info": {
   "codemirror_mode": {
    "name": "ipython",
    "version": 3
   },
   "file_extension": ".py",
   "mimetype": "text/x-python",
   "name": "python",
   "nbconvert_exporter": "python",
   "pygments_lexer": "ipython3",
   "version": "3.11.4"
  }
 },
 "nbformat": 4,
 "nbformat_minor": 5
}
