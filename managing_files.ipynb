{
 "cells": [
  {
   "cell_type": "code",
   "execution_count": 21,
   "id": "a561a5c1-5b2d-4d9c-bc25-3b1c40364717",
   "metadata": {},
   "outputs": [],
   "source": [
    "import os\n",
    "\n",
    "# Directory to search\n",
    "directory = r\"/home/smartride/DrFirst/aihub/100.교통문제_해결을_위한_CCTV_교통_데이터(고속도로)/01.데이터/1.Training/원천데이터/바운딩박스\"\n",
    "directory = \"/app/aihub/cctv_164/data/Training/rawdata/bounding_box\""
   ]
  },
  {
   "cell_type": "code",
   "execution_count": 22,
   "id": "623f2e4b-0d12-421d-b822-4d8de2e4fb42",
   "metadata": {},
   "outputs": [],
   "source": [
    "os.chdir(directory)"
   ]
  },
  {
   "cell_type": "code",
   "execution_count": 23,
   "id": "84864abe-9eae-4116-ad46-32ba556c5aea",
   "metadata": {},
   "outputs": [
    {
     "name": "stdout",
     "output_type": "stream",
     "text": [
      "Total PNG files: 11728\n"
     ]
    }
   ],
   "source": [
    "# Initialize counter\n",
    "png_count = 0\n",
    "\n",
    "# Walk through the directory\n",
    "for root, _, files in os.walk(directory):\n",
    "    # Count .png files\n",
    "    png_count += sum(1 for file in files if file.lower().endswith('.png'))\n",
    "\n",
    "# Print the count\n",
    "print(f\"Total PNG files: {png_count}\")\n"
   ]
  },
  {
   "cell_type": "markdown",
   "id": "db7becc2-a708-42a2-9845-5296c49e8873",
   "metadata": {},
   "source": [
    "# copy"
   ]
  },
  {
   "cell_type": "code",
   "execution_count": 11,
   "id": "cd5682e7-4948-4def-88d9-b8f0136ec0d8",
   "metadata": {},
   "outputs": [
    {
     "name": "stdout",
     "output_type": "stream",
     "text": [
      "All (11728) .png files have been copied to /app/yolo_structure/origin_img\n"
     ]
    }
   ],
   "source": [
    "import os\n",
    "import shutil\n",
    "\n",
    "# Source and destination directories\n",
    "source_dir = \"/app/aihub/cctv_164/data/Training/rawdata/bounding_box\"\n",
    "destination_dir = \"/app/yolo_structure/origin_img\"\n",
    "\n",
    "# Ensure the destination directory exists\n",
    "os.makedirs(destination_dir, exist_ok=True)\n",
    "\n",
    "# Walk through the source directory\n",
    "cnt = 0 \n",
    "\n",
    "for root, _, files in os.walk(source_dir):\n",
    "    for file in files:\n",
    "        if file.lower().endswith('.png'):  # Check for .png files\n",
    "            src_file_path = os.path.join(root, file)\n",
    "            dst_file_path = os.path.join(destination_dir, file)\n",
    "            \n",
    "            # Copy the file to the destination directory\n",
    "            shutil.copy2(src_file_path, dst_file_path)\n",
    "            cnt +=1\n",
    "\n",
    "print(f\"All ({cnt}) .png files have been copied to {destination_dir}\")\n"
   ]
  },
  {
   "cell_type": "code",
   "execution_count": null,
   "id": "e885a9bf-b341-431d-b6bd-c5610d8c9ddc",
   "metadata": {},
   "outputs": [],
   "source": []
  },
  {
   "cell_type": "markdown",
   "id": "3b00dae8-444d-4a6a-8fa1-026a14a77e20",
   "metadata": {},
   "source": [
    "# CNT files"
   ]
  },
  {
   "cell_type": "code",
   "execution_count": 33,
   "id": "69eabc03-8fa3-4e14-89eb-0ea8adb9fe94",
   "metadata": {},
   "outputs": [
    {
     "name": "stdout",
     "output_type": "stream",
     "text": [
      "All (79521) .png files \n"
     ]
    },
    {
     "data": {
      "text/plain": [
       "['Buan', 'Cheonan', 'Jeonju', 'Gangneung', 'Hongcheon']"
      ]
     },
     "execution_count": 33,
     "metadata": {},
     "output_type": "execute_result"
    }
   ],
   "source": [
    "img_dir  = \"/app/aihub/all_data/img\"\n",
    "# Walk through the source directory\n",
    "cnt = 0 \n",
    "img_area_l = []\n",
    "for root, _, files in os.walk(img_dir):\n",
    "    for file in files:\n",
    "        if file.lower().endswith('.png'):  # Check for .png files\n",
    "            cnt +=1\n",
    "            area_name = file.split(\"_\")[0]\n",
    "            if area_name not in img_area_l:\n",
    "                img_area_l.append(area_name)\n",
    "print(f\"All ({cnt}) .png files \")\n",
    "img_area_l"
   ]
  },
  {
   "cell_type": "code",
   "execution_count": 35,
   "id": "d5cec865-864c-43cc-8472-8887316a50f1",
   "metadata": {},
   "outputs": [
    {
     "name": "stdout",
     "output_type": "stream",
     "text": [
      "All (1600) .xml files \n"
     ]
    },
    {
     "data": {
      "text/plain": [
       "['Buan', 'Jeonju', 'Suwon', 'Gangneung', 'Busan', 'Cheonan', 'Hongcheon']"
      ]
     },
     "execution_count": 35,
     "metadata": {},
     "output_type": "execute_result"
    }
   ],
   "source": [
    "img_dir  = \"/app/aihub/all_data/label\"\n",
    "# Walk through the source directory\n",
    "xml_area_l = []\n",
    "cnt = 0 \n",
    "for root, _, files in os.walk(img_dir):\n",
    "    for file in files:\n",
    "        if file.lower().endswith('.xml'):  # Check for .png files\n",
    "            cnt +=1\n",
    "            area_name = file.split(\"_\")[0]\n",
    "            if area_name not in xml_area_l:\n",
    "                xml_area_l.append(area_name)\n",
    "print(f\"All ({cnt}) .xml files \")\n",
    "xml_area_l"
   ]
  },
  {
   "cell_type": "code",
   "execution_count": null,
   "id": "cd1d9353-97b4-4707-84f2-8585e5a13727",
   "metadata": {},
   "outputs": [],
   "source": []
  },
  {
   "cell_type": "code",
   "execution_count": 32,
   "id": "0078d59f-e155-4f7b-8a6b-1b0412858d9f",
   "metadata": {},
   "outputs": [
    {
     "name": "stdout",
     "output_type": "stream",
     "text": [
      "All (11728) .png files \n"
     ]
    },
    {
     "data": {
      "text/plain": [
       "['Cheonan']"
      ]
     },
     "execution_count": 32,
     "metadata": {},
     "output_type": "execute_result"
    }
   ],
   "source": [
    "img_dir  = \"/app/yolo_structure/origin_img\"\n",
    "# Walk through the source directory\n",
    "cnt = 0 \n",
    "img_area_l = []\n",
    "for root, _, files in os.walk(img_dir):\n",
    "    for file in files:\n",
    "        if file.lower().endswith('.png'):  # Check for .png files\n",
    "            cnt +=1\n",
    "            area_name = file.split(\"_\")[0]\n",
    "            if area_name not in img_area_l:\n",
    "                img_area_l.append(area_name)\n",
    "print(f\"All ({cnt}) .png files \")\n",
    "img_area_l"
   ]
  },
  {
   "cell_type": "code",
   "execution_count": 31,
   "id": "fde60cfc-99ef-4960-9fa2-0a5f5a04e15c",
   "metadata": {},
   "outputs": [
    {
     "name": "stdout",
     "output_type": "stream",
     "text": [
      "All (1600) .xml files \n"
     ]
    },
    {
     "data": {
      "text/plain": [
       "['Buan', 'Jeonju', 'Suwon', 'Gangneung', 'Busan', 'Cheonan', 'Hongcheon']"
      ]
     },
     "execution_count": 31,
     "metadata": {},
     "output_type": "execute_result"
    }
   ],
   "source": [
    "img_dir  = \"/app/yolo_structure/origin_label_xml\"\n",
    "# Walk through the source directory\n",
    "xml_area_l = []\n",
    "cnt = 0 \n",
    "for root, _, files in os.walk(img_dir):\n",
    "    for file in files:\n",
    "        if file.lower().endswith('.xml'):  # Check for .png files\n",
    "            cnt +=1\n",
    "            area_name = file.split(\"_\")[0]\n",
    "            if area_name not in xml_area_l:\n",
    "                xml_area_l.append(area_name)\n",
    "print(f\"All ({cnt}) .xml files \")\n",
    "xml_area_l"
   ]
  },
  {
   "cell_type": "markdown",
   "id": "02d2450e-2aed-4876-b04d-ad3c827d6c5a",
   "metadata": {},
   "source": [
    "# label check"
   ]
  },
  {
   "cell_type": "code",
   "execution_count": 15,
   "id": "b1a9bb4f-4b24-448e-84ef-f46f8a3a9306",
   "metadata": {},
   "outputs": [],
   "source": [
    "# Source and destination directories\n",
    "label_dir = \"/app/yolo_structure/origin_label_xml\""
   ]
  },
  {
   "cell_type": "code",
   "execution_count": 16,
   "id": "ec3dd6c4-da68-40d5-a747-f48f4ec72fd5",
   "metadata": {},
   "outputs": [
    {
     "name": "stdout",
     "output_type": "stream",
     "text": [
      "Number of XML files in '/app/yolo_structure/origin_label_xml': 1600\n"
     ]
    }
   ],
   "source": [
    "# Count .xml files\n",
    "if os.path.exists(label_dir):\n",
    "    xml_count = sum(1 for file in os.listdir(label_dir) if file.lower().endswith('.xml'))\n",
    "    print(f\"Number of XML files in '{label_dir}': {xml_count}\")\n",
    "else:\n",
    "    print(f\"The directory '{label_dir}' does not exist.\")\n"
   ]
  },
  {
   "cell_type": "code",
   "execution_count": null,
   "id": "75298cd2-7e50-49d0-a3ba-0471d02b7972",
   "metadata": {},
   "outputs": [],
   "source": []
  },
  {
   "cell_type": "code",
   "execution_count": null,
   "id": "78221992-1baf-44f4-96e8-e5ce6fdf81b6",
   "metadata": {},
   "outputs": [],
   "source": []
  },
  {
   "cell_type": "markdown",
   "id": "71060bf9-94b7-440c-9f15-265c6e662591",
   "metadata": {},
   "source": [
    "# Area"
   ]
  },
  {
   "cell_type": "code",
   "execution_count": 36,
   "id": "2b63a09d-d962-49ea-88f9-9157a9537bf4",
   "metadata": {},
   "outputs": [
    {
     "name": "stdout",
     "output_type": "stream",
     "text": [
      "Unique Values: {'Jeonju', 'Buan', 'Hongcheon', 'Cheonan', 'Gangneung'}\n"
     ]
    }
   ],
   "source": [
    "import os\n",
    "\n",
    "# 디렉터리 경로 설정\n",
    "directory_path = \"/app/aihub/all_data/img\"\n",
    "directory_path = os.path.expanduser(directory_path)  # ~를 절대경로로 변환\n",
    "\n",
    "# 파일명에서 첫 번째 단어 추출 후 고유값 찾기\n",
    "unique_values = set()\n",
    "\n",
    "if os.path.exists(directory_path):\n",
    "    for file_name in os.listdir(directory_path):\n",
    "        if file_name.endswith(\".png\"):  # .png 파일만 처리\n",
    "            first_word = file_name.split(\"_\")[0]  # '_'로 split 후 첫 번째 단어 추출\n",
    "            unique_values.add(first_word)  # 고유값 저장\n",
    "else:\n",
    "    print(f\"디렉터리 '{directory_path}'가 존재하지 않습니다.\")\n",
    "\n",
    "# 고유값 출력\n",
    "print(\"Unique Values:\", unique_values)"
   ]
  },
  {
   "cell_type": "code",
   "execution_count": null,
   "id": "42d969c6-578c-44f9-8a64-3e45c751c606",
   "metadata": {},
   "outputs": [],
   "source": [
    "> ok : Cheonan Hongcheon Cheonan Gangneung\n",
    "> no : Jeonju Buan\n",
    " "
   ]
  },
  {
   "cell_type": "code",
   "execution_count": 37,
   "id": "95bdb894-3701-4475-89fa-052fff143a3c",
   "metadata": {},
   "outputs": [
    {
     "name": "stdout",
     "output_type": "stream",
     "text": [
      "Number of files containing the keywords: 28010\n"
     ]
    }
   ],
   "source": [
    "import os\n",
    "\n",
    "# 디렉터리 경로 설정\n",
    "directory_path = \"/app/aihub/all_data/img\"\n",
    "\n",
    "# 검색할 키워드 리스트\n",
    "keywords = [\"Cheonan\", \"Hongcheon\", \"Gangneung\"]\n",
    "\n",
    "# 키워드가 포함된 파일 개수 카운트\n",
    "file_count = 0\n",
    "\n",
    "if os.path.exists(directory_path):\n",
    "    # 디렉터리 내 파일 순회\n",
    "    for file_name in os.listdir(directory_path):\n",
    "        # 파일 이름에 키워드가 포함되었는지 확인\n",
    "        if any(keyword in file_name for keyword in keywords):\n",
    "            file_count += 1\n",
    "else:\n",
    "    print(f\"Directory '{directory_path}' does not exist.\")\n",
    "\n",
    "print(f\"Number of files containing the keywords: {file_count}\")\n"
   ]
  },
  {
   "cell_type": "code",
   "execution_count": null,
   "id": "77a89115-679f-4a5a-a0f0-3a9665ec6798",
   "metadata": {},
   "outputs": [],
   "source": []
  }
 ],
 "metadata": {
  "kernelspec": {
   "display_name": "Python 3 (ipykernel)",
   "language": "python",
   "name": "python3"
  },
  "language_info": {
   "codemirror_mode": {
    "name": "ipython",
    "version": 3
   },
   "file_extension": ".py",
   "mimetype": "text/x-python",
   "name": "python",
   "nbconvert_exporter": "python",
   "pygments_lexer": "ipython3",
   "version": "3.12.2"
  }
 },
 "nbformat": 4,
 "nbformat_minor": 5
}
