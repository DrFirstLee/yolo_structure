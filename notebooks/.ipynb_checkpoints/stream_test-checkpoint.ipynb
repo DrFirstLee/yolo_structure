{
 "cells": [
  {
   "cell_type": "code",
   "execution_count": 2,
   "id": "914ab91c-61d1-44dd-adc5-b8dcc3ff3905",
   "metadata": {},
   "outputs": [
    {
     "data": {
      "text/plain": [
       "'/app/yolo_structure/notebooks'"
      ]
     },
     "execution_count": 2,
     "metadata": {},
     "output_type": "execute_result"
    }
   ],
   "source": [
    "import os\n",
    "os.getcwd()"
   ]
  },
  {
   "cell_type": "code",
   "execution_count": 6,
   "id": "567108fc-82c3-425a-b759-c59bddb7c784",
   "metadata": {},
   "outputs": [
    {
     "name": "stdout",
     "output_type": "stream",
     "text": [
      "VIDEO SETTING // frame_width : 640 , frame_height : 480, fps : 30\n",
      "스트림 저장을 시작합니다...\n",
      "동영상이 '/app/yolo_structure/results/test_stream.avi' 파일로 저장되었습니다.\n"
     ]
    }
   ],
   "source": [
    "import cv2\n",
    "\n",
    "# RTSP 스트림 URL\n",
    "rtsp_url = \"rtsp://210.99.70.120:1935/live/cctv001.stream\"\n",
    "\n",
    "# OpenCV로 스트림 열기\n",
    "cap = cv2.VideoCapture(rtsp_url)\n",
    "\n",
    "# 동영상 저장 설정\n",
    "output_filename = \"/app/yolo_structure/results/test_stream.avi\"\n",
    "# output_filename = \"test_release.avi\"\n",
    "frame_width = int(cap.get(cv2.CAP_PROP_FRAME_WIDTH))  # 프레임 너비\n",
    "frame_height = int(cap.get(cv2.CAP_PROP_FRAME_HEIGHT))  # 프레임 높이\n",
    "fps = 30 # int(cap.get(cv2.CAP_PROP_FPS)) if int(cap.get(cv2.CAP_PROP_FPS)) > 0 else 25  # FPS 기본값 25\n",
    "\n",
    "print(f\"VIDEO SETTING // frame_width : {frame_width} , frame_height : {frame_height}, fps : {fps}\")\n",
    "# VideoWriter 객체 생성 (코덱: MP4V)\n",
    "# fourcc = cv2.VideoWriter_fourcc(*\"mp4v\")\n",
    "fourcc = cv2.VideoWriter_fourcc(*'H264')  # XVID 사용\n",
    "out = cv2.VideoWriter(output_filename, fourcc, fps, (frame_width, frame_height))\n",
    "\n",
    "if not cap.isOpened():\n",
    "    print(\"스트림을 열 수 없습니다.\")\n",
    "    exit()\n",
    "\n",
    "print(\"스트림 저장을 시작합니다...\")\n",
    "\n",
    "FRAME_MAX_NUM = 900\n",
    "frame_num = 0\n",
    "while True:\n",
    "    frame_num += 1\n",
    "    ret, frame = cap.read()\n",
    "    if not ret:\n",
    "        print(\"스트림을 불러오지 못했습니다.\")\n",
    "        break\n",
    "\n",
    "    # 동영상 파일로 저장\n",
    "    out.write(frame)\n",
    "\n",
    "    if frame_num > FRAME_MAX_NUM:\n",
    "        break\n",
    "\n",
    "# 자원 해제\n",
    "cap.release()\n",
    "out.release()\n",
    "cv2.destroyAllWindows()\n",
    "\n",
    "print(f\"동영상이 '{output_filename}' 파일로 저장되었습니다.\")\n"
   ]
  },
  {
   "cell_type": "code",
   "execution_count": null,
   "id": "7918d029-5463-4d28-9e46-19ec406fcfb3",
   "metadata": {},
   "outputs": [],
   "source": []
  },
  {
   "cell_type": "code",
   "execution_count": null,
   "id": "d5eae053-0ef0-4ef9-a3aa-e73bf2df7f3f",
   "metadata": {},
   "outputs": [],
   "source": []
  },
  {
   "cell_type": "code",
   "execution_count": null,
   "id": "9edbf534-51a9-478d-bfa6-9d033b54f856",
   "metadata": {},
   "outputs": [],
   "source": []
  },
  {
   "cell_type": "code",
   "execution_count": 8,
   "id": "c82d5ef7-52ff-476c-975e-0b4af3bbd165",
   "metadata": {},
   "outputs": [
    {
     "name": "stderr",
     "output_type": "stream",
     "text": [
      "[mpeg4 @ 0x57757fe42ac0] timebase 1/90000 not supported by MPEG 4 standard, the maximum admitted value for the timebase denominator is 65535\n",
      "[ERROR:0@73954.828] global cap_ffmpeg_impl.hpp:3194 open Could not open codec mpeg4, error: Unspecified error (-22)\n",
      "[ERROR:0@73954.828] global cap_ffmpeg_impl.hpp:3211 open VIDEOIO/FFMPEG: Failed to initialize VideoWriter\n",
      "\n",
      "(python:1121): GStreamer-CRITICAL **: 16:15:21.982: gst_element_make_from_uri: assertion 'gst_uri_is_valid (uri)' failed\n",
      "[ WARN:0@73954.828] global cap_gstreamer.cpp:2617 open OpenCV | GStreamer warning: cannot link elements\n"
     ]
    },
    {
     "name": "stdout",
     "output_type": "stream",
     "text": [
      "스트림 저장을 시작합니다...\n",
      "동영상이 '/app/yolo_structure/notebooks/test_release.mp4' 파일로 저장되었습니다.\n"
     ]
    }
   ],
   "source": [
    "import cv2\n",
    "\n",
    "# RTSP 스트림 URL\n",
    "rtsp_url = \"rtsp://210.99.70.120:1935/live/cctv001.stream\"\n",
    "\n",
    "# OpenCV로 스트림 열기\n",
    "cap = cv2.VideoCapture(rtsp_url)\n",
    "\n",
    "# 동영상 저장 설정\n",
    "output_filename = \"/app/yolo_structure/results/test_release.mp4\"\n",
    "output_filename = \"/app/yolo_structure/notebooks/test_release.mp4\"\n",
    "frame_width = int(cap.get(cv2.CAP_PROP_FRAME_WIDTH))  # 프레임 너비\n",
    "frame_height = int(cap.get(cv2.CAP_PROP_FRAME_HEIGHT))  # 프레임 높이\n",
    "fps = int(cap.get(cv2.CAP_PROP_FPS)) if int(cap.get(cv2.CAP_PROP_FPS)) > 0 else 25  # FPS 기본값 25\n",
    "\n",
    "# VideoWriter 객체 생성 (코덱: MP4V)\n",
    "fourcc = cv2.VideoWriter_fourcc(*\"mp4v\")\n",
    "# fourcc = cv2.VideoWriter_fourcc(*'XVID')  # XVID 사용\n",
    "out = cv2.VideoWriter(output_filename, fourcc, fps, (frame_width, frame_height))\n",
    "\n",
    "if not cap.isOpened():\n",
    "    print(\"스트림을 열 수 없습니다.\")\n",
    "    exit()\n",
    "\n",
    "print(\"스트림 저장을 시작합니다...\")\n",
    "\n",
    "FRAME_MAX_NUM = 1000\n",
    "frame_num = 0\n",
    "while True:\n",
    "    frame_num += 1\n",
    "    ret, frame = cap.read()\n",
    "    if not ret:\n",
    "        print(\"스트림을 불러오지 못했습니다.\")\n",
    "        break\n",
    "\n",
    "    # 동영상 파일로 저장\n",
    "    out.write(frame)\n",
    "\n",
    "    if frame_num > FRAME_MAX_NUM:\n",
    "        break\n",
    "\n",
    "# 자원 해제\n",
    "cap.release()\n",
    "out.release()\n",
    "cv2.destroyAllWindows()\n",
    "\n",
    "print(f\"동영상이 '{output_filename}' 파일로 저장되었습니다.\")\n"
   ]
  },
  {
   "cell_type": "code",
   "execution_count": 3,
   "id": "4a3bee60-00d5-44aa-a6a6-7564b1110023",
   "metadata": {},
   "outputs": [
    {
     "name": "stdout",
     "output_type": "stream",
     "text": [
      "VIDEO SETTING // frame_width : 640 , frame_height : 480, fps : 25\n",
      "스트림 저장을 시작합니다...\n",
      "동영상이 'test_release.avi' 파일로 저장되었습니다.\n"
     ]
    }
   ],
   "source": []
  },
  {
   "cell_type": "code",
   "execution_count": 4,
   "id": "c79c0151-14ff-47ac-8f2f-a649d32edcbd",
   "metadata": {},
   "outputs": [
    {
     "data": {
      "text/plain": [
       "40.0"
      ]
     },
     "execution_count": 4,
     "metadata": {},
     "output_type": "execute_result"
    }
   ],
   "source": [
    "1000/25"
   ]
  }
 ],
 "metadata": {
  "kernelspec": {
   "display_name": "Python 3 (ipykernel)",
   "language": "python",
   "name": "python3"
  },
  "language_info": {
   "codemirror_mode": {
    "name": "ipython",
    "version": 3
   },
   "file_extension": ".py",
   "mimetype": "text/x-python",
   "name": "python",
   "nbconvert_exporter": "python",
   "pygments_lexer": "ipython3",
   "version": "3.12.2"
  }
 },
 "nbformat": 4,
 "nbformat_minor": 5
}
