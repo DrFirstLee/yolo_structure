{
 "cells": [
  {
   "cell_type": "code",
   "execution_count": 1,
   "id": "d4553073",
   "metadata": {},
   "outputs": [],
   "source": [
    "import os\n",
    "import xml.etree.ElementTree as ET\n",
    "import random\n",
    "import shutil\n",
    "import yaml\n",
    "\n",
    "def copy_files(file_list, src_dir, dest_dir):\n",
    "    \"\"\"\n",
    "    Copy files from source directory to destination directory based on file list.\n",
    "\n",
    "    Args:\n",
    "        file_list (list): List of filenames to copy.\n",
    "        src_dir (str): Source directory where files are located.\n",
    "        dest_dir (str): Destination directory where files will be copied.\n",
    "    \"\"\"\n",
    "    os.makedirs(dest_dir, exist_ok=True)  # Ensure destination directory exists\n",
    "    for file_name in file_list:\n",
    "        src_path = os.path.join(src_dir, file_name)\n",
    "        dest_path = os.path.join(dest_dir, file_name)\n",
    "        if os.path.exists(src_path):\n",
    "            shutil.copy(src_path, dest_path)\n",
    "            print(f\"Copied {src_path} to {dest_path}\")\n",
    "        else:\n",
    "            print(f\"File not found: {src_path}\")\n",
    "\n",
    "            \n",
    "def convert_to_yolo(xml_file, output_dir):\n",
    "    \"\"\"\n",
    "    Convert XML annotations to YOLO format and save to text files.\n",
    "    \"\"\"\n",
    "    tree = ET.parse(xml_file)\n",
    "    root = tree.getroot()\n",
    "\n",
    "    for image in root.findall(\"image\"):\n",
    "        image_name = image.attrib[\"name\"]\n",
    "        image_width = float(image.attrib[\"width\"])\n",
    "        image_height = float(image.attrib[\"height\"])\n",
    "\n",
    "        yolo_annotations = []\n",
    "        for box in image.findall(\"box\"):\n",
    "            label = box.attrib[\"label\"]\n",
    "            xtl = float(box.attrib[\"xtl\"])\n",
    "            ytl = float(box.attrib[\"ytl\"])\n",
    "            xbr = float(box.attrib[\"xbr\"])\n",
    "            ybr = float(box.attrib[\"ybr\"])\n",
    "\n",
    "            # Convert to YOLO format\n",
    "            x_center = (xtl + xbr) / 2 / image_width\n",
    "            y_center = (ytl + ybr) / 2 / image_height\n",
    "            width = (xbr - xtl) / image_width\n",
    "            height = (ybr - ytl) / image_height\n",
    "\n",
    "            # Assuming label IDs: car=0, truck=1, bus=2 (update as needed)\n",
    "            class_id = {\"car\": 0, \"truck\": 1, \"bus\": 2}[label]\n",
    "            yolo_annotations.append(f\"{class_id} {x_center:.6f} {y_center:.6f} {width:.6f} {height:.6f}\")\n",
    "\n",
    "        # Save YOLO annotations to a text file\n",
    "        label_file = os.path.join(output_dir, os.path.splitext(image_name)[0] + \".txt\")\n",
    "        with open(label_file, \"w\") as f:\n",
    "            f.write(\"\\n\".join(yolo_annotations))\n",
    "        print(f\"Saved YOLO annotations for {image_name} to {label_file}\")\n"
   ]
  },
  {
   "cell_type": "code",
   "execution_count": 2,
   "id": "6bd3decc",
   "metadata": {},
   "outputs": [],
   "source": [
    "def convert_to_yolo(xml_file, output_dir):\n",
    "    \"\"\"\n",
    "    Convert XML annotations to YOLO format and save to text files with modified filenames.\n",
    "    \"\"\"\n",
    "    tree = ET.parse(xml_file)\n",
    "    root = tree.getroot()\n",
    "\n",
    "    image_counter = 1  # Counter to append to filenames\n",
    "\n",
    "    for image in root.findall(\"image\"):\n",
    "        image_name = image.attrib[\"name\"]\n",
    "        image_width = float(image.attrib[\"width\"])\n",
    "        image_height = float(image.attrib[\"height\"])\n",
    "\n",
    "        yolo_annotations = []\n",
    "        for box in image.findall(\"box\"):\n",
    "            label = box.attrib[\"label\"]\n",
    "            xtl = float(box.attrib[\"xtl\"])\n",
    "            ytl = float(box.attrib[\"ytl\"])\n",
    "            xbr = float(box.attrib[\"xbr\"])\n",
    "            ybr = float(box.attrib[\"ybr\"])\n",
    "\n",
    "            # Convert to YOLO format\n",
    "            x_center = (xtl + xbr) / 2 / image_width\n",
    "            y_center = (ytl + ybr) / 2 / image_height\n",
    "            width = (xbr - xtl) / image_width\n",
    "            height = (ybr - ytl) / image_height\n",
    "\n",
    "            # Assuming label IDs: car=0, truck=1, bus=2 (update as needed)\n",
    "            class_id = {\"car\": 0, \"truck\": 1, \"bus\": 2}[label]\n",
    "            yolo_annotations.append(f\"{class_id} {x_center:.6f} {y_center:.6f} {width:.6f} {height:.6f}\")\n",
    "\n",
    "        # Create a modified filename with \"_숫자\" appended\n",
    "        modified_name = f\"{os.path.splitext(image_name)[0]}.txt\"\n",
    "        label_file = os.path.join(output_dir, modified_name)\n",
    "\n",
    "        # Save YOLO annotations to a text file\n",
    "        with open(label_file, \"w\") as f:\n",
    "            f.write(\"\\n\".join(yolo_annotations))\n",
    "        print(f\"Saved YOLO annotations for {image_name} to {label_file}\")\n",
    "\n",
    "        # Increment the counter for the next file\n",
    "        image_counter += 1\n"
   ]
  },
  {
   "cell_type": "code",
   "execution_count": 5,
   "id": "0e080ebf-f79a-4428-a670-2422e50ec7d2",
   "metadata": {},
   "outputs": [
    {
     "data": {
      "text/plain": [
       "'/app/yolo_structure/notebooks'"
      ]
     },
     "execution_count": 5,
     "metadata": {},
     "output_type": "execute_result"
    }
   ],
   "source": [
    "curr_dir"
   ]
  },
  {
   "cell_type": "code",
   "execution_count": 8,
   "id": "bfd81a28",
   "metadata": {},
   "outputs": [],
   "source": [
    "curr_dir = \"/app/yolo_structure\" # os.getcwd()\n",
    "origin_xml_dir =  os.path.join(curr_dir, \"origin_label_xml\")\n",
    "origin_img_dir =  os.path.join(curr_dir, \"origin_img\")\n",
    "label_txt_dir   = os.path.join(curr_dir, \"origin_label_txt\")\n",
    "if not os.path.exists(label_txt_dir):\n",
    "    os.makedirs(label_txt_dir)"
   ]
  },
  {
   "cell_type": "code",
   "execution_count": 9,
   "id": "e754939c",
   "metadata": {},
   "outputs": [
    {
     "data": {
      "text/plain": [
       "[]"
      ]
     },
     "execution_count": 9,
     "metadata": {},
     "output_type": "execute_result"
    }
   ],
   "source": [
    "xml_path = os.path.join(origin_xml_dir)\n",
    "xml_list = os.listdir(xml_path)\n",
    "xml_name_list = []\n",
    "# 이미지 파일 이름 끝이 .png로 끝나므로 .png로 split 후 이름만 가져온다.\n",
    "for file_name in xml_list:\n",
    "    if \".xml\" in file_name:\n",
    "        xml_name_list.append(file_name)\n",
    "xml_name_list"
   ]
  },
  {
   "cell_type": "code",
   "execution_count": 36,
   "id": "42da2b77",
   "metadata": {
    "scrolled": true
   },
   "outputs": [
    {
     "name": "stdout",
     "output_type": "stream",
     "text": [
      "Saved YOLO annotations for Suwon_CH01_20200720_1730_MON_9m_NH_highway_TW5_sunny_FHD_001.png to /home/bongo/porter_notebook/yolo/aihub/data_test/yolo_test/origin_label_txt/Suwon_CH01_20200720_1730_MON_9m_NH_highway_TW5_sunny_FHD_001.txt\n",
      "Saved YOLO annotations for Suwon_CH01_20200720_1730_MON_9m_NH_highway_TW5_sunny_FHD_002.png to /home/bongo/porter_notebook/yolo/aihub/data_test/yolo_test/origin_label_txt/Suwon_CH01_20200720_1730_MON_9m_NH_highway_TW5_sunny_FHD_002.txt\n",
      "Saved YOLO annotations for Suwon_CH01_20200720_1730_MON_9m_NH_highway_TW5_sunny_FHD_003.png to /home/bongo/porter_notebook/yolo/aihub/data_test/yolo_test/origin_label_txt/Suwon_CH01_20200720_1730_MON_9m_NH_highway_TW5_sunny_FHD_003.txt\n",
      "Saved YOLO annotations for Suwon_CH01_20200720_1730_MON_9m_NH_highway_TW5_sunny_FHD_004.png to /home/bongo/porter_notebook/yolo/aihub/data_test/yolo_test/origin_label_txt/Suwon_CH01_20200720_1730_MON_9m_NH_highway_TW5_sunny_FHD_004.txt\n",
      "Saved YOLO annotations for Suwon_CH01_20200720_1730_MON_9m_NH_highway_TW5_sunny_FHD_005.png to /home/bongo/porter_notebook/yolo/aihub/data_test/yolo_test/origin_label_txt/Suwon_CH01_20200720_1730_MON_9m_NH_highway_TW5_sunny_FHD_005.txt\n",
      "Saved YOLO annotations for Suwon_CH01_20200720_1730_MON_9m_NH_highway_TW5_sunny_FHD_006.png to /home/bongo/porter_notebook/yolo/aihub/data_test/yolo_test/origin_label_txt/Suwon_CH01_20200720_1730_MON_9m_NH_highway_TW5_sunny_FHD_006.txt\n",
      "Saved YOLO annotations for Suwon_CH01_20200720_1730_MON_9m_NH_highway_TW5_sunny_FHD_007.png to /home/bongo/porter_notebook/yolo/aihub/data_test/yolo_test/origin_label_txt/Suwon_CH01_20200720_1730_MON_9m_NH_highway_TW5_sunny_FHD_007.txt\n",
      "Saved YOLO annotations for Suwon_CH01_20200720_1730_MON_9m_NH_highway_TW5_sunny_FHD_008.png to /home/bongo/porter_notebook/yolo/aihub/data_test/yolo_test/origin_label_txt/Suwon_CH01_20200720_1730_MON_9m_NH_highway_TW5_sunny_FHD_008.txt\n",
      "Saved YOLO annotations for Suwon_CH01_20200720_1730_MON_9m_NH_highway_TW5_sunny_FHD_009.png to /home/bongo/porter_notebook/yolo/aihub/data_test/yolo_test/origin_label_txt/Suwon_CH01_20200720_1730_MON_9m_NH_highway_TW5_sunny_FHD_009.txt\n",
      "Saved YOLO annotations for Suwon_CH01_20200720_1730_MON_9m_NH_highway_TW5_sunny_FHD_010.png to /home/bongo/porter_notebook/yolo/aihub/data_test/yolo_test/origin_label_txt/Suwon_CH01_20200720_1730_MON_9m_NH_highway_TW5_sunny_FHD_010.txt\n",
      "Saved YOLO annotations for Suwon_CH01_20200720_1730_MON_9m_NH_highway_TW5_sunny_FHD_011.png to /home/bongo/porter_notebook/yolo/aihub/data_test/yolo_test/origin_label_txt/Suwon_CH01_20200720_1730_MON_9m_NH_highway_TW5_sunny_FHD_011.txt\n",
      "Saved YOLO annotations for Suwon_CH01_20200720_1730_MON_9m_NH_highway_TW5_sunny_FHD_012.png to /home/bongo/porter_notebook/yolo/aihub/data_test/yolo_test/origin_label_txt/Suwon_CH01_20200720_1730_MON_9m_NH_highway_TW5_sunny_FHD_012.txt\n",
      "Saved YOLO annotations for Suwon_CH01_20200720_1730_MON_9m_NH_highway_TW5_sunny_FHD_013.png to /home/bongo/porter_notebook/yolo/aihub/data_test/yolo_test/origin_label_txt/Suwon_CH01_20200720_1730_MON_9m_NH_highway_TW5_sunny_FHD_013.txt\n",
      "Saved YOLO annotations for Suwon_CH01_20200720_1730_MON_9m_NH_highway_TW5_sunny_FHD_014.png to /home/bongo/porter_notebook/yolo/aihub/data_test/yolo_test/origin_label_txt/Suwon_CH01_20200720_1730_MON_9m_NH_highway_TW5_sunny_FHD_014.txt\n",
      "Saved YOLO annotations for Suwon_CH01_20200720_1730_MON_9m_NH_highway_TW5_sunny_FHD_015.png to /home/bongo/porter_notebook/yolo/aihub/data_test/yolo_test/origin_label_txt/Suwon_CH01_20200720_1730_MON_9m_NH_highway_TW5_sunny_FHD_015.txt\n",
      "Saved YOLO annotations for Suwon_CH01_20200720_1730_MON_9m_NH_highway_TW5_sunny_FHD_016.png to /home/bongo/porter_notebook/yolo/aihub/data_test/yolo_test/origin_label_txt/Suwon_CH01_20200720_1730_MON_9m_NH_highway_TW5_sunny_FHD_016.txt\n",
      "Saved YOLO annotations for Suwon_CH01_20200720_1730_MON_9m_NH_highway_TW5_sunny_FHD_017.png to /home/bongo/porter_notebook/yolo/aihub/data_test/yolo_test/origin_label_txt/Suwon_CH01_20200720_1730_MON_9m_NH_highway_TW5_sunny_FHD_017.txt\n",
      "Saved YOLO annotations for Suwon_CH01_20200720_1730_MON_9m_NH_highway_TW5_sunny_FHD_018.png to /home/bongo/porter_notebook/yolo/aihub/data_test/yolo_test/origin_label_txt/Suwon_CH01_20200720_1730_MON_9m_NH_highway_TW5_sunny_FHD_018.txt\n",
      "Saved YOLO annotations for Suwon_CH01_20200720_1730_MON_9m_NH_highway_TW5_sunny_FHD_019.png to /home/bongo/porter_notebook/yolo/aihub/data_test/yolo_test/origin_label_txt/Suwon_CH01_20200720_1730_MON_9m_NH_highway_TW5_sunny_FHD_019.txt\n",
      "Saved YOLO annotations for Suwon_CH01_20200720_1730_MON_9m_NH_highway_TW5_sunny_FHD_020.png to /home/bongo/porter_notebook/yolo/aihub/data_test/yolo_test/origin_label_txt/Suwon_CH01_20200720_1730_MON_9m_NH_highway_TW5_sunny_FHD_020.txt\n",
      "Saved YOLO annotations for Suwon_CH01_20200720_1730_MON_9m_NH_highway_TW5_sunny_FHD_021.png to /home/bongo/porter_notebook/yolo/aihub/data_test/yolo_test/origin_label_txt/Suwon_CH01_20200720_1730_MON_9m_NH_highway_TW5_sunny_FHD_021.txt\n",
      "Saved YOLO annotations for Suwon_CH01_20200720_1730_MON_9m_NH_highway_TW5_sunny_FHD_022.png to /home/bongo/porter_notebook/yolo/aihub/data_test/yolo_test/origin_label_txt/Suwon_CH01_20200720_1730_MON_9m_NH_highway_TW5_sunny_FHD_022.txt\n",
      "Saved YOLO annotations for Suwon_CH01_20200720_1730_MON_9m_NH_highway_TW5_sunny_FHD_023.png to /home/bongo/porter_notebook/yolo/aihub/data_test/yolo_test/origin_label_txt/Suwon_CH01_20200720_1730_MON_9m_NH_highway_TW5_sunny_FHD_023.txt\n",
      "Saved YOLO annotations for Suwon_CH01_20200720_1730_MON_9m_NH_highway_TW5_sunny_FHD_024.png to /home/bongo/porter_notebook/yolo/aihub/data_test/yolo_test/origin_label_txt/Suwon_CH01_20200720_1730_MON_9m_NH_highway_TW5_sunny_FHD_024.txt\n",
      "Saved YOLO annotations for Suwon_CH01_20200720_1730_MON_9m_NH_highway_TW5_sunny_FHD_025.png to /home/bongo/porter_notebook/yolo/aihub/data_test/yolo_test/origin_label_txt/Suwon_CH01_20200720_1730_MON_9m_NH_highway_TW5_sunny_FHD_025.txt\n",
      "Saved YOLO annotations for Suwon_CH01_20200720_1730_MON_9m_NH_highway_TW5_sunny_FHD_026.png to /home/bongo/porter_notebook/yolo/aihub/data_test/yolo_test/origin_label_txt/Suwon_CH01_20200720_1730_MON_9m_NH_highway_TW5_sunny_FHD_026.txt\n",
      "Saved YOLO annotations for Suwon_CH01_20200720_1730_MON_9m_NH_highway_TW5_sunny_FHD_027.png to /home/bongo/porter_notebook/yolo/aihub/data_test/yolo_test/origin_label_txt/Suwon_CH01_20200720_1730_MON_9m_NH_highway_TW5_sunny_FHD_027.txt\n",
      "Saved YOLO annotations for Suwon_CH01_20200720_1730_MON_9m_NH_highway_TW5_sunny_FHD_028.png to /home/bongo/porter_notebook/yolo/aihub/data_test/yolo_test/origin_label_txt/Suwon_CH01_20200720_1730_MON_9m_NH_highway_TW5_sunny_FHD_028.txt\n",
      "Saved YOLO annotations for Suwon_CH01_20200720_1730_MON_9m_NH_highway_TW5_sunny_FHD_029.png to /home/bongo/porter_notebook/yolo/aihub/data_test/yolo_test/origin_label_txt/Suwon_CH01_20200720_1730_MON_9m_NH_highway_TW5_sunny_FHD_029.txt\n",
      "Saved YOLO annotations for Suwon_CH01_20200720_1730_MON_9m_NH_highway_TW5_sunny_FHD_030.png to /home/bongo/porter_notebook/yolo/aihub/data_test/yolo_test/origin_label_txt/Suwon_CH01_20200720_1730_MON_9m_NH_highway_TW5_sunny_FHD_030.txt\n",
      "Saved YOLO annotations for Suwon_CH01_20200720_1730_MON_9m_NH_highway_TW5_sunny_FHD_031.png to /home/bongo/porter_notebook/yolo/aihub/data_test/yolo_test/origin_label_txt/Suwon_CH01_20200720_1730_MON_9m_NH_highway_TW5_sunny_FHD_031.txt\n",
      "Saved YOLO annotations for Suwon_CH01_20200720_1730_MON_9m_NH_highway_TW5_sunny_FHD_032.png to /home/bongo/porter_notebook/yolo/aihub/data_test/yolo_test/origin_label_txt/Suwon_CH01_20200720_1730_MON_9m_NH_highway_TW5_sunny_FHD_032.txt\n",
      "Saved YOLO annotations for Suwon_CH01_20200720_1730_MON_9m_NH_highway_TW5_sunny_FHD_033.png to /home/bongo/porter_notebook/yolo/aihub/data_test/yolo_test/origin_label_txt/Suwon_CH01_20200720_1730_MON_9m_NH_highway_TW5_sunny_FHD_033.txt\n",
      "Saved YOLO annotations for Suwon_CH01_20200720_1730_MON_9m_NH_highway_TW5_sunny_FHD_034.png to /home/bongo/porter_notebook/yolo/aihub/data_test/yolo_test/origin_label_txt/Suwon_CH01_20200720_1730_MON_9m_NH_highway_TW5_sunny_FHD_034.txt\n",
      "Saved YOLO annotations for Suwon_CH01_20200720_1730_MON_9m_NH_highway_TW5_sunny_FHD_035.png to /home/bongo/porter_notebook/yolo/aihub/data_test/yolo_test/origin_label_txt/Suwon_CH01_20200720_1730_MON_9m_NH_highway_TW5_sunny_FHD_035.txt\n",
      "Saved YOLO annotations for Suwon_CH01_20200720_1730_MON_9m_NH_highway_TW5_sunny_FHD_036.png to /home/bongo/porter_notebook/yolo/aihub/data_test/yolo_test/origin_label_txt/Suwon_CH01_20200720_1730_MON_9m_NH_highway_TW5_sunny_FHD_036.txt\n",
      "Saved YOLO annotations for Suwon_CH01_20200720_1730_MON_9m_NH_highway_TW5_sunny_FHD_037.png to /home/bongo/porter_notebook/yolo/aihub/data_test/yolo_test/origin_label_txt/Suwon_CH01_20200720_1730_MON_9m_NH_highway_TW5_sunny_FHD_037.txt\n",
      "Saved YOLO annotations for Suwon_CH01_20200720_1730_MON_9m_NH_highway_TW5_sunny_FHD_038.png to /home/bongo/porter_notebook/yolo/aihub/data_test/yolo_test/origin_label_txt/Suwon_CH01_20200720_1730_MON_9m_NH_highway_TW5_sunny_FHD_038.txt\n",
      "Saved YOLO annotations for Suwon_CH01_20200720_1730_MON_9m_NH_highway_TW5_sunny_FHD_039.png to /home/bongo/porter_notebook/yolo/aihub/data_test/yolo_test/origin_label_txt/Suwon_CH01_20200720_1730_MON_9m_NH_highway_TW5_sunny_FHD_039.txt\n",
      "Saved YOLO annotations for Suwon_CH01_20200720_1730_MON_9m_NH_highway_TW5_sunny_FHD_040.png to /home/bongo/porter_notebook/yolo/aihub/data_test/yolo_test/origin_label_txt/Suwon_CH01_20200720_1730_MON_9m_NH_highway_TW5_sunny_FHD_040.txt\n",
      "Saved YOLO annotations for Suwon_CH01_20200720_1730_MON_9m_NH_highway_TW5_sunny_FHD_041.png to /home/bongo/porter_notebook/yolo/aihub/data_test/yolo_test/origin_label_txt/Suwon_CH01_20200720_1730_MON_9m_NH_highway_TW5_sunny_FHD_041.txt\n",
      "Saved YOLO annotations for Suwon_CH01_20200720_1730_MON_9m_NH_highway_TW5_sunny_FHD_042.png to /home/bongo/porter_notebook/yolo/aihub/data_test/yolo_test/origin_label_txt/Suwon_CH01_20200720_1730_MON_9m_NH_highway_TW5_sunny_FHD_042.txt\n",
      "Saved YOLO annotations for Suwon_CH01_20200720_1730_MON_9m_NH_highway_TW5_sunny_FHD_043.png to /home/bongo/porter_notebook/yolo/aihub/data_test/yolo_test/origin_label_txt/Suwon_CH01_20200720_1730_MON_9m_NH_highway_TW5_sunny_FHD_043.txt\n",
      "Saved YOLO annotations for Suwon_CH01_20200720_1730_MON_9m_NH_highway_TW5_sunny_FHD_044.png to /home/bongo/porter_notebook/yolo/aihub/data_test/yolo_test/origin_label_txt/Suwon_CH01_20200720_1730_MON_9m_NH_highway_TW5_sunny_FHD_044.txt\n",
      "Saved YOLO annotations for Suwon_CH01_20200720_1730_MON_9m_NH_highway_TW5_sunny_FHD_045.png to /home/bongo/porter_notebook/yolo/aihub/data_test/yolo_test/origin_label_txt/Suwon_CH01_20200720_1730_MON_9m_NH_highway_TW5_sunny_FHD_045.txt\n",
      "Saved YOLO annotations for Suwon_CH01_20200720_1730_MON_9m_NH_highway_TW5_sunny_FHD_046.png to /home/bongo/porter_notebook/yolo/aihub/data_test/yolo_test/origin_label_txt/Suwon_CH01_20200720_1730_MON_9m_NH_highway_TW5_sunny_FHD_046.txt\n",
      "Saved YOLO annotations for Suwon_CH01_20200720_1730_MON_9m_NH_highway_TW5_sunny_FHD_047.png to /home/bongo/porter_notebook/yolo/aihub/data_test/yolo_test/origin_label_txt/Suwon_CH01_20200720_1730_MON_9m_NH_highway_TW5_sunny_FHD_047.txt\n",
      "Saved YOLO annotations for Suwon_CH01_20200720_1730_MON_9m_NH_highway_TW5_sunny_FHD_048.png to /home/bongo/porter_notebook/yolo/aihub/data_test/yolo_test/origin_label_txt/Suwon_CH01_20200720_1730_MON_9m_NH_highway_TW5_sunny_FHD_048.txt\n",
      "Saved YOLO annotations for Suwon_CH01_20200720_1730_MON_9m_NH_highway_TW5_sunny_FHD_049.png to /home/bongo/porter_notebook/yolo/aihub/data_test/yolo_test/origin_label_txt/Suwon_CH01_20200720_1730_MON_9m_NH_highway_TW5_sunny_FHD_049.txt\n",
      "Saved YOLO annotations for Suwon_CH01_20200720_1730_MON_9m_NH_highway_TW5_sunny_FHD_050.png to /home/bongo/porter_notebook/yolo/aihub/data_test/yolo_test/origin_label_txt/Suwon_CH01_20200720_1730_MON_9m_NH_highway_TW5_sunny_FHD_050.txt\n",
      "Saved YOLO annotations for Suwon_CH01_20200720_1730_MON_9m_NH_highway_TW5_sunny_FHD_051.png to /home/bongo/porter_notebook/yolo/aihub/data_test/yolo_test/origin_label_txt/Suwon_CH01_20200720_1730_MON_9m_NH_highway_TW5_sunny_FHD_051.txt\n",
      "Saved YOLO annotations for Suwon_CH01_20200720_1730_MON_9m_NH_highway_TW5_sunny_FHD_052.png to /home/bongo/porter_notebook/yolo/aihub/data_test/yolo_test/origin_label_txt/Suwon_CH01_20200720_1730_MON_9m_NH_highway_TW5_sunny_FHD_052.txt\n",
      "Saved YOLO annotations for Suwon_CH01_20200720_1730_MON_9m_NH_highway_TW5_sunny_FHD_053.png to /home/bongo/porter_notebook/yolo/aihub/data_test/yolo_test/origin_label_txt/Suwon_CH01_20200720_1730_MON_9m_NH_highway_TW5_sunny_FHD_053.txt\n",
      "Saved YOLO annotations for Suwon_CH01_20200720_1730_MON_9m_NH_highway_TW5_sunny_FHD_054.png to /home/bongo/porter_notebook/yolo/aihub/data_test/yolo_test/origin_label_txt/Suwon_CH01_20200720_1730_MON_9m_NH_highway_TW5_sunny_FHD_054.txt\n",
      "Saved YOLO annotations for Suwon_CH01_20200720_1730_MON_9m_NH_highway_TW5_sunny_FHD_055.png to /home/bongo/porter_notebook/yolo/aihub/data_test/yolo_test/origin_label_txt/Suwon_CH01_20200720_1730_MON_9m_NH_highway_TW5_sunny_FHD_055.txt\n",
      "Saved YOLO annotations for Suwon_CH01_20200720_1730_MON_9m_NH_highway_TW5_sunny_FHD_056.png to /home/bongo/porter_notebook/yolo/aihub/data_test/yolo_test/origin_label_txt/Suwon_CH01_20200720_1730_MON_9m_NH_highway_TW5_sunny_FHD_056.txt\n",
      "Saved YOLO annotations for Suwon_CH01_20200720_1730_MON_9m_NH_highway_TW5_sunny_FHD_057.png to /home/bongo/porter_notebook/yolo/aihub/data_test/yolo_test/origin_label_txt/Suwon_CH01_20200720_1730_MON_9m_NH_highway_TW5_sunny_FHD_057.txt\n",
      "Saved YOLO annotations for Suwon_CH01_20200720_1730_MON_9m_NH_highway_TW5_sunny_FHD_058.png to /home/bongo/porter_notebook/yolo/aihub/data_test/yolo_test/origin_label_txt/Suwon_CH01_20200720_1730_MON_9m_NH_highway_TW5_sunny_FHD_058.txt\n",
      "Saved YOLO annotations for Suwon_CH01_20200720_1730_MON_9m_NH_highway_TW5_sunny_FHD_059.png to /home/bongo/porter_notebook/yolo/aihub/data_test/yolo_test/origin_label_txt/Suwon_CH01_20200720_1730_MON_9m_NH_highway_TW5_sunny_FHD_059.txt\n",
      "Saved YOLO annotations for Suwon_CH01_20200720_1730_MON_9m_NH_highway_TW5_sunny_FHD_060.png to /home/bongo/porter_notebook/yolo/aihub/data_test/yolo_test/origin_label_txt/Suwon_CH01_20200720_1730_MON_9m_NH_highway_TW5_sunny_FHD_060.txt\n",
      "Saved YOLO annotations for Suwon_CH01_20200720_1730_MON_9m_NH_highway_TW5_sunny_FHD_061.png to /home/bongo/porter_notebook/yolo/aihub/data_test/yolo_test/origin_label_txt/Suwon_CH01_20200720_1730_MON_9m_NH_highway_TW5_sunny_FHD_061.txt\n",
      "Saved YOLO annotations for Suwon_CH01_20200720_1730_MON_9m_NH_highway_TW5_sunny_FHD_062.png to /home/bongo/porter_notebook/yolo/aihub/data_test/yolo_test/origin_label_txt/Suwon_CH01_20200720_1730_MON_9m_NH_highway_TW5_sunny_FHD_062.txt\n",
      "Saved YOLO annotations for Suwon_CH01_20200720_1730_MON_9m_NH_highway_TW5_sunny_FHD_063.png to /home/bongo/porter_notebook/yolo/aihub/data_test/yolo_test/origin_label_txt/Suwon_CH01_20200720_1730_MON_9m_NH_highway_TW5_sunny_FHD_063.txt\n",
      "Saved YOLO annotations for Suwon_CH01_20200720_1730_MON_9m_NH_highway_TW5_sunny_FHD_064.png to /home/bongo/porter_notebook/yolo/aihub/data_test/yolo_test/origin_label_txt/Suwon_CH01_20200720_1730_MON_9m_NH_highway_TW5_sunny_FHD_064.txt\n",
      "Saved YOLO annotations for Suwon_CH01_20200720_1730_MON_9m_NH_highway_TW5_sunny_FHD_065.png to /home/bongo/porter_notebook/yolo/aihub/data_test/yolo_test/origin_label_txt/Suwon_CH01_20200720_1730_MON_9m_NH_highway_TW5_sunny_FHD_065.txt\n",
      "Saved YOLO annotations for Suwon_CH01_20200720_1730_MON_9m_NH_highway_TW5_sunny_FHD_066.png to /home/bongo/porter_notebook/yolo/aihub/data_test/yolo_test/origin_label_txt/Suwon_CH01_20200720_1730_MON_9m_NH_highway_TW5_sunny_FHD_066.txt\n",
      "Saved YOLO annotations for Suwon_CH01_20200720_1730_MON_9m_NH_highway_TW5_sunny_FHD_067.png to /home/bongo/porter_notebook/yolo/aihub/data_test/yolo_test/origin_label_txt/Suwon_CH01_20200720_1730_MON_9m_NH_highway_TW5_sunny_FHD_067.txt\n",
      "Saved YOLO annotations for Suwon_CH01_20200720_1730_MON_9m_NH_highway_TW5_sunny_FHD_068.png to /home/bongo/porter_notebook/yolo/aihub/data_test/yolo_test/origin_label_txt/Suwon_CH01_20200720_1730_MON_9m_NH_highway_TW5_sunny_FHD_068.txt\n",
      "Saved YOLO annotations for Suwon_CH01_20200720_1730_MON_9m_NH_highway_TW5_sunny_FHD_069.png to /home/bongo/porter_notebook/yolo/aihub/data_test/yolo_test/origin_label_txt/Suwon_CH01_20200720_1730_MON_9m_NH_highway_TW5_sunny_FHD_069.txt\n",
      "Saved YOLO annotations for Suwon_CH01_20200720_1730_MON_9m_NH_highway_TW5_sunny_FHD_070.png to /home/bongo/porter_notebook/yolo/aihub/data_test/yolo_test/origin_label_txt/Suwon_CH01_20200720_1730_MON_9m_NH_highway_TW5_sunny_FHD_070.txt\n",
      "Saved YOLO annotations for Suwon_CH01_20200720_1730_MON_9m_NH_highway_TW5_sunny_FHD_071.png to /home/bongo/porter_notebook/yolo/aihub/data_test/yolo_test/origin_label_txt/Suwon_CH01_20200720_1730_MON_9m_NH_highway_TW5_sunny_FHD_071.txt\n",
      "Saved YOLO annotations for Suwon_CH01_20200720_1730_MON_9m_NH_highway_TW5_sunny_FHD_072.png to /home/bongo/porter_notebook/yolo/aihub/data_test/yolo_test/origin_label_txt/Suwon_CH01_20200720_1730_MON_9m_NH_highway_TW5_sunny_FHD_072.txt\n",
      "Saved YOLO annotations for Suwon_CH01_20200720_1730_MON_9m_NH_highway_TW5_sunny_FHD_073.png to /home/bongo/porter_notebook/yolo/aihub/data_test/yolo_test/origin_label_txt/Suwon_CH01_20200720_1730_MON_9m_NH_highway_TW5_sunny_FHD_073.txt\n",
      "Saved YOLO annotations for Suwon_CH01_20200720_1730_MON_9m_NH_highway_TW5_sunny_FHD_074.png to /home/bongo/porter_notebook/yolo/aihub/data_test/yolo_test/origin_label_txt/Suwon_CH01_20200720_1730_MON_9m_NH_highway_TW5_sunny_FHD_074.txt\n",
      "Saved YOLO annotations for Suwon_CH01_20200720_1730_MON_9m_NH_highway_TW5_sunny_FHD_075.png to /home/bongo/porter_notebook/yolo/aihub/data_test/yolo_test/origin_label_txt/Suwon_CH01_20200720_1730_MON_9m_NH_highway_TW5_sunny_FHD_075.txt\n",
      "Saved YOLO annotations for Suwon_CH01_20200720_1730_MON_9m_NH_highway_TW5_sunny_FHD_076.png to /home/bongo/porter_notebook/yolo/aihub/data_test/yolo_test/origin_label_txt/Suwon_CH01_20200720_1730_MON_9m_NH_highway_TW5_sunny_FHD_076.txt\n",
      "Saved YOLO annotations for Suwon_CH01_20200720_1730_MON_9m_NH_highway_TW5_sunny_FHD_077.png to /home/bongo/porter_notebook/yolo/aihub/data_test/yolo_test/origin_label_txt/Suwon_CH01_20200720_1730_MON_9m_NH_highway_TW5_sunny_FHD_077.txt\n",
      "Saved YOLO annotations for Suwon_CH01_20200720_1730_MON_9m_NH_highway_TW5_sunny_FHD_078.png to /home/bongo/porter_notebook/yolo/aihub/data_test/yolo_test/origin_label_txt/Suwon_CH01_20200720_1730_MON_9m_NH_highway_TW5_sunny_FHD_078.txt\n",
      "Saved YOLO annotations for Suwon_CH01_20200720_1730_MON_9m_NH_highway_TW5_sunny_FHD_079.png to /home/bongo/porter_notebook/yolo/aihub/data_test/yolo_test/origin_label_txt/Suwon_CH01_20200720_1730_MON_9m_NH_highway_TW5_sunny_FHD_079.txt\n",
      "Saved YOLO annotations for Suwon_CH01_20200720_1730_MON_9m_NH_highway_TW5_sunny_FHD_080.png to /home/bongo/porter_notebook/yolo/aihub/data_test/yolo_test/origin_label_txt/Suwon_CH01_20200720_1730_MON_9m_NH_highway_TW5_sunny_FHD_080.txt\n",
      "Saved YOLO annotations for Suwon_CH01_20200720_1730_MON_9m_NH_highway_TW5_sunny_FHD_081.png to /home/bongo/porter_notebook/yolo/aihub/data_test/yolo_test/origin_label_txt/Suwon_CH01_20200720_1730_MON_9m_NH_highway_TW5_sunny_FHD_081.txt\n",
      "Saved YOLO annotations for Suwon_CH01_20200720_1730_MON_9m_NH_highway_TW5_sunny_FHD_082.png to /home/bongo/porter_notebook/yolo/aihub/data_test/yolo_test/origin_label_txt/Suwon_CH01_20200720_1730_MON_9m_NH_highway_TW5_sunny_FHD_082.txt\n",
      "Saved YOLO annotations for Suwon_CH01_20200720_1730_MON_9m_NH_highway_TW5_sunny_FHD_083.png to /home/bongo/porter_notebook/yolo/aihub/data_test/yolo_test/origin_label_txt/Suwon_CH01_20200720_1730_MON_9m_NH_highway_TW5_sunny_FHD_083.txt\n",
      "Saved YOLO annotations for Suwon_CH01_20200720_1730_MON_9m_NH_highway_TW5_sunny_FHD_084.png to /home/bongo/porter_notebook/yolo/aihub/data_test/yolo_test/origin_label_txt/Suwon_CH01_20200720_1730_MON_9m_NH_highway_TW5_sunny_FHD_084.txt\n",
      "Saved YOLO annotations for Suwon_CH01_20200720_1730_MON_9m_NH_highway_TW5_sunny_FHD_085.png to /home/bongo/porter_notebook/yolo/aihub/data_test/yolo_test/origin_label_txt/Suwon_CH01_20200720_1730_MON_9m_NH_highway_TW5_sunny_FHD_085.txt\n",
      "Saved YOLO annotations for Suwon_CH01_20200720_1730_MON_9m_NH_highway_TW5_sunny_FHD_086.png to /home/bongo/porter_notebook/yolo/aihub/data_test/yolo_test/origin_label_txt/Suwon_CH01_20200720_1730_MON_9m_NH_highway_TW5_sunny_FHD_086.txt\n",
      "Saved YOLO annotations for Suwon_CH01_20200720_1730_MON_9m_NH_highway_TW5_sunny_FHD_087.png to /home/bongo/porter_notebook/yolo/aihub/data_test/yolo_test/origin_label_txt/Suwon_CH01_20200720_1730_MON_9m_NH_highway_TW5_sunny_FHD_087.txt\n",
      "Saved YOLO annotations for Suwon_CH01_20200720_1730_MON_9m_NH_highway_TW5_sunny_FHD_088.png to /home/bongo/porter_notebook/yolo/aihub/data_test/yolo_test/origin_label_txt/Suwon_CH01_20200720_1730_MON_9m_NH_highway_TW5_sunny_FHD_088.txt\n",
      "Saved YOLO annotations for Suwon_CH01_20200720_1730_MON_9m_NH_highway_TW5_sunny_FHD_089.png to /home/bongo/porter_notebook/yolo/aihub/data_test/yolo_test/origin_label_txt/Suwon_CH01_20200720_1730_MON_9m_NH_highway_TW5_sunny_FHD_089.txt\n",
      "Saved YOLO annotations for Suwon_CH01_20200720_1730_MON_9m_NH_highway_TW5_sunny_FHD_090.png to /home/bongo/porter_notebook/yolo/aihub/data_test/yolo_test/origin_label_txt/Suwon_CH01_20200720_1730_MON_9m_NH_highway_TW5_sunny_FHD_090.txt\n",
      "Saved YOLO annotations for Suwon_CH01_20200720_1730_MON_9m_NH_highway_TW5_sunny_FHD_091.png to /home/bongo/porter_notebook/yolo/aihub/data_test/yolo_test/origin_label_txt/Suwon_CH01_20200720_1730_MON_9m_NH_highway_TW5_sunny_FHD_091.txt\n",
      "Saved YOLO annotations for Suwon_CH01_20200720_1730_MON_9m_NH_highway_TW5_sunny_FHD_092.png to /home/bongo/porter_notebook/yolo/aihub/data_test/yolo_test/origin_label_txt/Suwon_CH01_20200720_1730_MON_9m_NH_highway_TW5_sunny_FHD_092.txt\n",
      "Saved YOLO annotations for Suwon_CH01_20200720_1730_MON_9m_NH_highway_TW5_sunny_FHD_093.png to /home/bongo/porter_notebook/yolo/aihub/data_test/yolo_test/origin_label_txt/Suwon_CH01_20200720_1730_MON_9m_NH_highway_TW5_sunny_FHD_093.txt\n",
      "Saved YOLO annotations for Suwon_CH01_20200720_1730_MON_9m_NH_highway_TW5_sunny_FHD_094.png to /home/bongo/porter_notebook/yolo/aihub/data_test/yolo_test/origin_label_txt/Suwon_CH01_20200720_1730_MON_9m_NH_highway_TW5_sunny_FHD_094.txt\n",
      "Saved YOLO annotations for Suwon_CH01_20200720_1730_MON_9m_NH_highway_TW5_sunny_FHD_095.png to /home/bongo/porter_notebook/yolo/aihub/data_test/yolo_test/origin_label_txt/Suwon_CH01_20200720_1730_MON_9m_NH_highway_TW5_sunny_FHD_095.txt\n",
      "Saved YOLO annotations for Suwon_CH01_20200720_1730_MON_9m_NH_highway_TW5_sunny_FHD_096.png to /home/bongo/porter_notebook/yolo/aihub/data_test/yolo_test/origin_label_txt/Suwon_CH01_20200720_1730_MON_9m_NH_highway_TW5_sunny_FHD_096.txt\n",
      "Saved YOLO annotations for Suwon_CH01_20200720_1730_MON_9m_NH_highway_TW5_sunny_FHD_097.png to /home/bongo/porter_notebook/yolo/aihub/data_test/yolo_test/origin_label_txt/Suwon_CH01_20200720_1730_MON_9m_NH_highway_TW5_sunny_FHD_097.txt\n",
      "Saved YOLO annotations for Suwon_CH01_20200720_1730_MON_9m_NH_highway_TW5_sunny_FHD_098.png to /home/bongo/porter_notebook/yolo/aihub/data_test/yolo_test/origin_label_txt/Suwon_CH01_20200720_1730_MON_9m_NH_highway_TW5_sunny_FHD_098.txt\n",
      "Saved YOLO annotations for Suwon_CH01_20200720_1730_MON_9m_NH_highway_TW5_sunny_FHD_099.png to /home/bongo/porter_notebook/yolo/aihub/data_test/yolo_test/origin_label_txt/Suwon_CH01_20200720_1730_MON_9m_NH_highway_TW5_sunny_FHD_099.txt\n",
      "Saved YOLO annotations for Suwon_CH01_20200720_1730_MON_9m_NH_highway_TW5_sunny_FHD_100.png to /home/bongo/porter_notebook/yolo/aihub/data_test/yolo_test/origin_label_txt/Suwon_CH01_20200720_1730_MON_9m_NH_highway_TW5_sunny_FHD_100.txt\n",
      "Saved YOLO annotations for Suwon_CH01_20200720_1730_MON_9m_NH_highway_TW5_sunny_FHD_101.png to /home/bongo/porter_notebook/yolo/aihub/data_test/yolo_test/origin_label_txt/Suwon_CH01_20200720_1730_MON_9m_NH_highway_TW5_sunny_FHD_101.txt\n",
      "Saved YOLO annotations for Suwon_CH01_20200720_1730_MON_9m_NH_highway_TW5_sunny_FHD_102.png to /home/bongo/porter_notebook/yolo/aihub/data_test/yolo_test/origin_label_txt/Suwon_CH01_20200720_1730_MON_9m_NH_highway_TW5_sunny_FHD_102.txt\n",
      "Saved YOLO annotations for Suwon_CH01_20200720_1730_MON_9m_NH_highway_TW5_sunny_FHD_103.png to /home/bongo/porter_notebook/yolo/aihub/data_test/yolo_test/origin_label_txt/Suwon_CH01_20200720_1730_MON_9m_NH_highway_TW5_sunny_FHD_103.txt\n",
      "Saved YOLO annotations for Suwon_CH01_20200720_1730_MON_9m_NH_highway_TW5_sunny_FHD_104.png to /home/bongo/porter_notebook/yolo/aihub/data_test/yolo_test/origin_label_txt/Suwon_CH01_20200720_1730_MON_9m_NH_highway_TW5_sunny_FHD_104.txt\n",
      "Saved YOLO annotations for Suwon_CH01_20200720_1730_MON_9m_NH_highway_TW5_sunny_FHD_105.png to /home/bongo/porter_notebook/yolo/aihub/data_test/yolo_test/origin_label_txt/Suwon_CH01_20200720_1730_MON_9m_NH_highway_TW5_sunny_FHD_105.txt\n",
      "Saved YOLO annotations for Suwon_CH01_20200720_1730_MON_9m_NH_highway_TW5_sunny_FHD_106.png to /home/bongo/porter_notebook/yolo/aihub/data_test/yolo_test/origin_label_txt/Suwon_CH01_20200720_1730_MON_9m_NH_highway_TW5_sunny_FHD_106.txt\n",
      "Saved YOLO annotations for Suwon_CH01_20200720_1730_MON_9m_NH_highway_TW5_sunny_FHD_107.png to /home/bongo/porter_notebook/yolo/aihub/data_test/yolo_test/origin_label_txt/Suwon_CH01_20200720_1730_MON_9m_NH_highway_TW5_sunny_FHD_107.txt\n",
      "Saved YOLO annotations for Suwon_CH01_20200720_1730_MON_9m_NH_highway_TW5_sunny_FHD_108.png to /home/bongo/porter_notebook/yolo/aihub/data_test/yolo_test/origin_label_txt/Suwon_CH01_20200720_1730_MON_9m_NH_highway_TW5_sunny_FHD_108.txt\n",
      "Saved YOLO annotations for Suwon_CH01_20200720_1730_MON_9m_NH_highway_TW5_sunny_FHD_109.png to /home/bongo/porter_notebook/yolo/aihub/data_test/yolo_test/origin_label_txt/Suwon_CH01_20200720_1730_MON_9m_NH_highway_TW5_sunny_FHD_109.txt\n",
      "Saved YOLO annotations for Suwon_CH01_20200720_1730_MON_9m_NH_highway_TW5_sunny_FHD_110.png to /home/bongo/porter_notebook/yolo/aihub/data_test/yolo_test/origin_label_txt/Suwon_CH01_20200720_1730_MON_9m_NH_highway_TW5_sunny_FHD_110.txt\n",
      "Saved YOLO annotations for Suwon_CH01_20200720_1730_MON_9m_NH_highway_TW5_sunny_FHD_111.png to /home/bongo/porter_notebook/yolo/aihub/data_test/yolo_test/origin_label_txt/Suwon_CH01_20200720_1730_MON_9m_NH_highway_TW5_sunny_FHD_111.txt\n",
      "Saved YOLO annotations for Suwon_CH01_20200720_1730_MON_9m_NH_highway_TW5_sunny_FHD_112.png to /home/bongo/porter_notebook/yolo/aihub/data_test/yolo_test/origin_label_txt/Suwon_CH01_20200720_1730_MON_9m_NH_highway_TW5_sunny_FHD_112.txt\n",
      "Saved YOLO annotations for Suwon_CH01_20200720_1730_MON_9m_NH_highway_TW5_sunny_FHD_113.png to /home/bongo/porter_notebook/yolo/aihub/data_test/yolo_test/origin_label_txt/Suwon_CH01_20200720_1730_MON_9m_NH_highway_TW5_sunny_FHD_113.txt\n",
      "Saved YOLO annotations for Suwon_CH01_20200720_1730_MON_9m_NH_highway_TW5_sunny_FHD_114.png to /home/bongo/porter_notebook/yolo/aihub/data_test/yolo_test/origin_label_txt/Suwon_CH01_20200720_1730_MON_9m_NH_highway_TW5_sunny_FHD_114.txt\n",
      "Saved YOLO annotations for Suwon_CH01_20200720_1730_MON_9m_NH_highway_TW5_sunny_FHD_115.png to /home/bongo/porter_notebook/yolo/aihub/data_test/yolo_test/origin_label_txt/Suwon_CH01_20200720_1730_MON_9m_NH_highway_TW5_sunny_FHD_115.txt\n",
      "Saved YOLO annotations for Suwon_CH01_20200720_1730_MON_9m_NH_highway_TW5_sunny_FHD_116.png to /home/bongo/porter_notebook/yolo/aihub/data_test/yolo_test/origin_label_txt/Suwon_CH01_20200720_1730_MON_9m_NH_highway_TW5_sunny_FHD_116.txt\n",
      "Saved YOLO annotations for Suwon_CH01_20200720_1730_MON_9m_NH_highway_TW5_sunny_FHD_117.png to /home/bongo/porter_notebook/yolo/aihub/data_test/yolo_test/origin_label_txt/Suwon_CH01_20200720_1730_MON_9m_NH_highway_TW5_sunny_FHD_117.txt\n",
      "Saved YOLO annotations for Suwon_CH01_20200720_1730_MON_9m_NH_highway_TW5_sunny_FHD_118.png to /home/bongo/porter_notebook/yolo/aihub/data_test/yolo_test/origin_label_txt/Suwon_CH01_20200720_1730_MON_9m_NH_highway_TW5_sunny_FHD_118.txt\n",
      "Saved YOLO annotations for Suwon_CH01_20200720_1730_MON_9m_NH_highway_TW5_sunny_FHD_119.png to /home/bongo/porter_notebook/yolo/aihub/data_test/yolo_test/origin_label_txt/Suwon_CH01_20200720_1730_MON_9m_NH_highway_TW5_sunny_FHD_119.txt\n",
      "Saved YOLO annotations for Suwon_CH01_20200720_1730_MON_9m_NH_highway_TW5_sunny_FHD_120.png to /home/bongo/porter_notebook/yolo/aihub/data_test/yolo_test/origin_label_txt/Suwon_CH01_20200720_1730_MON_9m_NH_highway_TW5_sunny_FHD_120.txt\n",
      "Saved YOLO annotations for Suwon_CH01_20200720_1730_MON_9m_NH_highway_TW5_sunny_FHD_121.png to /home/bongo/porter_notebook/yolo/aihub/data_test/yolo_test/origin_label_txt/Suwon_CH01_20200720_1730_MON_9m_NH_highway_TW5_sunny_FHD_121.txt\n",
      "Saved YOLO annotations for Suwon_CH01_20200720_1730_MON_9m_NH_highway_TW5_sunny_FHD_122.png to /home/bongo/porter_notebook/yolo/aihub/data_test/yolo_test/origin_label_txt/Suwon_CH01_20200720_1730_MON_9m_NH_highway_TW5_sunny_FHD_122.txt\n",
      "Saved YOLO annotations for Suwon_CH01_20200720_1730_MON_9m_NH_highway_TW5_sunny_FHD_123.png to /home/bongo/porter_notebook/yolo/aihub/data_test/yolo_test/origin_label_txt/Suwon_CH01_20200720_1730_MON_9m_NH_highway_TW5_sunny_FHD_123.txt\n",
      "Saved YOLO annotations for Suwon_CH01_20200720_1730_MON_9m_NH_highway_TW5_sunny_FHD_124.png to /home/bongo/porter_notebook/yolo/aihub/data_test/yolo_test/origin_label_txt/Suwon_CH01_20200720_1730_MON_9m_NH_highway_TW5_sunny_FHD_124.txt\n",
      "Saved YOLO annotations for Suwon_CH01_20200720_1730_MON_9m_NH_highway_TW5_sunny_FHD_125.png to /home/bongo/porter_notebook/yolo/aihub/data_test/yolo_test/origin_label_txt/Suwon_CH01_20200720_1730_MON_9m_NH_highway_TW5_sunny_FHD_125.txt\n",
      "Saved YOLO annotations for Suwon_CH01_20200720_1730_MON_9m_NH_highway_TW5_sunny_FHD_126.png to /home/bongo/porter_notebook/yolo/aihub/data_test/yolo_test/origin_label_txt/Suwon_CH01_20200720_1730_MON_9m_NH_highway_TW5_sunny_FHD_126.txt\n",
      "Saved YOLO annotations for Suwon_CH01_20200720_1730_MON_9m_NH_highway_TW5_sunny_FHD_127.png to /home/bongo/porter_notebook/yolo/aihub/data_test/yolo_test/origin_label_txt/Suwon_CH01_20200720_1730_MON_9m_NH_highway_TW5_sunny_FHD_127.txt\n",
      "Saved YOLO annotations for Suwon_CH01_20200720_1730_MON_9m_NH_highway_TW5_sunny_FHD_128.png to /home/bongo/porter_notebook/yolo/aihub/data_test/yolo_test/origin_label_txt/Suwon_CH01_20200720_1730_MON_9m_NH_highway_TW5_sunny_FHD_128.txt\n",
      "Saved YOLO annotations for Suwon_CH01_20200720_1730_MON_9m_NH_highway_TW5_sunny_FHD_129.png to /home/bongo/porter_notebook/yolo/aihub/data_test/yolo_test/origin_label_txt/Suwon_CH01_20200720_1730_MON_9m_NH_highway_TW5_sunny_FHD_129.txt\n",
      "Saved YOLO annotations for Suwon_CH01_20200720_1730_MON_9m_NH_highway_TW5_sunny_FHD_130.png to /home/bongo/porter_notebook/yolo/aihub/data_test/yolo_test/origin_label_txt/Suwon_CH01_20200720_1730_MON_9m_NH_highway_TW5_sunny_FHD_130.txt\n",
      "Saved YOLO annotations for Suwon_CH01_20200720_1730_MON_9m_NH_highway_TW5_sunny_FHD_131.png to /home/bongo/porter_notebook/yolo/aihub/data_test/yolo_test/origin_label_txt/Suwon_CH01_20200720_1730_MON_9m_NH_highway_TW5_sunny_FHD_131.txt\n",
      "Saved YOLO annotations for Suwon_CH01_20200720_1730_MON_9m_NH_highway_TW5_sunny_FHD_132.png to /home/bongo/porter_notebook/yolo/aihub/data_test/yolo_test/origin_label_txt/Suwon_CH01_20200720_1730_MON_9m_NH_highway_TW5_sunny_FHD_132.txt\n",
      "Saved YOLO annotations for Suwon_CH01_20200720_1730_MON_9m_NH_highway_TW5_sunny_FHD_133.png to /home/bongo/porter_notebook/yolo/aihub/data_test/yolo_test/origin_label_txt/Suwon_CH01_20200720_1730_MON_9m_NH_highway_TW5_sunny_FHD_133.txt\n",
      "Saved YOLO annotations for Suwon_CH01_20200720_1730_MON_9m_NH_highway_TW5_sunny_FHD_134.png to /home/bongo/porter_notebook/yolo/aihub/data_test/yolo_test/origin_label_txt/Suwon_CH01_20200720_1730_MON_9m_NH_highway_TW5_sunny_FHD_134.txt\n",
      "Saved YOLO annotations for Suwon_CH01_20200720_1730_MON_9m_NH_highway_TW5_sunny_FHD_135.png to /home/bongo/porter_notebook/yolo/aihub/data_test/yolo_test/origin_label_txt/Suwon_CH01_20200720_1730_MON_9m_NH_highway_TW5_sunny_FHD_135.txt\n",
      "Saved YOLO annotations for Suwon_CH01_20200720_1730_MON_9m_NH_highway_TW5_sunny_FHD_136.png to /home/bongo/porter_notebook/yolo/aihub/data_test/yolo_test/origin_label_txt/Suwon_CH01_20200720_1730_MON_9m_NH_highway_TW5_sunny_FHD_136.txt\n",
      "Saved YOLO annotations for Suwon_CH01_20200720_1730_MON_9m_NH_highway_TW5_sunny_FHD_137.png to /home/bongo/porter_notebook/yolo/aihub/data_test/yolo_test/origin_label_txt/Suwon_CH01_20200720_1730_MON_9m_NH_highway_TW5_sunny_FHD_137.txt\n",
      "Saved YOLO annotations for Suwon_CH01_20200720_1730_MON_9m_NH_highway_TW5_sunny_FHD_138.png to /home/bongo/porter_notebook/yolo/aihub/data_test/yolo_test/origin_label_txt/Suwon_CH01_20200720_1730_MON_9m_NH_highway_TW5_sunny_FHD_138.txt\n",
      "Saved YOLO annotations for Suwon_CH01_20200720_1730_MON_9m_NH_highway_TW5_sunny_FHD_139.png to /home/bongo/porter_notebook/yolo/aihub/data_test/yolo_test/origin_label_txt/Suwon_CH01_20200720_1730_MON_9m_NH_highway_TW5_sunny_FHD_139.txt\n",
      "Saved YOLO annotations for Suwon_CH01_20200720_1730_MON_9m_NH_highway_TW5_sunny_FHD_140.png to /home/bongo/porter_notebook/yolo/aihub/data_test/yolo_test/origin_label_txt/Suwon_CH01_20200720_1730_MON_9m_NH_highway_TW5_sunny_FHD_140.txt\n",
      "Saved YOLO annotations for Suwon_CH01_20200720_1730_MON_9m_NH_highway_TW5_sunny_FHD_141.png to /home/bongo/porter_notebook/yolo/aihub/data_test/yolo_test/origin_label_txt/Suwon_CH01_20200720_1730_MON_9m_NH_highway_TW5_sunny_FHD_141.txt\n",
      "Saved YOLO annotations for Suwon_CH01_20200720_1730_MON_9m_NH_highway_TW5_sunny_FHD_142.png to /home/bongo/porter_notebook/yolo/aihub/data_test/yolo_test/origin_label_txt/Suwon_CH01_20200720_1730_MON_9m_NH_highway_TW5_sunny_FHD_142.txt\n",
      "Saved YOLO annotations for Suwon_CH01_20200720_1730_MON_9m_NH_highway_TW5_sunny_FHD_143.png to /home/bongo/porter_notebook/yolo/aihub/data_test/yolo_test/origin_label_txt/Suwon_CH01_20200720_1730_MON_9m_NH_highway_TW5_sunny_FHD_143.txt\n",
      "Saved YOLO annotations for Suwon_CH01_20200720_1730_MON_9m_NH_highway_TW5_sunny_FHD_144.png to /home/bongo/porter_notebook/yolo/aihub/data_test/yolo_test/origin_label_txt/Suwon_CH01_20200720_1730_MON_9m_NH_highway_TW5_sunny_FHD_144.txt\n",
      "Saved YOLO annotations for Suwon_CH01_20200720_1730_MON_9m_NH_highway_TW5_sunny_FHD_145.png to /home/bongo/porter_notebook/yolo/aihub/data_test/yolo_test/origin_label_txt/Suwon_CH01_20200720_1730_MON_9m_NH_highway_TW5_sunny_FHD_145.txt\n",
      "Saved YOLO annotations for Suwon_CH01_20200720_1730_MON_9m_NH_highway_TW5_sunny_FHD_146.png to /home/bongo/porter_notebook/yolo/aihub/data_test/yolo_test/origin_label_txt/Suwon_CH01_20200720_1730_MON_9m_NH_highway_TW5_sunny_FHD_146.txt\n",
      "Saved YOLO annotations for Suwon_CH01_20200720_1730_MON_9m_NH_highway_TW5_sunny_FHD_147.png to /home/bongo/porter_notebook/yolo/aihub/data_test/yolo_test/origin_label_txt/Suwon_CH01_20200720_1730_MON_9m_NH_highway_TW5_sunny_FHD_147.txt\n",
      "Saved YOLO annotations for Suwon_CH01_20200720_1730_MON_9m_NH_highway_TW5_sunny_FHD_148.png to /home/bongo/porter_notebook/yolo/aihub/data_test/yolo_test/origin_label_txt/Suwon_CH01_20200720_1730_MON_9m_NH_highway_TW5_sunny_FHD_148.txt\n",
      "Saved YOLO annotations for Suwon_CH01_20200720_1730_MON_9m_NH_highway_TW5_sunny_FHD_149.png to /home/bongo/porter_notebook/yolo/aihub/data_test/yolo_test/origin_label_txt/Suwon_CH01_20200720_1730_MON_9m_NH_highway_TW5_sunny_FHD_149.txt\n",
      "Saved YOLO annotations for Suwon_CH01_20200720_1730_MON_9m_NH_highway_TW5_sunny_FHD_150.png to /home/bongo/porter_notebook/yolo/aihub/data_test/yolo_test/origin_label_txt/Suwon_CH01_20200720_1730_MON_9m_NH_highway_TW5_sunny_FHD_150.txt\n"
     ]
    }
   ],
   "source": [
    "for xml in xml_name_list:\n",
    "    xml_path =  os.path.join(origin_xml_dir, xml)\n",
    "    convert_to_yolo(xml_path, label_txt_dir)"
   ]
  },
  {
   "cell_type": "code",
   "execution_count": 37,
   "id": "53b6a13c",
   "metadata": {},
   "outputs": [
    {
     "data": {
      "text/plain": [
       "['Suwon_CH01_20200720_1730_MON_9m_NH_highway_TW5_sunny_FHD_014.png',\n",
       " 'Suwon_CH01_20200720_1730_MON_9m_NH_highway_TW5_sunny_FHD_009.png',\n",
       " 'Suwon_CH01_20200720_1730_MON_9m_NH_highway_TW5_sunny_FHD_006.png',\n",
       " 'Suwon_CH01_20200720_1730_MON_9m_NH_highway_TW5_sunny_FHD_002.png',\n",
       " 'Suwon_CH01_20200720_1730_MON_9m_NH_highway_TW5_sunny_FHD_003.png']"
      ]
     },
     "execution_count": 37,
     "metadata": {},
     "output_type": "execute_result"
    }
   ],
   "source": [
    "# 이미지 저장 폴더(All_Data)에서 이미지 리스트 불러오기\n",
    "# 이 코드도 1번 코드와 동일한 위치(편의 상 A폴더라고 지칭함)에 있음\n",
    "Img_path = os.path.join(origin_img_dir)\n",
    "file_list = os.listdir(Img_path)\n",
    "file_name_list = []\n",
    "# 이미지 파일 이름 끝이 .png로 끝나므로 .png로 split 후 이름만 가져온다.\n",
    "for file_name in file_list:\n",
    "    if \".png\" in file_name:\n",
    "        file_name_list.append(file_name)\n",
    "file_name_list"
   ]
  },
  {
   "cell_type": "code",
   "execution_count": 7,
   "id": "4909b1fb",
   "metadata": {},
   "outputs": [
    {
     "name": "stdout",
     "output_type": "stream",
     "text": [
      "Train : 4 / Vaild : 1 \n"
     ]
    }
   ],
   "source": [
    "# 랜덤으로 데이터 섞은 후 train, validation 나누기(8:2 비율)\n",
    "random.shuffle(file_name_list)\n",
    "Split_Num = int(len(file_name_list) * 0.8)\n",
    "Train_file_name = file_name_list[:Split_Num]\n",
    "Valid_file_name = file_name_list[Split_Num:]\n",
    "print(f\"Train : {len(Train_file_name)} / Vaild : {len(Valid_file_name)} \")"
   ]
  },
  {
   "cell_type": "code",
   "execution_count": 8,
   "id": "f00b2f0f",
   "metadata": {},
   "outputs": [],
   "source": [
    "yolo_dataset_dir =  os.path.join(curr_dir, \"dataset\")"
   ]
  },
  {
   "cell_type": "code",
   "execution_count": 38,
   "id": "71a8a3c9",
   "metadata": {},
   "outputs": [
    {
     "name": "stdout",
     "output_type": "stream",
     "text": [
      "Directory already exists: /home/bongo/porter_notebook/yolo/aihub/data_test/yolo_test/dataset/images/train\n",
      "Directory already exists: /home/bongo/porter_notebook/yolo/aihub/data_test/yolo_test/dataset/labels/train\n",
      "Directory already exists: /home/bongo/porter_notebook/yolo/aihub/data_test/yolo_test/dataset/images/valid\n",
      "Directory already exists: /home/bongo/porter_notebook/yolo/aihub/data_test/yolo_test/dataset/labels/valid\n"
     ]
    }
   ],
   "source": [
    "# Subdirectories\n",
    "Train_img_path   = os.path.join(yolo_dataset_dir, \"images\", \"train\")\n",
    "Train_label_path = os.path.join(yolo_dataset_dir, \"labels\", \"train\")\n",
    "Valid_img_path   = os.path.join(yolo_dataset_dir, \"images\", \"valid\")\n",
    "Valid_label_path = os.path.join(yolo_dataset_dir, \"labels\", \"valid\")\n",
    "\n",
    "\n",
    "# List of directories to check and create\n",
    "directories = [Train_img_path, Train_label_path, Valid_img_path, Valid_label_path]\n",
    "\n",
    "# Create directories if they don't exist\n",
    "for directory in directories:\n",
    "    if not os.path.exists(directory):\n",
    "        os.makedirs(directory)\n",
    "        print(f\"Created directory: {directory}\")\n",
    "    else:\n",
    "        print(f\"Directory already exists: {directory}\")"
   ]
  },
  {
   "cell_type": "code",
   "execution_count": 17,
   "id": "b755c1be",
   "metadata": {},
   "outputs": [
    {
     "name": "stdout",
     "output_type": "stream",
     "text": [
      "Copied /home/bongo/porter_notebook/yolo/aihub/data_test/yolo_test/origin_img/Suwon_CH01_20200720_1730_MON_9m_NH_highway_TW5_sunny_FHD_002.png to /home/bongo/porter_notebook/yolo/aihub/data_test/yolo_test/dataset/images/valid/Suwon_CH01_20200720_1730_MON_9m_NH_highway_TW5_sunny_FHD_002.png\n",
      "Copied /home/bongo/porter_notebook/yolo/aihub/data_test/yolo_test/origin_img/Suwon_CH01_20200720_1730_MON_9m_NH_highway_TW5_sunny_FHD_009.png to /home/bongo/porter_notebook/yolo/aihub/data_test/yolo_test/dataset/images/train/Suwon_CH01_20200720_1730_MON_9m_NH_highway_TW5_sunny_FHD_009.png\n",
      "Copied /home/bongo/porter_notebook/yolo/aihub/data_test/yolo_test/origin_img/Suwon_CH01_20200720_1730_MON_9m_NH_highway_TW5_sunny_FHD_006.png to /home/bongo/porter_notebook/yolo/aihub/data_test/yolo_test/dataset/images/train/Suwon_CH01_20200720_1730_MON_9m_NH_highway_TW5_sunny_FHD_006.png\n",
      "Copied /home/bongo/porter_notebook/yolo/aihub/data_test/yolo_test/origin_img/Suwon_CH01_20200720_1730_MON_9m_NH_highway_TW5_sunny_FHD_014.png to /home/bongo/porter_notebook/yolo/aihub/data_test/yolo_test/dataset/images/train/Suwon_CH01_20200720_1730_MON_9m_NH_highway_TW5_sunny_FHD_014.png\n",
      "Copied /home/bongo/porter_notebook/yolo/aihub/data_test/yolo_test/origin_img/Suwon_CH01_20200720_1730_MON_9m_NH_highway_TW5_sunny_FHD_003.png to /home/bongo/porter_notebook/yolo/aihub/data_test/yolo_test/dataset/images/train/Suwon_CH01_20200720_1730_MON_9m_NH_highway_TW5_sunny_FHD_003.png\n"
     ]
    }
   ],
   "source": [
    "# Copy valid and train files\n",
    "copy_files(Valid_file_name, origin_img_dir, Valid_img_path)\n",
    "copy_files(Train_file_name, origin_img_dir, Train_img_path)"
   ]
  },
  {
   "cell_type": "code",
   "execution_count": 21,
   "id": "4c3b6c09",
   "metadata": {},
   "outputs": [
    {
     "data": {
      "text/plain": [
       "['Suwon_CH01_20200720_1730_MON_9m_NH_highway_TW5_sunny_FHD_002.png']"
      ]
     },
     "execution_count": 21,
     "metadata": {},
     "output_type": "execute_result"
    }
   ],
   "source": [
    "Valid_file_name"
   ]
  },
  {
   "cell_type": "code",
   "execution_count": 20,
   "id": "400420b9",
   "metadata": {},
   "outputs": [
    {
     "data": {
      "text/plain": [
       "'/home/bongo/porter_notebook/yolo/aihub/data_test/yolo_test/origin_label_txt'"
      ]
     },
     "execution_count": 20,
     "metadata": {},
     "output_type": "execute_result"
    }
   ],
   "source": [
    "label_txt_dir"
   ]
  },
  {
   "cell_type": "code",
   "execution_count": 39,
   "id": "f6241995",
   "metadata": {},
   "outputs": [
    {
     "data": {
      "text/plain": [
       "['Suwon_CH01_20200720_1730_MON_9m_NH_highway_TW5_sunny_FHD_002_2.txt',\n",
       " 'Suwon_CH01_20200720_1730_MON_9m_NH_highway_TW5_sunny_FHD_002.txt']"
      ]
     },
     "execution_count": 39,
     "metadata": {},
     "output_type": "execute_result"
    }
   ],
   "source": [
    "valid_label_txt_l = []\n",
    "for txt_label_file in os.listdir(label_txt_dir):\n",
    "    for target_name in Valid_file_name:\n",
    "        if target_name.split('.')[0] in txt_label_file:\n",
    "            valid_label_txt_l.append(txt_label_file)\n",
    "valid_label_txt_l    "
   ]
  },
  {
   "cell_type": "code",
   "execution_count": 40,
   "id": "f8b008f0",
   "metadata": {},
   "outputs": [
    {
     "data": {
      "text/plain": [
       "['Suwon_CH01_20200720_1730_MON_9m_NH_highway_TW5_sunny_FHD_003.txt',\n",
       " 'Suwon_CH01_20200720_1730_MON_9m_NH_highway_TW5_sunny_FHD_009.txt',\n",
       " 'Suwon_CH01_20200720_1730_MON_9m_NH_highway_TW5_sunny_FHD_014_14.txt',\n",
       " 'Suwon_CH01_20200720_1730_MON_9m_NH_highway_TW5_sunny_FHD_006_6.txt',\n",
       " 'Suwon_CH01_20200720_1730_MON_9m_NH_highway_TW5_sunny_FHD_014.txt',\n",
       " 'Suwon_CH01_20200720_1730_MON_9m_NH_highway_TW5_sunny_FHD_006.txt',\n",
       " 'Suwon_CH01_20200720_1730_MON_9m_NH_highway_TW5_sunny_FHD_009_9.txt',\n",
       " 'Suwon_CH01_20200720_1730_MON_9m_NH_highway_TW5_sunny_FHD_003_3.txt']"
      ]
     },
     "execution_count": 40,
     "metadata": {},
     "output_type": "execute_result"
    }
   ],
   "source": [
    "train_label_txt_l = []\n",
    "for txt_label_file in os.listdir(label_txt_dir):\n",
    "    for target_name in Train_file_name:\n",
    "        if target_name.split('.')[0] in txt_label_file:\n",
    "            train_label_txt_l.append(txt_label_file)\n",
    "train_label_txt_l    "
   ]
  },
  {
   "cell_type": "code",
   "execution_count": 41,
   "id": "107c5251",
   "metadata": {},
   "outputs": [],
   "source": [
    "def copy_files(file_list, src_dir, dest_dir):\n",
    "    \"\"\"\n",
    "    Copy files from source directory to destination directory based on file list.\n",
    "\n",
    "    Args:\n",
    "        file_list (list): List of filenames to copy.\n",
    "        src_dir (str): Source directory where files are located.\n",
    "        dest_dir (str): Destination directory where files will be copied.\n",
    "    \"\"\"\n",
    "    os.makedirs(dest_dir, exist_ok=True)  # Ensure destination directory exists\n",
    "    for file_name in file_list:\n",
    "        src_path = os.path.join(src_dir, file_name)\n",
    "        dest_path = os.path.join(dest_dir, file_name)\n",
    "        print(f\"Copied {src_path} to {dest_path}\")\n",
    "        if os.path.exists(src_path):\n",
    "            shutil.copy(src_path, dest_path)\n",
    "            print(f\"Copied {src_path} to {dest_path}\")\n",
    "        else:\n",
    "            print(f\"File not found: {src_path}\")"
   ]
  },
  {
   "cell_type": "code",
   "execution_count": 42,
   "id": "61431324",
   "metadata": {},
   "outputs": [
    {
     "data": {
      "text/plain": [
       "'/home/bongo/porter_notebook/yolo/aihub/data_test/yolo_test/origin_img'"
      ]
     },
     "execution_count": 42,
     "metadata": {},
     "output_type": "execute_result"
    }
   ],
   "source": [
    "origin_img_dir"
   ]
  },
  {
   "cell_type": "code",
   "execution_count": 43,
   "id": "993f2610",
   "metadata": {},
   "outputs": [
    {
     "data": {
      "text/plain": [
       "'/home/bongo/porter_notebook/yolo/aihub/data_test/yolo_test/origin_label_txt'"
      ]
     },
     "execution_count": 43,
     "metadata": {},
     "output_type": "execute_result"
    }
   ],
   "source": [
    "label_txt_dir"
   ]
  },
  {
   "cell_type": "code",
   "execution_count": 44,
   "id": "ba0e85d7",
   "metadata": {},
   "outputs": [
    {
     "data": {
      "text/plain": [
       "['Suwon_CH01_20200720_1730_MON_9m_NH_highway_TW5_sunny_FHD_002_2.txt',\n",
       " 'Suwon_CH01_20200720_1730_MON_9m_NH_highway_TW5_sunny_FHD_002.txt']"
      ]
     },
     "execution_count": 44,
     "metadata": {},
     "output_type": "execute_result"
    }
   ],
   "source": [
    "valid_label_txt_l"
   ]
  },
  {
   "cell_type": "code",
   "execution_count": 45,
   "id": "ed0a9c1c",
   "metadata": {
    "scrolled": true
   },
   "outputs": [
    {
     "name": "stdout",
     "output_type": "stream",
     "text": [
      "Copied /home/bongo/porter_notebook/yolo/aihub/data_test/yolo_test/origin_label_txt/Suwon_CH01_20200720_1730_MON_9m_NH_highway_TW5_sunny_FHD_002_2.txt to /home/bongo/porter_notebook/yolo/aihub/data_test/yolo_test/dataset/labels/valid/Suwon_CH01_20200720_1730_MON_9m_NH_highway_TW5_sunny_FHD_002_2.txt\n",
      "Copied /home/bongo/porter_notebook/yolo/aihub/data_test/yolo_test/origin_label_txt/Suwon_CH01_20200720_1730_MON_9m_NH_highway_TW5_sunny_FHD_002_2.txt to /home/bongo/porter_notebook/yolo/aihub/data_test/yolo_test/dataset/labels/valid/Suwon_CH01_20200720_1730_MON_9m_NH_highway_TW5_sunny_FHD_002_2.txt\n",
      "Copied /home/bongo/porter_notebook/yolo/aihub/data_test/yolo_test/origin_label_txt/Suwon_CH01_20200720_1730_MON_9m_NH_highway_TW5_sunny_FHD_002.txt to /home/bongo/porter_notebook/yolo/aihub/data_test/yolo_test/dataset/labels/valid/Suwon_CH01_20200720_1730_MON_9m_NH_highway_TW5_sunny_FHD_002.txt\n",
      "Copied /home/bongo/porter_notebook/yolo/aihub/data_test/yolo_test/origin_label_txt/Suwon_CH01_20200720_1730_MON_9m_NH_highway_TW5_sunny_FHD_002.txt to /home/bongo/porter_notebook/yolo/aihub/data_test/yolo_test/dataset/labels/valid/Suwon_CH01_20200720_1730_MON_9m_NH_highway_TW5_sunny_FHD_002.txt\n",
      "Copied /home/bongo/porter_notebook/yolo/aihub/data_test/yolo_test/origin_label_txt/Suwon_CH01_20200720_1730_MON_9m_NH_highway_TW5_sunny_FHD_003.txt to /home/bongo/porter_notebook/yolo/aihub/data_test/yolo_test/dataset/labels/train/Suwon_CH01_20200720_1730_MON_9m_NH_highway_TW5_sunny_FHD_003.txt\n",
      "Copied /home/bongo/porter_notebook/yolo/aihub/data_test/yolo_test/origin_label_txt/Suwon_CH01_20200720_1730_MON_9m_NH_highway_TW5_sunny_FHD_003.txt to /home/bongo/porter_notebook/yolo/aihub/data_test/yolo_test/dataset/labels/train/Suwon_CH01_20200720_1730_MON_9m_NH_highway_TW5_sunny_FHD_003.txt\n",
      "Copied /home/bongo/porter_notebook/yolo/aihub/data_test/yolo_test/origin_label_txt/Suwon_CH01_20200720_1730_MON_9m_NH_highway_TW5_sunny_FHD_009.txt to /home/bongo/porter_notebook/yolo/aihub/data_test/yolo_test/dataset/labels/train/Suwon_CH01_20200720_1730_MON_9m_NH_highway_TW5_sunny_FHD_009.txt\n",
      "Copied /home/bongo/porter_notebook/yolo/aihub/data_test/yolo_test/origin_label_txt/Suwon_CH01_20200720_1730_MON_9m_NH_highway_TW5_sunny_FHD_009.txt to /home/bongo/porter_notebook/yolo/aihub/data_test/yolo_test/dataset/labels/train/Suwon_CH01_20200720_1730_MON_9m_NH_highway_TW5_sunny_FHD_009.txt\n",
      "Copied /home/bongo/porter_notebook/yolo/aihub/data_test/yolo_test/origin_label_txt/Suwon_CH01_20200720_1730_MON_9m_NH_highway_TW5_sunny_FHD_014_14.txt to /home/bongo/porter_notebook/yolo/aihub/data_test/yolo_test/dataset/labels/train/Suwon_CH01_20200720_1730_MON_9m_NH_highway_TW5_sunny_FHD_014_14.txt\n",
      "Copied /home/bongo/porter_notebook/yolo/aihub/data_test/yolo_test/origin_label_txt/Suwon_CH01_20200720_1730_MON_9m_NH_highway_TW5_sunny_FHD_014_14.txt to /home/bongo/porter_notebook/yolo/aihub/data_test/yolo_test/dataset/labels/train/Suwon_CH01_20200720_1730_MON_9m_NH_highway_TW5_sunny_FHD_014_14.txt\n",
      "Copied /home/bongo/porter_notebook/yolo/aihub/data_test/yolo_test/origin_label_txt/Suwon_CH01_20200720_1730_MON_9m_NH_highway_TW5_sunny_FHD_006_6.txt to /home/bongo/porter_notebook/yolo/aihub/data_test/yolo_test/dataset/labels/train/Suwon_CH01_20200720_1730_MON_9m_NH_highway_TW5_sunny_FHD_006_6.txt\n",
      "Copied /home/bongo/porter_notebook/yolo/aihub/data_test/yolo_test/origin_label_txt/Suwon_CH01_20200720_1730_MON_9m_NH_highway_TW5_sunny_FHD_006_6.txt to /home/bongo/porter_notebook/yolo/aihub/data_test/yolo_test/dataset/labels/train/Suwon_CH01_20200720_1730_MON_9m_NH_highway_TW5_sunny_FHD_006_6.txt\n",
      "Copied /home/bongo/porter_notebook/yolo/aihub/data_test/yolo_test/origin_label_txt/Suwon_CH01_20200720_1730_MON_9m_NH_highway_TW5_sunny_FHD_014.txt to /home/bongo/porter_notebook/yolo/aihub/data_test/yolo_test/dataset/labels/train/Suwon_CH01_20200720_1730_MON_9m_NH_highway_TW5_sunny_FHD_014.txt\n",
      "Copied /home/bongo/porter_notebook/yolo/aihub/data_test/yolo_test/origin_label_txt/Suwon_CH01_20200720_1730_MON_9m_NH_highway_TW5_sunny_FHD_014.txt to /home/bongo/porter_notebook/yolo/aihub/data_test/yolo_test/dataset/labels/train/Suwon_CH01_20200720_1730_MON_9m_NH_highway_TW5_sunny_FHD_014.txt\n",
      "Copied /home/bongo/porter_notebook/yolo/aihub/data_test/yolo_test/origin_label_txt/Suwon_CH01_20200720_1730_MON_9m_NH_highway_TW5_sunny_FHD_006.txt to /home/bongo/porter_notebook/yolo/aihub/data_test/yolo_test/dataset/labels/train/Suwon_CH01_20200720_1730_MON_9m_NH_highway_TW5_sunny_FHD_006.txt\n",
      "Copied /home/bongo/porter_notebook/yolo/aihub/data_test/yolo_test/origin_label_txt/Suwon_CH01_20200720_1730_MON_9m_NH_highway_TW5_sunny_FHD_006.txt to /home/bongo/porter_notebook/yolo/aihub/data_test/yolo_test/dataset/labels/train/Suwon_CH01_20200720_1730_MON_9m_NH_highway_TW5_sunny_FHD_006.txt\n",
      "Copied /home/bongo/porter_notebook/yolo/aihub/data_test/yolo_test/origin_label_txt/Suwon_CH01_20200720_1730_MON_9m_NH_highway_TW5_sunny_FHD_009_9.txt to /home/bongo/porter_notebook/yolo/aihub/data_test/yolo_test/dataset/labels/train/Suwon_CH01_20200720_1730_MON_9m_NH_highway_TW5_sunny_FHD_009_9.txt\n",
      "Copied /home/bongo/porter_notebook/yolo/aihub/data_test/yolo_test/origin_label_txt/Suwon_CH01_20200720_1730_MON_9m_NH_highway_TW5_sunny_FHD_009_9.txt to /home/bongo/porter_notebook/yolo/aihub/data_test/yolo_test/dataset/labels/train/Suwon_CH01_20200720_1730_MON_9m_NH_highway_TW5_sunny_FHD_009_9.txt\n",
      "Copied /home/bongo/porter_notebook/yolo/aihub/data_test/yolo_test/origin_label_txt/Suwon_CH01_20200720_1730_MON_9m_NH_highway_TW5_sunny_FHD_003_3.txt to /home/bongo/porter_notebook/yolo/aihub/data_test/yolo_test/dataset/labels/train/Suwon_CH01_20200720_1730_MON_9m_NH_highway_TW5_sunny_FHD_003_3.txt\n",
      "Copied /home/bongo/porter_notebook/yolo/aihub/data_test/yolo_test/origin_label_txt/Suwon_CH01_20200720_1730_MON_9m_NH_highway_TW5_sunny_FHD_003_3.txt to /home/bongo/porter_notebook/yolo/aihub/data_test/yolo_test/dataset/labels/train/Suwon_CH01_20200720_1730_MON_9m_NH_highway_TW5_sunny_FHD_003_3.txt\n"
     ]
    }
   ],
   "source": [
    "# Copy valid and train files\n",
    "copy_files(valid_label_txt_l, label_txt_dir, Valid_label_path)\n",
    "copy_files(train_label_txt_l, label_txt_dir, Train_label_path)"
   ]
  },
  {
   "cell_type": "code",
   "execution_count": 46,
   "id": "ba361c7a",
   "metadata": {},
   "outputs": [
    {
     "name": "stdout",
     "output_type": "stream",
     "text": [
      "All images have corresponding labels!\n"
     ]
    }
   ],
   "source": [
    "def check_dataset_integrity(image_dir, label_dir):\n",
    "    \"\"\"\n",
    "    Check if every image in image_dir has a corresponding label in label_dir.\n",
    "    \"\"\"\n",
    "    image_files = [f for f in os.listdir(image_dir) if f.endswith(('.jpg', '.png'))]\n",
    "    label_files = [f for f in os.listdir(label_dir) if f.endswith('.txt')]\n",
    "    image_names = set(os.path.splitext(f)[0] for f in image_files)\n",
    "    label_names = set(os.path.splitext(f)[0] for f in label_files)\n",
    "\n",
    "    missing_labels = image_names - label_names\n",
    "    if missing_labels:\n",
    "        print(\"Missing labels for images:\", missing_labels)\n",
    "    else:\n",
    "        print(\"All images have corresponding labels!\")\n",
    "\n",
    "# Example usage\n",
    "train_images_dir = '/home/bongo/porter_notebook/yolo/aihub/data_test/yolo_test/dataset/images/train'\n",
    "train_labels_dir = '/home/bongo/porter_notebook/yolo/aihub/data_test/yolo_test/dataset/labels/train'\n",
    "\n",
    "check_dataset_integrity(train_images_dir, train_labels_dir)\n"
   ]
  },
  {
   "cell_type": "markdown",
   "id": "b5ac8cea",
   "metadata": {},
   "source": [
    "# make yaml"
   ]
  },
  {
   "cell_type": "code",
   "execution_count": 47,
   "id": "76e72bcf",
   "metadata": {
    "scrolled": true
   },
   "outputs": [
    {
     "name": "stdout",
     "output_type": "stream",
     "text": [
      "\n"
     ]
    },
    {
     "data": {
      "text/plain": [
       "['truck', 'bus', 'car']"
      ]
     },
     "execution_count": 47,
     "metadata": {},
     "output_type": "execute_result"
    }
   ],
   "source": [
    "import xml.etree.ElementTree as ET\n",
    "def extract_unique_labels(xml_file):\n",
    "    \"\"\"\n",
    "    Extract unique 'label' values from <box> elements in the given XML file.\n",
    "    \"\"\"\n",
    "    tree = ET.parse(xml_file)\n",
    "    root = tree.getroot()\n",
    "    \n",
    "    # Set to store unique labels\n",
    "    unique_labels = set()\n",
    "    \n",
    "    # Find all <box> elements\n",
    "    for box in root.findall(\".//box\"):\n",
    "        label = box.attrib.get(\"label\")\n",
    "        if label:\n",
    "            label = label.replace(\"'\",'')\n",
    "            unique_labels.add(label)\n",
    "    return unique_labels\n",
    "\n",
    "def get_all_unique_labels(meta_list):\n",
    "    \"\"\"\n",
    "    Extract all unique labels from a list of XML files.\n",
    "    \"\"\"\n",
    "    unique_label_set = set()  # Use a set for efficient deduplication\n",
    "    for xml_file in meta_list:\n",
    "        unique_label_set.update(extract_unique_labels(xml_file))\n",
    "    return list(unique_label_set)\n",
    "\n",
    "\n",
    "\n",
    "file_name_list = []\n",
    "# 이미지 파일 이름 끝이 .png로 끝나므로 .png로 split 후 이름만 가져온다.\n",
    "for file_name in os.listdir(origin_img_dir):\n",
    "    if \".png\" in file_name:\n",
    "        file_name_list.append(file_name)\n",
    "file_name_list\n",
    "\n",
    "meta_list = []\n",
    "for file_name in  os.listdir(origin_xml_dir):\n",
    "    if (\".xml\" in file_name):\n",
    "        print()\n",
    "        meta_list.append(os.path.join(origin_xml_dir,file_name) )\n",
    "meta_list\n",
    "\n",
    "\n",
    "unique_label_list = get_all_unique_labels(meta_list)\n",
    "unique_label_list"
   ]
  },
  {
   "cell_type": "code",
   "execution_count": 48,
   "id": "dccdd3e6",
   "metadata": {},
   "outputs": [
    {
     "data": {
      "text/plain": [
       "{'names': ['truck', 'bus', 'car'],\n",
       " 'nc': 3,\n",
       " 'train': '/home/bongo/porter_notebook/yolo/aihub/data_test/yolo_test/dataset/images/train',\n",
       " 'val': '/home/bongo/porter_notebook/yolo/aihub/data_test/yolo_test/dataset/images/valid'}"
      ]
     },
     "metadata": {},
     "output_type": "display_data"
    }
   ],
   "source": [
    "yaml_data = {'train': Train_img_path, 'val': Valid_img_path, \n",
    "          'nc': len(unique_label_list), 'names': unique_label_list}\n",
    "\n",
    "yaml_path = os.path.join(curr_dir,'data.yaml')\n",
    "\n",
    "with open(yaml_path,'w') as f:\n",
    "    yaml.dump(yaml_data,f)\n",
    "\n",
    "with open(yaml_path,'r') as f:\n",
    "    yaml_file = yaml.load(f, Loader=yaml.FullLoader)\n",
    "    display(yaml_file)"
   ]
  },
  {
   "cell_type": "code",
   "execution_count": 49,
   "id": "9e137fd6",
   "metadata": {},
   "outputs": [
    {
     "name": "stderr",
     "output_type": "stream",
     "text": [
      "Missing colon in file PosixPath('/home/bongo/anaconda3/lib/python3.11/site-packages/matplotlib/mpl-data/matplotlibrc'), line 263 (' sans-serif')\n"
     ]
    }
   ],
   "source": [
    "from ultralytics import YOLO"
   ]
  },
  {
   "cell_type": "code",
   "execution_count": 50,
   "id": "59c445ce",
   "metadata": {},
   "outputs": [
    {
     "name": "stdout",
     "output_type": "stream",
     "text": [
      "<class 'dict'> 80\n",
      "{0: 'person', 1: 'bicycle', 2: 'car', 3: 'motorcycle', 4: 'airplane', 5: 'bus', 6: 'train', 7: 'truck', 8: 'boat', 9: 'traffic light', 10: 'fire hydrant', 11: 'stop sign', 12: 'parking meter', 13: 'bench', 14: 'bird', 15: 'cat', 16: 'dog', 17: 'horse', 18: 'sheep', 19: 'cow', 20: 'elephant', 21: 'bear', 22: 'zebra', 23: 'giraffe', 24: 'backpack', 25: 'umbrella', 26: 'handbag', 27: 'tie', 28: 'suitcase', 29: 'frisbee', 30: 'skis', 31: 'snowboard', 32: 'sports ball', 33: 'kite', 34: 'baseball bat', 35: 'baseball glove', 36: 'skateboard', 37: 'surfboard', 38: 'tennis racket', 39: 'bottle', 40: 'wine glass', 41: 'cup', 42: 'fork', 43: 'knife', 44: 'spoon', 45: 'bowl', 46: 'banana', 47: 'apple', 48: 'sandwich', 49: 'orange', 50: 'broccoli', 51: 'carrot', 52: 'hot dog', 53: 'pizza', 54: 'donut', 55: 'cake', 56: 'chair', 57: 'couch', 58: 'potted plant', 59: 'bed', 60: 'dining table', 61: 'toilet', 62: 'tv', 63: 'laptop', 64: 'mouse', 65: 'remote', 66: 'keyboard', 67: 'cell phone', 68: 'microwave', 69: 'oven', 70: 'toaster', 71: 'sink', 72: 'refrigerator', 73: 'book', 74: 'clock', 75: 'vase', 76: 'scissors', 77: 'teddy bear', 78: 'hair drier', 79: 'toothbrush'}\n"
     ]
    }
   ],
   "source": [
    "model = YOLO(\"yolov8l.pt\") # 원하는 크기 모델 입력(n, s, m, l, x 등 원하는 모델을 로드함)\n",
    "print(type(model.names),len(model.names))\n",
    "print(model.names)"
   ]
  },
  {
   "cell_type": "code",
   "execution_count": 51,
   "id": "f96c89e0",
   "metadata": {},
   "outputs": [
    {
     "data": {
      "text/plain": [
       "'/home/bongo/porter_notebook/yolo/aihub/data_test/yolo_test/data.yaml'"
      ]
     },
     "execution_count": 51,
     "metadata": {},
     "output_type": "execute_result"
    }
   ],
   "source": [
    "yaml_path = os.path.join(curr_dir,'data.yaml')\n",
    "yaml_path"
   ]
  },
  {
   "cell_type": "code",
   "execution_count": 55,
   "id": "5e20ec69",
   "metadata": {
    "scrolled": true
   },
   "outputs": [
    {
     "name": "stdout",
     "output_type": "stream",
     "text": [
      "New https://pypi.org/project/ultralytics/8.3.64 available 😃 Update with 'pip install -U ultralytics'\n",
      "Ultralytics 8.3.59 🚀 Python-3.11.4 torch-2.4.0+cu121 CUDA:0 (NVIDIA GeForce RTX 3090, 24260MiB)\n",
      "\u001b[34m\u001b[1mengine/trainer: \u001b[0mtask=detect, mode=train, model=yolov8l.pt, data=/home/bongo/porter_notebook/yolo/aihub/data_test/yolo_test/data.yaml, epochs=300, time=None, patience=30, batch=16, imgsz=416, save=True, save_period=-1, cache=False, device=None, workers=8, project=None, name=train33, exist_ok=False, pretrained=True, optimizer=auto, verbose=True, seed=0, deterministic=True, single_cls=False, rect=False, cos_lr=False, close_mosaic=10, resume=False, amp=True, fraction=1.0, profile=False, freeze=None, multi_scale=False, overlap_mask=True, mask_ratio=4, dropout=0.0, val=True, split=val, save_json=False, save_hybrid=False, conf=None, iou=0.7, max_det=300, half=False, dnn=False, plots=True, source=None, vid_stride=1, stream_buffer=False, visualize=False, augment=False, agnostic_nms=False, classes=None, retina_masks=False, embed=None, show=False, save_frames=False, save_txt=False, save_conf=False, save_crop=False, show_labels=True, show_conf=True, show_boxes=True, line_width=None, format=torchscript, keras=False, optimize=False, int8=False, dynamic=False, simplify=True, opset=None, workspace=None, nms=False, lr0=0.01, lrf=0.01, momentum=0.937, weight_decay=0.0005, warmup_epochs=3.0, warmup_momentum=0.8, warmup_bias_lr=0.0, box=7.5, cls=0.5, dfl=1.5, pose=12.0, kobj=1.0, nbs=64, hsv_h=0.015, hsv_s=0.7, hsv_v=0.4, degrees=0.0, translate=0.1, scale=0.5, shear=0.0, perspective=0.0, flipud=0.0, fliplr=0.5, bgr=0.0, mosaic=1.0, mixup=0.0, copy_paste=0.0, copy_paste_mode=flip, auto_augment=randaugment, erasing=0.4, crop_fraction=1.0, cfg=None, tracker=botsort.yaml, save_dir=runs/detect/train33\n",
      "\n",
      "                   from  n    params  module                                       arguments                     \n",
      "  0                  -1  1      1856  ultralytics.nn.modules.conv.Conv             [3, 64, 3, 2]                 \n",
      "  1                  -1  1     73984  ultralytics.nn.modules.conv.Conv             [64, 128, 3, 2]               \n",
      "  2                  -1  3    279808  ultralytics.nn.modules.block.C2f             [128, 128, 3, True]           \n",
      "  3                  -1  1    295424  ultralytics.nn.modules.conv.Conv             [128, 256, 3, 2]              \n",
      "  4                  -1  6   2101248  ultralytics.nn.modules.block.C2f             [256, 256, 6, True]           \n",
      "  5                  -1  1   1180672  ultralytics.nn.modules.conv.Conv             [256, 512, 3, 2]              \n",
      "  6                  -1  6   8396800  ultralytics.nn.modules.block.C2f             [512, 512, 6, True]           \n",
      "  7                  -1  1   2360320  ultralytics.nn.modules.conv.Conv             [512, 512, 3, 2]              \n",
      "  8                  -1  3   4461568  ultralytics.nn.modules.block.C2f             [512, 512, 3, True]           \n",
      "  9                  -1  1    656896  ultralytics.nn.modules.block.SPPF            [512, 512, 5]                 \n",
      " 10                  -1  1         0  torch.nn.modules.upsampling.Upsample         [None, 2, 'nearest']          \n",
      " 11             [-1, 6]  1         0  ultralytics.nn.modules.conv.Concat           [1]                           \n",
      " 12                  -1  3   4723712  ultralytics.nn.modules.block.C2f             [1024, 512, 3]                \n",
      " 13                  -1  1         0  torch.nn.modules.upsampling.Upsample         [None, 2, 'nearest']          \n",
      " 14             [-1, 4]  1         0  ultralytics.nn.modules.conv.Concat           [1]                           \n",
      " 15                  -1  3   1247744  ultralytics.nn.modules.block.C2f             [768, 256, 3]                 \n",
      " 16                  -1  1    590336  ultralytics.nn.modules.conv.Conv             [256, 256, 3, 2]              \n",
      " 17            [-1, 12]  1         0  ultralytics.nn.modules.conv.Concat           [1]                           \n",
      " 18                  -1  3   4592640  ultralytics.nn.modules.block.C2f             [768, 512, 3]                 \n",
      " 19                  -1  1   2360320  ultralytics.nn.modules.conv.Conv             [512, 512, 3, 2]              \n",
      " 20             [-1, 9]  1         0  ultralytics.nn.modules.conv.Concat           [1]                           \n",
      " 21                  -1  3   4723712  ultralytics.nn.modules.block.C2f             [1024, 512, 3]                \n",
      " 22        [15, 18, 21]  1   5585113  ultralytics.nn.modules.head.Detect           [3, [256, 512, 512]]          \n",
      "Model summary: 365 layers, 43,632,153 parameters, 43,632,137 gradients, 165.4 GFLOPs\n",
      "\n",
      "Transferred 110/595 items from pretrained weights\n",
      "\u001b[34m\u001b[1mTensorBoard: \u001b[0mStart with 'tensorboard --logdir runs/detect/train33', view at http://localhost:6006/\n",
      "Freezing layer 'model.22.dfl.conv.weight'\n",
      "\u001b[34m\u001b[1mAMP: \u001b[0mrunning Automatic Mixed Precision (AMP) checks...\n",
      "\u001b[34m\u001b[1mAMP: \u001b[0mchecks passed ✅\n"
     ]
    },
    {
     "name": "stderr",
     "output_type": "stream",
     "text": [
      "\u001b[34m\u001b[1mtrain: \u001b[0mScanning /home/bongo/porter_notebook/yolo/aihub/data_test/yolo_test/dataset/labels/train.cache... 4 images, 0 backgrou\u001b[0m\n",
      "\u001b[34m\u001b[1mval: \u001b[0mScanning /home/bongo/porter_notebook/yolo/aihub/data_test/yolo_test/dataset/labels/valid.cache... 1 images, 0 background\u001b[0m\n"
     ]
    },
    {
     "name": "stdout",
     "output_type": "stream",
     "text": [
      "Plotting labels to runs/detect/train33/labels.jpg... \n",
      "\u001b[34m\u001b[1moptimizer:\u001b[0m 'optimizer=auto' found, ignoring 'lr0=0.01' and 'momentum=0.937' and determining best 'optimizer', 'lr0' and 'momentum' automatically... \n",
      "\u001b[34m\u001b[1moptimizer:\u001b[0m AdamW(lr=0.001429, momentum=0.9) with parameter groups 97 weight(decay=0.0), 104 weight(decay=0.0005), 103 bias(decay=0.0)\n",
      "\u001b[34m\u001b[1mTensorBoard: \u001b[0mmodel graph visualization added ✅\n",
      "Image sizes 416 train, 416 val\n",
      "Using 8 dataloader workers\n",
      "Logging results to \u001b[1mruns/detect/train33\u001b[0m\n",
      "Starting training for 300 epochs...\n",
      "\n",
      "      Epoch    GPU_mem   box_loss   cls_loss   dfl_loss  Instances       Size\n"
     ]
    },
    {
     "name": "stderr",
     "output_type": "stream",
     "text": [
      "      1/300      2.96G      2.907      2.709      1.168        153        416: 100%|██████████| 1/1 [00:00<00:00,  4.30it/s]\n",
      "                 Class     Images  Instances      Box(P          R      mAP50  mAP50-95): 100%|██████████| 1/1 [00:00<00:00, "
     ]
    },
    {
     "name": "stdout",
     "output_type": "stream",
     "text": [
      "                   all          1         15          0          0          0          0\n"
     ]
    },
    {
     "name": "stderr",
     "output_type": "stream",
     "text": [
      "\n"
     ]
    },
    {
     "name": "stdout",
     "output_type": "stream",
     "text": [
      "\n",
      "      Epoch    GPU_mem   box_loss   cls_loss   dfl_loss  Instances       Size\n"
     ]
    },
    {
     "name": "stderr",
     "output_type": "stream",
     "text": [
      "      2/300       1.7G      3.084      2.511      1.176        192        416: 100%|██████████| 1/1 [00:00<00:00,  5.57it/s]\n",
      "                 Class     Images  Instances      Box(P          R      mAP50  mAP50-95): 100%|██████████| 1/1 [00:00<00:00, "
     ]
    },
    {
     "name": "stdout",
     "output_type": "stream",
     "text": [
      "                   all          1         15          0          0          0          0\n"
     ]
    },
    {
     "name": "stderr",
     "output_type": "stream",
     "text": [
      "\n"
     ]
    },
    {
     "name": "stdout",
     "output_type": "stream",
     "text": [
      "\n",
      "      Epoch    GPU_mem   box_loss   cls_loss   dfl_loss  Instances       Size\n"
     ]
    },
    {
     "name": "stderr",
     "output_type": "stream",
     "text": [
      "      3/300      1.68G      2.658      2.574      1.135        167        416: 100%|██████████| 1/1 [00:00<00:00,  6.78it/s]\n",
      "                 Class     Images  Instances      Box(P          R      mAP50  mAP50-95): 100%|██████████| 1/1 [00:00<00:00, "
     ]
    },
    {
     "name": "stdout",
     "output_type": "stream",
     "text": [
      "                   all          1         15          0          0          0          0\n"
     ]
    },
    {
     "name": "stderr",
     "output_type": "stream",
     "text": [
      "\n"
     ]
    },
    {
     "name": "stdout",
     "output_type": "stream",
     "text": [
      "\n",
      "      Epoch    GPU_mem   box_loss   cls_loss   dfl_loss  Instances       Size\n"
     ]
    },
    {
     "name": "stderr",
     "output_type": "stream",
     "text": [
      "      4/300      1.72G      2.843       2.58      1.237        190        416: 100%|██████████| 1/1 [00:00<00:00,  5.51it/s]\n",
      "                 Class     Images  Instances      Box(P          R      mAP50  mAP50-95): 100%|██████████| 1/1 [00:00<00:00, "
     ]
    },
    {
     "name": "stdout",
     "output_type": "stream",
     "text": [
      "                   all          1         15          0          0          0          0\n"
     ]
    },
    {
     "name": "stderr",
     "output_type": "stream",
     "text": [
      "\n"
     ]
    },
    {
     "name": "stdout",
     "output_type": "stream",
     "text": [
      "\n",
      "      Epoch    GPU_mem   box_loss   cls_loss   dfl_loss  Instances       Size\n"
     ]
    },
    {
     "name": "stderr",
     "output_type": "stream",
     "text": [
      "      5/300      2.03G      2.703      2.449      1.137        121        416: 100%|██████████| 1/1 [00:00<00:00,  5.25it/s]\n",
      "                 Class     Images  Instances      Box(P          R      mAP50  mAP50-95): 100%|██████████| 1/1 [00:00<00:00, "
     ]
    },
    {
     "name": "stdout",
     "output_type": "stream",
     "text": [
      "                   all          1         15          0          0          0          0\n"
     ]
    },
    {
     "name": "stderr",
     "output_type": "stream",
     "text": [
      "\n"
     ]
    },
    {
     "name": "stdout",
     "output_type": "stream",
     "text": [
      "\n",
      "      Epoch    GPU_mem   box_loss   cls_loss   dfl_loss  Instances       Size\n"
     ]
    },
    {
     "name": "stderr",
     "output_type": "stream",
     "text": [
      "      6/300      2.03G      2.511      2.084      1.043        185        416: 100%|██████████| 1/1 [00:00<00:00,  5.94it/s]\n",
      "                 Class     Images  Instances      Box(P          R      mAP50  mAP50-95): 100%|██████████| 1/1 [00:00<00:00, "
     ]
    },
    {
     "name": "stdout",
     "output_type": "stream",
     "text": [
      "                   all          1         15          0          0          0          0\n"
     ]
    },
    {
     "name": "stderr",
     "output_type": "stream",
     "text": [
      "\n"
     ]
    },
    {
     "name": "stdout",
     "output_type": "stream",
     "text": [
      "\n",
      "      Epoch    GPU_mem   box_loss   cls_loss   dfl_loss  Instances       Size\n"
     ]
    },
    {
     "name": "stderr",
     "output_type": "stream",
     "text": [
      "      7/300      2.03G      1.725      1.941      1.039        132        416: 100%|██████████| 1/1 [00:00<00:00,  5.68it/s]\n",
      "                 Class     Images  Instances      Box(P          R      mAP50  mAP50-95): 100%|██████████| 1/1 [00:00<00:00, "
     ]
    },
    {
     "name": "stdout",
     "output_type": "stream",
     "text": [
      "                   all          1         15          0          0          0          0\n"
     ]
    },
    {
     "name": "stderr",
     "output_type": "stream",
     "text": [
      "\n"
     ]
    },
    {
     "name": "stdout",
     "output_type": "stream",
     "text": [
      "\n",
      "      Epoch    GPU_mem   box_loss   cls_loss   dfl_loss  Instances       Size\n"
     ]
    },
    {
     "name": "stderr",
     "output_type": "stream",
     "text": [
      "      8/300      2.02G      1.648      1.773     0.9447         88        416: 100%|██████████| 1/1 [00:00<00:00,  5.77it/s]\n",
      "                 Class     Images  Instances      Box(P          R      mAP50  mAP50-95): 100%|██████████| 1/1 [00:00<00:00, "
     ]
    },
    {
     "name": "stdout",
     "output_type": "stream",
     "text": [
      "                   all          1         15          0          0          0          0\n"
     ]
    },
    {
     "name": "stderr",
     "output_type": "stream",
     "text": [
      "\n"
     ]
    },
    {
     "name": "stdout",
     "output_type": "stream",
     "text": [
      "\n",
      "      Epoch    GPU_mem   box_loss   cls_loss   dfl_loss  Instances       Size\n"
     ]
    },
    {
     "name": "stderr",
     "output_type": "stream",
     "text": [
      "      9/300      2.02G       1.62      1.546     0.9439        101        416: 100%|██████████| 1/1 [00:00<00:00,  5.84it/s]\n",
      "                 Class     Images  Instances      Box(P          R      mAP50  mAP50-95): 100%|██████████| 1/1 [00:00<00:00, "
     ]
    },
    {
     "name": "stdout",
     "output_type": "stream",
     "text": [
      "                   all          1         15          0          0          0          0\n"
     ]
    },
    {
     "name": "stderr",
     "output_type": "stream",
     "text": [
      "\n"
     ]
    },
    {
     "name": "stdout",
     "output_type": "stream",
     "text": [
      "\n",
      "      Epoch    GPU_mem   box_loss   cls_loss   dfl_loss  Instances       Size\n"
     ]
    },
    {
     "name": "stderr",
     "output_type": "stream",
     "text": [
      "     10/300      2.02G      1.739      1.389     0.9069        117        416: 100%|██████████| 1/1 [00:00<00:00,  5.87it/s]\n",
      "                 Class     Images  Instances      Box(P          R      mAP50  mAP50-95): 100%|██████████| 1/1 [00:00<00:00, "
     ]
    },
    {
     "name": "stdout",
     "output_type": "stream",
     "text": [
      "                   all          1         15          0          0          0          0\n"
     ]
    },
    {
     "name": "stderr",
     "output_type": "stream",
     "text": [
      "\n"
     ]
    },
    {
     "name": "stdout",
     "output_type": "stream",
     "text": [
      "\n",
      "      Epoch    GPU_mem   box_loss   cls_loss   dfl_loss  Instances       Size\n"
     ]
    },
    {
     "name": "stderr",
     "output_type": "stream",
     "text": [
      "     11/300      2.03G      1.463      1.305     0.9733        169        416: 100%|██████████| 1/1 [00:00<00:00,  6.17it/s]\n",
      "                 Class     Images  Instances      Box(P          R      mAP50  mAP50-95): 100%|██████████| 1/1 [00:00<00:00, "
     ]
    },
    {
     "name": "stdout",
     "output_type": "stream",
     "text": [
      "                   all          1         15          0          0          0          0\n"
     ]
    },
    {
     "name": "stderr",
     "output_type": "stream",
     "text": [
      "\n"
     ]
    },
    {
     "name": "stdout",
     "output_type": "stream",
     "text": [
      "\n",
      "      Epoch    GPU_mem   box_loss   cls_loss   dfl_loss  Instances       Size\n"
     ]
    },
    {
     "name": "stderr",
     "output_type": "stream",
     "text": [
      "     12/300      2.03G       1.38       1.29     0.9704        174        416: 100%|██████████| 1/1 [00:00<00:00,  6.03it/s]\n",
      "                 Class     Images  Instances      Box(P          R      mAP50  mAP50-95): 100%|██████████| 1/1 [00:00<00:00, "
     ]
    },
    {
     "name": "stdout",
     "output_type": "stream",
     "text": [
      "                   all          1         15          0          0          0          0\n"
     ]
    },
    {
     "name": "stderr",
     "output_type": "stream",
     "text": [
      "\n"
     ]
    },
    {
     "name": "stdout",
     "output_type": "stream",
     "text": [
      "\n",
      "      Epoch    GPU_mem   box_loss   cls_loss   dfl_loss  Instances       Size\n"
     ]
    },
    {
     "name": "stderr",
     "output_type": "stream",
     "text": [
      "     13/300      2.01G      1.244      1.197     0.9842        118        416: 100%|██████████| 1/1 [00:00<00:00,  6.04it/s]\n",
      "                 Class     Images  Instances      Box(P          R      mAP50  mAP50-95): 100%|██████████| 1/1 [00:00<00:00, "
     ]
    },
    {
     "name": "stdout",
     "output_type": "stream",
     "text": [
      "                   all          1         15          0          0          0          0\n"
     ]
    },
    {
     "name": "stderr",
     "output_type": "stream",
     "text": [
      "\n"
     ]
    },
    {
     "name": "stdout",
     "output_type": "stream",
     "text": [
      "\n",
      "      Epoch    GPU_mem   box_loss   cls_loss   dfl_loss  Instances       Size\n"
     ]
    },
    {
     "name": "stderr",
     "output_type": "stream",
     "text": [
      "     14/300      2.02G      1.308       1.07     0.9193        122        416: 100%|██████████| 1/1 [00:00<00:00,  5.96it/s]\n",
      "                 Class     Images  Instances      Box(P          R      mAP50  mAP50-95): 100%|██████████| 1/1 [00:00<00:00, "
     ]
    },
    {
     "name": "stdout",
     "output_type": "stream",
     "text": [
      "                   all          1         15          0          0          0          0\n"
     ]
    },
    {
     "name": "stderr",
     "output_type": "stream",
     "text": [
      "\n"
     ]
    },
    {
     "name": "stdout",
     "output_type": "stream",
     "text": [
      "\n",
      "      Epoch    GPU_mem   box_loss   cls_loss   dfl_loss  Instances       Size\n"
     ]
    },
    {
     "name": "stderr",
     "output_type": "stream",
     "text": [
      "     15/300      2.06G      1.501       1.01     0.9057        263        416: 100%|██████████| 1/1 [00:00<00:00,  4.32it/s]\n",
      "                 Class     Images  Instances      Box(P          R      mAP50  mAP50-95): 100%|██████████| 1/1 [00:00<00:00, "
     ]
    },
    {
     "name": "stdout",
     "output_type": "stream",
     "text": [
      "                   all          1         15          0          0          0          0\n"
     ]
    },
    {
     "name": "stderr",
     "output_type": "stream",
     "text": [
      "\n"
     ]
    },
    {
     "name": "stdout",
     "output_type": "stream",
     "text": [
      "\n",
      "      Epoch    GPU_mem   box_loss   cls_loss   dfl_loss  Instances       Size\n"
     ]
    },
    {
     "name": "stderr",
     "output_type": "stream",
     "text": [
      "     16/300      2.04G      1.913        1.2     0.9331        252        416: 100%|██████████| 1/1 [00:00<00:00,  3.89it/s]\n",
      "                 Class     Images  Instances      Box(P          R      mAP50  mAP50-95): 100%|██████████| 1/1 [00:00<00:00, "
     ]
    },
    {
     "name": "stdout",
     "output_type": "stream",
     "text": [
      "                   all          1         15          0          0          0          0\n"
     ]
    },
    {
     "name": "stderr",
     "output_type": "stream",
     "text": [
      "\n"
     ]
    },
    {
     "name": "stdout",
     "output_type": "stream",
     "text": [
      "\n",
      "      Epoch    GPU_mem   box_loss   cls_loss   dfl_loss  Instances       Size\n"
     ]
    },
    {
     "name": "stderr",
     "output_type": "stream",
     "text": [
      "     17/300      2.03G      1.393     0.9554     0.9543        188        416: 100%|██████████| 1/1 [00:00<00:00,  5.40it/s]\n",
      "                 Class     Images  Instances      Box(P          R      mAP50  mAP50-95): 100%|██████████| 1/1 [00:00<00:00, "
     ]
    },
    {
     "name": "stdout",
     "output_type": "stream",
     "text": [
      "                   all          1         15          0          0          0          0\n"
     ]
    },
    {
     "name": "stderr",
     "output_type": "stream",
     "text": [
      "\n"
     ]
    },
    {
     "name": "stdout",
     "output_type": "stream",
     "text": [
      "\n",
      "      Epoch    GPU_mem   box_loss   cls_loss   dfl_loss  Instances       Size\n"
     ]
    },
    {
     "name": "stderr",
     "output_type": "stream",
     "text": [
      "     18/300      2.04G      1.564      1.065     0.8668        161        416: 100%|██████████| 1/1 [00:00<00:00,  8.03it/s]\n",
      "                 Class     Images  Instances      Box(P          R      mAP50  mAP50-95): 100%|██████████| 1/1 [00:00<00:00, "
     ]
    },
    {
     "name": "stdout",
     "output_type": "stream",
     "text": [
      "                   all          1         15          0          0          0          0\n"
     ]
    },
    {
     "name": "stderr",
     "output_type": "stream",
     "text": [
      "\n"
     ]
    },
    {
     "name": "stdout",
     "output_type": "stream",
     "text": [
      "\n",
      "      Epoch    GPU_mem   box_loss   cls_loss   dfl_loss  Instances       Size\n"
     ]
    },
    {
     "name": "stderr",
     "output_type": "stream",
     "text": [
      "     19/300       2.2G      1.643     0.9051     0.9053        278        416: 100%|██████████| 1/1 [00:00<00:00,  4.55it/s]\n",
      "                 Class     Images  Instances      Box(P          R      mAP50  mAP50-95): 100%|██████████| 1/1 [00:00<00:00, "
     ]
    },
    {
     "name": "stdout",
     "output_type": "stream",
     "text": [
      "                   all          1         15          1     0.0993      0.172     0.0534\n"
     ]
    },
    {
     "name": "stderr",
     "output_type": "stream",
     "text": [
      "\n"
     ]
    },
    {
     "name": "stdout",
     "output_type": "stream",
     "text": [
      "\n",
      "      Epoch    GPU_mem   box_loss   cls_loss   dfl_loss  Instances       Size\n"
     ]
    },
    {
     "name": "stderr",
     "output_type": "stream",
     "text": [
      "     20/300      2.04G      1.452     0.8484     0.9281        285        416: 100%|██████████| 1/1 [00:00<00:00,  6.97it/s]\n",
      "                 Class     Images  Instances      Box(P          R      mAP50  mAP50-95): 100%|██████████| 1/1 [00:00<00:00, "
     ]
    },
    {
     "name": "stdout",
     "output_type": "stream",
     "text": [
      "                   all          1         15          1     0.0993      0.172     0.0534\n"
     ]
    },
    {
     "name": "stderr",
     "output_type": "stream",
     "text": [
      "\n"
     ]
    },
    {
     "name": "stdout",
     "output_type": "stream",
     "text": [
      "\n",
      "      Epoch    GPU_mem   box_loss   cls_loss   dfl_loss  Instances       Size\n"
     ]
    },
    {
     "name": "stderr",
     "output_type": "stream",
     "text": [
      "     21/300      2.19G      1.404     0.8804     0.9354        193        416: 100%|██████████| 1/1 [00:00<00:00,  5.70it/s]\n",
      "                 Class     Images  Instances      Box(P          R      mAP50  mAP50-95): 100%|██████████| 1/1 [00:00<00:00, "
     ]
    },
    {
     "name": "stdout",
     "output_type": "stream",
     "text": [
      "                   all          1         15      0.783      0.111      0.268     0.0998\n"
     ]
    },
    {
     "name": "stderr",
     "output_type": "stream",
     "text": [
      "\n"
     ]
    },
    {
     "name": "stdout",
     "output_type": "stream",
     "text": [
      "\n",
      "      Epoch    GPU_mem   box_loss   cls_loss   dfl_loss  Instances       Size\n"
     ]
    },
    {
     "name": "stderr",
     "output_type": "stream",
     "text": [
      "     22/300      2.05G      1.457     0.7918     0.8948        292        416: 100%|██████████| 1/1 [00:00<00:00,  6.46it/s]\n",
      "                 Class     Images  Instances      Box(P          R      mAP50  mAP50-95): 100%|██████████| 1/1 [00:00<00:00, "
     ]
    },
    {
     "name": "stdout",
     "output_type": "stream",
     "text": [
      "                   all          1         15      0.783      0.111      0.268     0.0998\n"
     ]
    },
    {
     "name": "stderr",
     "output_type": "stream",
     "text": [
      "\n"
     ]
    },
    {
     "name": "stdout",
     "output_type": "stream",
     "text": [
      "\n",
      "      Epoch    GPU_mem   box_loss   cls_loss   dfl_loss  Instances       Size\n"
     ]
    },
    {
     "name": "stderr",
     "output_type": "stream",
     "text": [
      "     23/300      2.17G      1.142     0.8208     0.8711         88        416: 100%|██████████| 1/1 [00:00<00:00,  5.62it/s]\n",
      "                 Class     Images  Instances      Box(P          R      mAP50  mAP50-95): 100%|██████████| 1/1 [00:00<00:00, "
     ]
    },
    {
     "name": "stdout",
     "output_type": "stream",
     "text": [
      "                   all          1         15      0.911      0.258      0.342      0.161\n"
     ]
    },
    {
     "name": "stderr",
     "output_type": "stream",
     "text": [
      "\n"
     ]
    },
    {
     "name": "stdout",
     "output_type": "stream",
     "text": [
      "\n",
      "      Epoch    GPU_mem   box_loss   cls_loss   dfl_loss  Instances       Size\n"
     ]
    },
    {
     "name": "stderr",
     "output_type": "stream",
     "text": [
      "     24/300      2.04G      1.243     0.7981     0.9231        162        416: 100%|██████████| 1/1 [00:00<00:00,  7.22it/s]\n",
      "                 Class     Images  Instances      Box(P          R      mAP50  mAP50-95): 100%|██████████| 1/1 [00:00<00:00, "
     ]
    },
    {
     "name": "stdout",
     "output_type": "stream",
     "text": [
      "                   all          1         15      0.911      0.258      0.342      0.161\n"
     ]
    },
    {
     "name": "stderr",
     "output_type": "stream",
     "text": [
      "\n"
     ]
    },
    {
     "name": "stdout",
     "output_type": "stream",
     "text": [
      "\n",
      "      Epoch    GPU_mem   box_loss   cls_loss   dfl_loss  Instances       Size\n"
     ]
    },
    {
     "name": "stderr",
     "output_type": "stream",
     "text": [
      "     25/300      2.18G      1.123      1.129     0.8832         57        416: 100%|██████████| 1/1 [00:00<00:00,  6.08it/s]\n",
      "                 Class     Images  Instances      Box(P          R      mAP50  mAP50-95): 100%|██████████| 1/1 [00:00<00:00, "
     ]
    },
    {
     "name": "stdout",
     "output_type": "stream",
     "text": [
      "                   all          1         15       0.99      0.389      0.403      0.231\n"
     ]
    },
    {
     "name": "stderr",
     "output_type": "stream",
     "text": [
      "\n"
     ]
    },
    {
     "name": "stdout",
     "output_type": "stream",
     "text": [
      "\n",
      "      Epoch    GPU_mem   box_loss   cls_loss   dfl_loss  Instances       Size\n"
     ]
    },
    {
     "name": "stderr",
     "output_type": "stream",
     "text": [
      "     26/300      2.04G      1.277     0.9222     0.8625        121        416: 100%|██████████| 1/1 [00:00<00:00,  9.70it/s]\n",
      "                 Class     Images  Instances      Box(P          R      mAP50  mAP50-95): 100%|██████████| 1/1 [00:00<00:00, "
     ]
    },
    {
     "name": "stdout",
     "output_type": "stream",
     "text": [
      "                   all          1         15       0.99      0.389      0.403      0.231\n"
     ]
    },
    {
     "name": "stderr",
     "output_type": "stream",
     "text": [
      "\n"
     ]
    },
    {
     "name": "stdout",
     "output_type": "stream",
     "text": [
      "\n",
      "      Epoch    GPU_mem   box_loss   cls_loss   dfl_loss  Instances       Size\n"
     ]
    },
    {
     "name": "stderr",
     "output_type": "stream",
     "text": [
      "     27/300      2.19G      1.214      0.795     0.9415        159        416: 100%|██████████| 1/1 [00:00<00:00,  5.96it/s]\n",
      "                 Class     Images  Instances      Box(P          R      mAP50  mAP50-95): 100%|██████████| 1/1 [00:00<00:00, "
     ]
    },
    {
     "name": "stdout",
     "output_type": "stream",
     "text": [
      "                   all          1         15      0.866      0.472      0.561      0.256\n"
     ]
    },
    {
     "name": "stderr",
     "output_type": "stream",
     "text": [
      "\n"
     ]
    },
    {
     "name": "stdout",
     "output_type": "stream",
     "text": [
      "\n",
      "      Epoch    GPU_mem   box_loss   cls_loss   dfl_loss  Instances       Size\n"
     ]
    },
    {
     "name": "stderr",
     "output_type": "stream",
     "text": [
      "     28/300      2.04G      1.382     0.7702     0.8506        179        416: 100%|██████████| 1/1 [00:00<00:00,  9.26it/s]\n",
      "                 Class     Images  Instances      Box(P          R      mAP50  mAP50-95): 100%|██████████| 1/1 [00:00<00:00, "
     ]
    },
    {
     "name": "stdout",
     "output_type": "stream",
     "text": [
      "                   all          1         15      0.866      0.472      0.561      0.256\n"
     ]
    },
    {
     "name": "stderr",
     "output_type": "stream",
     "text": [
      "\n"
     ]
    },
    {
     "name": "stdout",
     "output_type": "stream",
     "text": [
      "\n",
      "      Epoch    GPU_mem   box_loss   cls_loss   dfl_loss  Instances       Size\n"
     ]
    },
    {
     "name": "stderr",
     "output_type": "stream",
     "text": [
      "     29/300      2.19G       1.51     0.8593     0.8798        219        416: 100%|██████████| 1/1 [00:00<00:00,  5.88it/s]\n",
      "                 Class     Images  Instances      Box(P          R      mAP50  mAP50-95): 100%|██████████| 1/1 [00:00<00:00, "
     ]
    },
    {
     "name": "stdout",
     "output_type": "stream",
     "text": [
      "                   all          1         15      0.747      0.819      0.707       0.32\n"
     ]
    },
    {
     "name": "stderr",
     "output_type": "stream",
     "text": [
      "\n"
     ]
    },
    {
     "name": "stdout",
     "output_type": "stream",
     "text": [
      "\n",
      "      Epoch    GPU_mem   box_loss   cls_loss   dfl_loss  Instances       Size\n"
     ]
    },
    {
     "name": "stderr",
     "output_type": "stream",
     "text": [
      "     30/300      2.03G       1.11     0.7498     0.8542        127        416: 100%|██████████| 1/1 [00:00<00:00,  9.73it/s]\n",
      "                 Class     Images  Instances      Box(P          R      mAP50  mAP50-95): 100%|██████████| 1/1 [00:00<00:00, "
     ]
    },
    {
     "name": "stdout",
     "output_type": "stream",
     "text": [
      "                   all          1         15      0.747      0.819      0.707       0.32\n"
     ]
    },
    {
     "name": "stderr",
     "output_type": "stream",
     "text": [
      "\n"
     ]
    },
    {
     "name": "stdout",
     "output_type": "stream",
     "text": [
      "\n",
      "      Epoch    GPU_mem   box_loss   cls_loss   dfl_loss  Instances       Size\n"
     ]
    },
    {
     "name": "stderr",
     "output_type": "stream",
     "text": [
      "     31/300      2.17G      1.037     0.7864     0.8843         99        416: 100%|██████████| 1/1 [00:00<00:00,  5.95it/s]\n",
      "                 Class     Images  Instances      Box(P          R      mAP50  mAP50-95): 100%|██████████| 1/1 [00:00<00:00, "
     ]
    },
    {
     "name": "stdout",
     "output_type": "stream",
     "text": [
      "                   all          1         15      0.699      0.741      0.681      0.352\n"
     ]
    },
    {
     "name": "stderr",
     "output_type": "stream",
     "text": [
      "\n"
     ]
    },
    {
     "name": "stdout",
     "output_type": "stream",
     "text": [
      "\n",
      "      Epoch    GPU_mem   box_loss   cls_loss   dfl_loss  Instances       Size\n"
     ]
    },
    {
     "name": "stderr",
     "output_type": "stream",
     "text": [
      "     32/300      2.03G     0.9524     0.6812     0.9104        121        416: 100%|██████████| 1/1 [00:00<00:00,  9.19it/s]\n",
      "                 Class     Images  Instances      Box(P          R      mAP50  mAP50-95): 100%|██████████| 1/1 [00:00<00:00, "
     ]
    },
    {
     "name": "stdout",
     "output_type": "stream",
     "text": [
      "                   all          1         15      0.699      0.741      0.681      0.352\n"
     ]
    },
    {
     "name": "stderr",
     "output_type": "stream",
     "text": [
      "\n"
     ]
    },
    {
     "name": "stdout",
     "output_type": "stream",
     "text": [
      "\n",
      "      Epoch    GPU_mem   box_loss   cls_loss   dfl_loss  Instances       Size\n"
     ]
    },
    {
     "name": "stderr",
     "output_type": "stream",
     "text": [
      "     33/300      2.19G      1.113     0.7973     0.9184        165        416: 100%|██████████| 1/1 [00:00<00:00,  6.42it/s]\n",
      "                 Class     Images  Instances      Box(P          R      mAP50  mAP50-95): 100%|██████████| 1/1 [00:00<00:00, "
     ]
    },
    {
     "name": "stdout",
     "output_type": "stream",
     "text": [
      "                   all          1         15      0.826      0.639      0.673      0.355\n"
     ]
    },
    {
     "name": "stderr",
     "output_type": "stream",
     "text": [
      "\n"
     ]
    },
    {
     "name": "stdout",
     "output_type": "stream",
     "text": [
      "\n",
      "      Epoch    GPU_mem   box_loss   cls_loss   dfl_loss  Instances       Size\n"
     ]
    },
    {
     "name": "stderr",
     "output_type": "stream",
     "text": [
      "     34/300      2.03G      1.183     0.7734     0.8803        185        416: 100%|██████████| 1/1 [00:00<00:00,  9.55it/s]\n",
      "                 Class     Images  Instances      Box(P          R      mAP50  mAP50-95): 100%|██████████| 1/1 [00:00<00:00, "
     ]
    },
    {
     "name": "stdout",
     "output_type": "stream",
     "text": [
      "                   all          1         15      0.826      0.639      0.673      0.355\n"
     ]
    },
    {
     "name": "stderr",
     "output_type": "stream",
     "text": [
      "\n"
     ]
    },
    {
     "name": "stdout",
     "output_type": "stream",
     "text": [
      "\n",
      "      Epoch    GPU_mem   box_loss   cls_loss   dfl_loss  Instances       Size\n"
     ]
    },
    {
     "name": "stderr",
     "output_type": "stream",
     "text": [
      "     35/300      2.19G      1.153      0.727     0.8646        166        416: 100%|██████████| 1/1 [00:00<00:00,  6.16it/s]\n",
      "                 Class     Images  Instances      Box(P          R      mAP50  mAP50-95): 100%|██████████| 1/1 [00:00<00:00, "
     ]
    },
    {
     "name": "stdout",
     "output_type": "stream",
     "text": [
      "                   all          1         15      0.819      0.661      0.679      0.372\n"
     ]
    },
    {
     "name": "stderr",
     "output_type": "stream",
     "text": [
      "\n"
     ]
    },
    {
     "name": "stdout",
     "output_type": "stream",
     "text": [
      "\n",
      "      Epoch    GPU_mem   box_loss   cls_loss   dfl_loss  Instances       Size\n"
     ]
    },
    {
     "name": "stderr",
     "output_type": "stream",
     "text": [
      "     36/300      2.02G     0.8817     0.5992     0.8828        135        416: 100%|██████████| 1/1 [00:00<00:00,  9.72it/s]\n",
      "                 Class     Images  Instances      Box(P          R      mAP50  mAP50-95): 100%|██████████| 1/1 [00:00<00:00, "
     ]
    },
    {
     "name": "stdout",
     "output_type": "stream",
     "text": [
      "                   all          1         15      0.819      0.661      0.679      0.372\n"
     ]
    },
    {
     "name": "stderr",
     "output_type": "stream",
     "text": [
      "\n"
     ]
    },
    {
     "name": "stdout",
     "output_type": "stream",
     "text": [
      "\n",
      "      Epoch    GPU_mem   box_loss   cls_loss   dfl_loss  Instances       Size\n"
     ]
    },
    {
     "name": "stderr",
     "output_type": "stream",
     "text": [
      "     37/300      2.19G      1.234     0.7701     0.9142        207        416: 100%|██████████| 1/1 [00:00<00:00,  6.12it/s]\n",
      "                 Class     Images  Instances      Box(P          R      mAP50  mAP50-95): 100%|██████████| 1/1 [00:00<00:00, "
     ]
    },
    {
     "name": "stdout",
     "output_type": "stream",
     "text": [
      "                   all          1         15      0.649      0.583      0.526      0.356\n"
     ]
    },
    {
     "name": "stderr",
     "output_type": "stream",
     "text": [
      "\n"
     ]
    },
    {
     "name": "stdout",
     "output_type": "stream",
     "text": [
      "\n",
      "      Epoch    GPU_mem   box_loss   cls_loss   dfl_loss  Instances       Size\n"
     ]
    },
    {
     "name": "stderr",
     "output_type": "stream",
     "text": [
      "     38/300      2.03G      1.452     0.8518     0.8553        210        416: 100%|██████████| 1/1 [00:00<00:00,  9.19it/s]\n",
      "                 Class     Images  Instances      Box(P          R      mAP50  mAP50-95): 100%|██████████| 1/1 [00:00<00:00, "
     ]
    },
    {
     "name": "stdout",
     "output_type": "stream",
     "text": [
      "                   all          1         15      0.649      0.583      0.526      0.356\n"
     ]
    },
    {
     "name": "stderr",
     "output_type": "stream",
     "text": [
      "\n"
     ]
    },
    {
     "name": "stdout",
     "output_type": "stream",
     "text": [
      "\n",
      "      Epoch    GPU_mem   box_loss   cls_loss   dfl_loss  Instances       Size\n"
     ]
    },
    {
     "name": "stderr",
     "output_type": "stream",
     "text": [
      "     39/300       2.2G      1.243     0.8367     0.8711        200        416: 100%|██████████| 1/1 [00:00<00:00,  6.89it/s]\n",
      "                 Class     Images  Instances      Box(P          R      mAP50  mAP50-95): 100%|██████████| 1/1 [00:00<00:00, "
     ]
    },
    {
     "name": "stdout",
     "output_type": "stream",
     "text": [
      "                   all          1         15      0.819      0.666      0.638      0.371\n"
     ]
    },
    {
     "name": "stderr",
     "output_type": "stream",
     "text": [
      "\n"
     ]
    },
    {
     "name": "stdout",
     "output_type": "stream",
     "text": [
      "\n",
      "      Epoch    GPU_mem   box_loss   cls_loss   dfl_loss  Instances       Size\n"
     ]
    },
    {
     "name": "stderr",
     "output_type": "stream",
     "text": [
      "     40/300      2.03G      1.182     0.8277     0.8638        133        416: 100%|██████████| 1/1 [00:00<00:00,  9.30it/s]\n",
      "                 Class     Images  Instances      Box(P          R      mAP50  mAP50-95): 100%|██████████| 1/1 [00:00<00:00, "
     ]
    },
    {
     "name": "stdout",
     "output_type": "stream",
     "text": [
      "                   all          1         15      0.819      0.666      0.638      0.371\n"
     ]
    },
    {
     "name": "stderr",
     "output_type": "stream",
     "text": [
      "\n"
     ]
    },
    {
     "name": "stdout",
     "output_type": "stream",
     "text": [
      "\n",
      "      Epoch    GPU_mem   box_loss   cls_loss   dfl_loss  Instances       Size\n"
     ]
    },
    {
     "name": "stderr",
     "output_type": "stream",
     "text": [
      "     41/300      2.21G      1.439     0.8175     0.8547        234        416: 100%|██████████| 1/1 [00:00<00:00,  6.24it/s]\n",
      "                 Class     Images  Instances      Box(P          R      mAP50  mAP50-95): 100%|██████████| 1/1 [00:00<00:00, "
     ]
    },
    {
     "name": "stdout",
     "output_type": "stream",
     "text": [
      "                   all          1         15      0.649      0.667      0.578      0.373\n"
     ]
    },
    {
     "name": "stderr",
     "output_type": "stream",
     "text": [
      "\n"
     ]
    },
    {
     "name": "stdout",
     "output_type": "stream",
     "text": [
      "\n",
      "      Epoch    GPU_mem   box_loss   cls_loss   dfl_loss  Instances       Size\n"
     ]
    },
    {
     "name": "stderr",
     "output_type": "stream",
     "text": [
      "     42/300      2.05G      1.239     0.7446     0.8782        228        416: 100%|██████████| 1/1 [00:00<00:00, 10.04it/s]\n",
      "                 Class     Images  Instances      Box(P          R      mAP50  mAP50-95): 100%|██████████| 1/1 [00:00<00:00, "
     ]
    },
    {
     "name": "stdout",
     "output_type": "stream",
     "text": [
      "                   all          1         15      0.649      0.667      0.578      0.373\n"
     ]
    },
    {
     "name": "stderr",
     "output_type": "stream",
     "text": [
      "\n"
     ]
    },
    {
     "name": "stdout",
     "output_type": "stream",
     "text": [
      "\n",
      "      Epoch    GPU_mem   box_loss   cls_loss   dfl_loss  Instances       Size\n"
     ]
    },
    {
     "name": "stderr",
     "output_type": "stream",
     "text": [
      "     43/300      2.17G     0.9325     0.6372     0.8823        123        416: 100%|██████████| 1/1 [00:00<00:00,  6.39it/s]\n",
      "                 Class     Images  Instances      Box(P          R      mAP50  mAP50-95): 100%|██████████| 1/1 [00:00<00:00, "
     ]
    },
    {
     "name": "stdout",
     "output_type": "stream",
     "text": [
      "                   all          1         15      0.755      0.667      0.655      0.404\n"
     ]
    },
    {
     "name": "stderr",
     "output_type": "stream",
     "text": [
      "\n"
     ]
    },
    {
     "name": "stdout",
     "output_type": "stream",
     "text": [
      "\n",
      "      Epoch    GPU_mem   box_loss   cls_loss   dfl_loss  Instances       Size\n"
     ]
    },
    {
     "name": "stderr",
     "output_type": "stream",
     "text": [
      "     44/300      2.04G     0.9747     0.6433     0.8559        140        416: 100%|██████████| 1/1 [00:00<00:00,  9.43it/s]\n",
      "                 Class     Images  Instances      Box(P          R      mAP50  mAP50-95): 100%|██████████| 1/1 [00:00<00:00, "
     ]
    },
    {
     "name": "stdout",
     "output_type": "stream",
     "text": [
      "                   all          1         15      0.755      0.667      0.655      0.404\n"
     ]
    },
    {
     "name": "stderr",
     "output_type": "stream",
     "text": [
      "\n"
     ]
    },
    {
     "name": "stdout",
     "output_type": "stream",
     "text": [
      "\n",
      "      Epoch    GPU_mem   box_loss   cls_loss   dfl_loss  Instances       Size\n"
     ]
    },
    {
     "name": "stderr",
     "output_type": "stream",
     "text": [
      "     45/300      2.19G     0.9995     0.5865     0.8455        197        416: 100%|██████████| 1/1 [00:00<00:00,  6.54it/s]\n",
      "                 Class     Images  Instances      Box(P          R      mAP50  mAP50-95): 100%|██████████| 1/1 [00:00<00:00, "
     ]
    },
    {
     "name": "stdout",
     "output_type": "stream",
     "text": [
      "                   all          1         15      0.699       0.75      0.684      0.414\n"
     ]
    },
    {
     "name": "stderr",
     "output_type": "stream",
     "text": [
      "\n"
     ]
    },
    {
     "name": "stdout",
     "output_type": "stream",
     "text": [
      "\n",
      "      Epoch    GPU_mem   box_loss   cls_loss   dfl_loss  Instances       Size\n"
     ]
    },
    {
     "name": "stderr",
     "output_type": "stream",
     "text": [
      "     46/300      2.03G        0.9     0.5893     0.8581        129        416: 100%|██████████| 1/1 [00:00<00:00,  9.25it/s]\n",
      "                 Class     Images  Instances      Box(P          R      mAP50  mAP50-95): 100%|██████████| 1/1 [00:00<00:00, "
     ]
    },
    {
     "name": "stdout",
     "output_type": "stream",
     "text": [
      "                   all          1         15      0.699       0.75      0.684      0.414\n"
     ]
    },
    {
     "name": "stderr",
     "output_type": "stream",
     "text": [
      "\n"
     ]
    },
    {
     "name": "stdout",
     "output_type": "stream",
     "text": [
      "\n",
      "      Epoch    GPU_mem   box_loss   cls_loss   dfl_loss  Instances       Size\n"
     ]
    },
    {
     "name": "stderr",
     "output_type": "stream",
     "text": [
      "     47/300      2.18G     0.9928     0.6571     0.8868        131        416: 100%|██████████| 1/1 [00:00<00:00,  3.46it/s]\n",
      "                 Class     Images  Instances      Box(P          R      mAP50  mAP50-95): 100%|██████████| 1/1 [00:00<00:00, "
     ]
    },
    {
     "name": "stdout",
     "output_type": "stream",
     "text": [
      "                   all          1         15      0.919      0.701       0.81      0.497\n"
     ]
    },
    {
     "name": "stderr",
     "output_type": "stream",
     "text": [
      "\n"
     ]
    },
    {
     "name": "stdout",
     "output_type": "stream",
     "text": [
      "\n",
      "      Epoch    GPU_mem   box_loss   cls_loss   dfl_loss  Instances       Size\n"
     ]
    },
    {
     "name": "stderr",
     "output_type": "stream",
     "text": [
      "     48/300      2.03G     0.9218     0.5984     0.8757        165        416: 100%|██████████| 1/1 [00:00<00:00,  6.12it/s]\n",
      "                 Class     Images  Instances      Box(P          R      mAP50  mAP50-95): 100%|██████████| 1/1 [00:00<00:00, "
     ]
    },
    {
     "name": "stdout",
     "output_type": "stream",
     "text": [
      "                   all          1         15      0.919      0.701       0.81      0.497\n"
     ]
    },
    {
     "name": "stderr",
     "output_type": "stream",
     "text": [
      "\n"
     ]
    },
    {
     "name": "stdout",
     "output_type": "stream",
     "text": [
      "\n",
      "      Epoch    GPU_mem   box_loss   cls_loss   dfl_loss  Instances       Size\n"
     ]
    },
    {
     "name": "stderr",
     "output_type": "stream",
     "text": [
      "     49/300      2.18G     0.9344     0.6574     0.8364        132        416: 100%|██████████| 1/1 [00:00<00:00,  5.70it/s]\n",
      "                 Class     Images  Instances      Box(P          R      mAP50  mAP50-95): 100%|██████████| 1/1 [00:00<00:00, "
     ]
    },
    {
     "name": "stdout",
     "output_type": "stream",
     "text": [
      "                   all          1         15      0.964      0.694      0.786      0.517\n"
     ]
    },
    {
     "name": "stderr",
     "output_type": "stream",
     "text": [
      "\n"
     ]
    },
    {
     "name": "stdout",
     "output_type": "stream",
     "text": [
      "\n",
      "      Epoch    GPU_mem   box_loss   cls_loss   dfl_loss  Instances       Size\n"
     ]
    },
    {
     "name": "stderr",
     "output_type": "stream",
     "text": [
      "     50/300      2.03G      1.059     0.6312     0.8988        197        416: 100%|██████████| 1/1 [00:00<00:00,  8.04it/s]\n",
      "                 Class     Images  Instances      Box(P          R      mAP50  mAP50-95): 100%|██████████| 1/1 [00:00<00:00, "
     ]
    },
    {
     "name": "stdout",
     "output_type": "stream",
     "text": [
      "                   all          1         15      0.964      0.694      0.786      0.517\n"
     ]
    },
    {
     "name": "stderr",
     "output_type": "stream",
     "text": [
      "\n"
     ]
    },
    {
     "name": "stdout",
     "output_type": "stream",
     "text": [
      "\n",
      "      Epoch    GPU_mem   box_loss   cls_loss   dfl_loss  Instances       Size\n"
     ]
    },
    {
     "name": "stderr",
     "output_type": "stream",
     "text": [
      "     51/300      2.19G      1.063     0.6317     0.8332        153        416: 100%|██████████| 1/1 [00:00<00:00,  5.42it/s]\n",
      "                 Class     Images  Instances      Box(P          R      mAP50  mAP50-95): 100%|██████████| 1/1 [00:00<00:00, "
     ]
    },
    {
     "name": "stdout",
     "output_type": "stream",
     "text": [
      "                   all          1         15      0.847      0.763      0.811      0.532\n"
     ]
    },
    {
     "name": "stderr",
     "output_type": "stream",
     "text": [
      "\n"
     ]
    },
    {
     "name": "stdout",
     "output_type": "stream",
     "text": [
      "\n",
      "      Epoch    GPU_mem   box_loss   cls_loss   dfl_loss  Instances       Size\n"
     ]
    },
    {
     "name": "stderr",
     "output_type": "stream",
     "text": [
      "     52/300      2.03G      1.073     0.6159     0.8729        215        416: 100%|██████████| 1/1 [00:00<00:00,  4.68it/s]\n",
      "                 Class     Images  Instances      Box(P          R      mAP50  mAP50-95): 100%|██████████| 1/1 [00:00<00:00, "
     ]
    },
    {
     "name": "stdout",
     "output_type": "stream",
     "text": [
      "                   all          1         15      0.847      0.763      0.811      0.532\n"
     ]
    },
    {
     "name": "stderr",
     "output_type": "stream",
     "text": [
      "\n"
     ]
    },
    {
     "name": "stdout",
     "output_type": "stream",
     "text": [
      "\n",
      "      Epoch    GPU_mem   box_loss   cls_loss   dfl_loss  Instances       Size\n"
     ]
    },
    {
     "name": "stderr",
     "output_type": "stream",
     "text": [
      "     53/300      2.19G      1.205     0.7917     0.8378        136        416: 100%|██████████| 1/1 [00:00<00:00,  7.96it/s]\n",
      "                 Class     Images  Instances      Box(P          R      mAP50  mAP50-95): 100%|██████████| 1/1 [00:00<00:00, "
     ]
    },
    {
     "name": "stdout",
     "output_type": "stream",
     "text": [
      "                   all          1         15      0.847      0.763      0.811      0.532\n"
     ]
    },
    {
     "name": "stderr",
     "output_type": "stream",
     "text": [
      "\n"
     ]
    },
    {
     "name": "stdout",
     "output_type": "stream",
     "text": [
      "\n",
      "      Epoch    GPU_mem   box_loss   cls_loss   dfl_loss  Instances       Size\n"
     ]
    },
    {
     "name": "stderr",
     "output_type": "stream",
     "text": [
      "     54/300      2.19G      1.219     0.6771     0.8252        243        416: 100%|██████████| 1/1 [00:00<00:00,  5.77it/s]\n",
      "                 Class     Images  Instances      Box(P          R      mAP50  mAP50-95): 100%|██████████| 1/1 [00:00<00:00, "
     ]
    },
    {
     "name": "stdout",
     "output_type": "stream",
     "text": [
      "                   all          1         15      0.741      0.778      0.728      0.484\n"
     ]
    },
    {
     "name": "stderr",
     "output_type": "stream",
     "text": [
      "\n"
     ]
    },
    {
     "name": "stdout",
     "output_type": "stream",
     "text": [
      "\n",
      "      Epoch    GPU_mem   box_loss   cls_loss   dfl_loss  Instances       Size\n"
     ]
    },
    {
     "name": "stderr",
     "output_type": "stream",
     "text": [
      "     55/300      2.02G     0.9914     0.6582      0.867        107        416: 100%|██████████| 1/1 [00:00<00:00,  9.07it/s]\n",
      "                 Class     Images  Instances      Box(P          R      mAP50  mAP50-95): 100%|██████████| 1/1 [00:00<00:00, "
     ]
    },
    {
     "name": "stdout",
     "output_type": "stream",
     "text": [
      "                   all          1         15      0.741      0.778      0.728      0.484\n"
     ]
    },
    {
     "name": "stderr",
     "output_type": "stream",
     "text": [
      "\n"
     ]
    },
    {
     "name": "stdout",
     "output_type": "stream",
     "text": [
      "\n",
      "      Epoch    GPU_mem   box_loss   cls_loss   dfl_loss  Instances       Size\n"
     ]
    },
    {
     "name": "stderr",
     "output_type": "stream",
     "text": [
      "     56/300      2.16G     0.8542     0.5469     0.8691        130        416: 100%|██████████| 1/1 [00:00<00:00,  9.40it/s]\n",
      "                 Class     Images  Instances      Box(P          R      mAP50  mAP50-95): 100%|██████████| 1/1 [00:00<00:00, "
     ]
    },
    {
     "name": "stdout",
     "output_type": "stream",
     "text": [
      "                   all          1         15      0.741      0.778      0.728      0.484\n"
     ]
    },
    {
     "name": "stderr",
     "output_type": "stream",
     "text": [
      "\n"
     ]
    },
    {
     "name": "stdout",
     "output_type": "stream",
     "text": [
      "\n",
      "      Epoch    GPU_mem   box_loss   cls_loss   dfl_loss  Instances       Size\n"
     ]
    },
    {
     "name": "stderr",
     "output_type": "stream",
     "text": [
      "     57/300      2.18G     0.9488     0.5956     0.8386        155        416: 100%|██████████| 1/1 [00:00<00:00,  6.21it/s]\n",
      "                 Class     Images  Instances      Box(P          R      mAP50  mAP50-95): 100%|██████████| 1/1 [00:00<00:00, "
     ]
    },
    {
     "name": "stdout",
     "output_type": "stream",
     "text": [
      "                   all          1         15      0.893      0.851      0.848      0.492\n"
     ]
    },
    {
     "name": "stderr",
     "output_type": "stream",
     "text": [
      "\n"
     ]
    },
    {
     "name": "stdout",
     "output_type": "stream",
     "text": [
      "\n",
      "      Epoch    GPU_mem   box_loss   cls_loss   dfl_loss  Instances       Size\n"
     ]
    },
    {
     "name": "stderr",
     "output_type": "stream",
     "text": [
      "     58/300      2.04G      1.407     0.9748     0.8476        139        416: 100%|██████████| 1/1 [00:00<00:00,  9.32it/s]\n",
      "                 Class     Images  Instances      Box(P          R      mAP50  mAP50-95): 100%|██████████| 1/1 [00:00<00:00, "
     ]
    },
    {
     "name": "stdout",
     "output_type": "stream",
     "text": [
      "                   all          1         15      0.893      0.851      0.848      0.492\n"
     ]
    },
    {
     "name": "stderr",
     "output_type": "stream",
     "text": [
      "\n"
     ]
    },
    {
     "name": "stdout",
     "output_type": "stream",
     "text": [
      "\n",
      "      Epoch    GPU_mem   box_loss   cls_loss   dfl_loss  Instances       Size\n"
     ]
    },
    {
     "name": "stderr",
     "output_type": "stream",
     "text": [
      "     59/300      2.18G     0.9468     0.6126     0.8271        147        416: 100%|██████████| 1/1 [00:00<00:00,  8.00it/s]\n",
      "                 Class     Images  Instances      Box(P          R      mAP50  mAP50-95): 100%|██████████| 1/1 [00:00<00:00, "
     ]
    },
    {
     "name": "stdout",
     "output_type": "stream",
     "text": [
      "                   all          1         15      0.893      0.851      0.848      0.492\n"
     ]
    },
    {
     "name": "stderr",
     "output_type": "stream",
     "text": [
      "\n"
     ]
    },
    {
     "name": "stdout",
     "output_type": "stream",
     "text": [
      "\n",
      "      Epoch    GPU_mem   box_loss   cls_loss   dfl_loss  Instances       Size\n"
     ]
    },
    {
     "name": "stderr",
     "output_type": "stream",
     "text": [
      "     60/300      2.18G     0.9137     0.5552     0.8502        141        416: 100%|██████████| 1/1 [00:00<00:00,  3.05it/s]\n",
      "                 Class     Images  Instances      Box(P          R      mAP50  mAP50-95): 100%|██████████| 1/1 [00:00<00:00, "
     ]
    },
    {
     "name": "stdout",
     "output_type": "stream",
     "text": [
      "                   all          1         15       0.92      0.766      0.872      0.543\n"
     ]
    },
    {
     "name": "stderr",
     "output_type": "stream",
     "text": [
      "\n"
     ]
    },
    {
     "name": "stdout",
     "output_type": "stream",
     "text": [
      "\n",
      "      Epoch    GPU_mem   box_loss   cls_loss   dfl_loss  Instances       Size\n"
     ]
    },
    {
     "name": "stderr",
     "output_type": "stream",
     "text": [
      "     61/300      2.02G     0.9155     0.6173     0.8185        108        416: 100%|██████████| 1/1 [00:00<00:00,  6.94it/s]\n",
      "                 Class     Images  Instances      Box(P          R      mAP50  mAP50-95): 100%|██████████| 1/1 [00:00<00:00, "
     ]
    },
    {
     "name": "stdout",
     "output_type": "stream",
     "text": [
      "                   all          1         15       0.92      0.766      0.872      0.543\n"
     ]
    },
    {
     "name": "stderr",
     "output_type": "stream",
     "text": [
      "\n"
     ]
    },
    {
     "name": "stdout",
     "output_type": "stream",
     "text": [
      "\n",
      "      Epoch    GPU_mem   box_loss   cls_loss   dfl_loss  Instances       Size\n"
     ]
    },
    {
     "name": "stderr",
     "output_type": "stream",
     "text": [
      "     62/300      2.17G     0.9604     0.6261     0.8368        108        416: 100%|██████████| 1/1 [00:00<00:00,  9.02it/s]\n",
      "                 Class     Images  Instances      Box(P          R      mAP50  mAP50-95): 100%|██████████| 1/1 [00:00<00:00, "
     ]
    },
    {
     "name": "stdout",
     "output_type": "stream",
     "text": [
      "                   all          1         15       0.92      0.766      0.872      0.543\n"
     ]
    },
    {
     "name": "stderr",
     "output_type": "stream",
     "text": [
      "\n"
     ]
    },
    {
     "name": "stdout",
     "output_type": "stream",
     "text": [
      "\n",
      "      Epoch    GPU_mem   box_loss   cls_loss   dfl_loss  Instances       Size\n"
     ]
    },
    {
     "name": "stderr",
     "output_type": "stream",
     "text": [
      "     63/300      2.17G     0.8288     0.5685     0.8314         82        416: 100%|██████████| 1/1 [00:00<00:00,  5.84it/s]\n",
      "                 Class     Images  Instances      Box(P          R      mAP50  mAP50-95): 100%|██████████| 1/1 [00:00<00:00, "
     ]
    },
    {
     "name": "stdout",
     "output_type": "stream",
     "text": [
      "                   all          1         15          1       0.82      0.946      0.552\n"
     ]
    },
    {
     "name": "stderr",
     "output_type": "stream",
     "text": [
      "\n"
     ]
    },
    {
     "name": "stdout",
     "output_type": "stream",
     "text": [
      "\n",
      "      Epoch    GPU_mem   box_loss   cls_loss   dfl_loss  Instances       Size\n"
     ]
    },
    {
     "name": "stderr",
     "output_type": "stream",
     "text": [
      "     64/300      2.05G      1.445     0.7178     0.8331        279        416: 100%|██████████| 1/1 [00:00<00:00,  8.46it/s]\n",
      "                 Class     Images  Instances      Box(P          R      mAP50  mAP50-95): 100%|██████████| 1/1 [00:00<00:00, "
     ]
    },
    {
     "name": "stdout",
     "output_type": "stream",
     "text": [
      "                   all          1         15          1       0.82      0.946      0.552\n"
     ]
    },
    {
     "name": "stderr",
     "output_type": "stream",
     "text": [
      "\n"
     ]
    },
    {
     "name": "stdout",
     "output_type": "stream",
     "text": [
      "\n",
      "      Epoch    GPU_mem   box_loss   cls_loss   dfl_loss  Instances       Size\n"
     ]
    },
    {
     "name": "stderr",
     "output_type": "stream",
     "text": [
      "     65/300      2.19G      1.112     0.6478     0.8494        194        416: 100%|██████████| 1/1 [00:00<00:00,  8.84it/s]\n",
      "                 Class     Images  Instances      Box(P          R      mAP50  mAP50-95): 100%|██████████| 1/1 [00:00<00:00, "
     ]
    },
    {
     "name": "stdout",
     "output_type": "stream",
     "text": [
      "                   all          1         15          1       0.82      0.946      0.552\n"
     ]
    },
    {
     "name": "stderr",
     "output_type": "stream",
     "text": [
      "\n"
     ]
    },
    {
     "name": "stdout",
     "output_type": "stream",
     "text": [
      "\n",
      "      Epoch    GPU_mem   box_loss   cls_loss   dfl_loss  Instances       Size\n"
     ]
    },
    {
     "name": "stderr",
     "output_type": "stream",
     "text": [
      "     66/300      2.17G     0.9805     0.6486     0.8783        181        416: 100%|██████████| 1/1 [00:00<00:00,  5.93it/s]\n",
      "                 Class     Images  Instances      Box(P          R      mAP50  mAP50-95): 100%|██████████| 1/1 [00:00<00:00, "
     ]
    },
    {
     "name": "stdout",
     "output_type": "stream",
     "text": [
      "                   all          1         15      0.982      0.768      0.951      0.576\n"
     ]
    },
    {
     "name": "stderr",
     "output_type": "stream",
     "text": [
      "\n"
     ]
    },
    {
     "name": "stdout",
     "output_type": "stream",
     "text": [
      "\n",
      "      Epoch    GPU_mem   box_loss   cls_loss   dfl_loss  Instances       Size\n"
     ]
    },
    {
     "name": "stderr",
     "output_type": "stream",
     "text": [
      "     67/300      2.04G       1.05     0.6575     0.8457        196        416: 100%|██████████| 1/1 [00:00<00:00,  9.45it/s]\n",
      "                 Class     Images  Instances      Box(P          R      mAP50  mAP50-95): 100%|██████████| 1/1 [00:00<00:00, "
     ]
    },
    {
     "name": "stdout",
     "output_type": "stream",
     "text": [
      "                   all          1         15      0.982      0.768      0.951      0.576\n"
     ]
    },
    {
     "name": "stderr",
     "output_type": "stream",
     "text": [
      "\n"
     ]
    },
    {
     "name": "stdout",
     "output_type": "stream",
     "text": [
      "\n",
      "      Epoch    GPU_mem   box_loss   cls_loss   dfl_loss  Instances       Size\n"
     ]
    },
    {
     "name": "stderr",
     "output_type": "stream",
     "text": [
      "     68/300      2.19G      1.101     0.6426     0.8084        192        416: 100%|██████████| 1/1 [00:00<00:00,  8.85it/s]\n",
      "                 Class     Images  Instances      Box(P          R      mAP50  mAP50-95): 100%|██████████| 1/1 [00:00<00:00, "
     ]
    },
    {
     "name": "stdout",
     "output_type": "stream",
     "text": [
      "                   all          1         15      0.982      0.768      0.951      0.576\n"
     ]
    },
    {
     "name": "stderr",
     "output_type": "stream",
     "text": [
      "\n"
     ]
    },
    {
     "name": "stdout",
     "output_type": "stream",
     "text": [
      "\n",
      "      Epoch    GPU_mem   box_loss   cls_loss   dfl_loss  Instances       Size\n"
     ]
    },
    {
     "name": "stderr",
     "output_type": "stream",
     "text": [
      "     69/300      2.19G     0.8896     0.6261     0.8771        137        416: 100%|██████████| 1/1 [00:00<00:00,  5.97it/s]\n",
      "                 Class     Images  Instances      Box(P          R      mAP50  mAP50-95): 100%|██████████| 1/1 [00:00<00:00, "
     ]
    },
    {
     "name": "stdout",
     "output_type": "stream",
     "text": [
      "                   all          1         15      0.877      0.881      0.965      0.517\n"
     ]
    },
    {
     "name": "stderr",
     "output_type": "stream",
     "text": [
      "\n"
     ]
    },
    {
     "name": "stdout",
     "output_type": "stream",
     "text": [
      "\n",
      "      Epoch    GPU_mem   box_loss   cls_loss   dfl_loss  Instances       Size\n"
     ]
    },
    {
     "name": "stderr",
     "output_type": "stream",
     "text": [
      "     70/300      2.02G      0.923     0.6493     0.8853        151        416: 100%|██████████| 1/1 [00:00<00:00,  9.26it/s]\n",
      "                 Class     Images  Instances      Box(P          R      mAP50  mAP50-95): 100%|██████████| 1/1 [00:00<00:00, "
     ]
    },
    {
     "name": "stdout",
     "output_type": "stream",
     "text": [
      "                   all          1         15      0.877      0.881      0.965      0.517\n"
     ]
    },
    {
     "name": "stderr",
     "output_type": "stream",
     "text": [
      "\n"
     ]
    },
    {
     "name": "stdout",
     "output_type": "stream",
     "text": [
      "\n",
      "      Epoch    GPU_mem   box_loss   cls_loss   dfl_loss  Instances       Size\n"
     ]
    },
    {
     "name": "stderr",
     "output_type": "stream",
     "text": [
      "     71/300       2.2G      1.025     0.6324      0.863        254        416: 100%|██████████| 1/1 [00:00<00:00,  9.01it/s]\n",
      "                 Class     Images  Instances      Box(P          R      mAP50  mAP50-95): 100%|██████████| 1/1 [00:00<00:00, "
     ]
    },
    {
     "name": "stdout",
     "output_type": "stream",
     "text": [
      "                   all          1         15      0.877      0.881      0.965      0.517\n"
     ]
    },
    {
     "name": "stderr",
     "output_type": "stream",
     "text": [
      "\n"
     ]
    },
    {
     "name": "stdout",
     "output_type": "stream",
     "text": [
      "\n",
      "      Epoch    GPU_mem   box_loss   cls_loss   dfl_loss  Instances       Size\n"
     ]
    },
    {
     "name": "stderr",
     "output_type": "stream",
     "text": [
      "     72/300       2.2G      1.012      0.582      0.852        178        416: 100%|██████████| 1/1 [00:00<00:00,  5.80it/s]\n",
      "                 Class     Images  Instances      Box(P          R      mAP50  mAP50-95): 100%|██████████| 1/1 [00:00<00:00, "
     ]
    },
    {
     "name": "stdout",
     "output_type": "stream",
     "text": [
      "                   all          1         15      0.897      0.861      0.949      0.532\n"
     ]
    },
    {
     "name": "stderr",
     "output_type": "stream",
     "text": [
      "\n"
     ]
    },
    {
     "name": "stdout",
     "output_type": "stream",
     "text": [
      "\n",
      "      Epoch    GPU_mem   box_loss   cls_loss   dfl_loss  Instances       Size\n"
     ]
    },
    {
     "name": "stderr",
     "output_type": "stream",
     "text": [
      "     73/300      2.02G     0.7916     0.5513     0.8698        122        416: 100%|██████████| 1/1 [00:00<00:00,  8.49it/s]\n",
      "                 Class     Images  Instances      Box(P          R      mAP50  mAP50-95): 100%|██████████| 1/1 [00:00<00:00, "
     ]
    },
    {
     "name": "stdout",
     "output_type": "stream",
     "text": [
      "                   all          1         15      0.897      0.861      0.949      0.532\n"
     ]
    },
    {
     "name": "stderr",
     "output_type": "stream",
     "text": [
      "\n"
     ]
    },
    {
     "name": "stdout",
     "output_type": "stream",
     "text": [
      "\n",
      "      Epoch    GPU_mem   box_loss   cls_loss   dfl_loss  Instances       Size\n"
     ]
    },
    {
     "name": "stderr",
     "output_type": "stream",
     "text": [
      "     74/300      2.17G     0.9849     0.6489     0.9188        103        416: 100%|██████████| 1/1 [00:00<00:00,  8.63it/s]\n",
      "                 Class     Images  Instances      Box(P          R      mAP50  mAP50-95): 100%|██████████| 1/1 [00:00<00:00, "
     ]
    },
    {
     "name": "stdout",
     "output_type": "stream",
     "text": [
      "                   all          1         15      0.897      0.861      0.949      0.532\n"
     ]
    },
    {
     "name": "stderr",
     "output_type": "stream",
     "text": [
      "\n"
     ]
    },
    {
     "name": "stdout",
     "output_type": "stream",
     "text": [
      "\n",
      "      Epoch    GPU_mem   box_loss   cls_loss   dfl_loss  Instances       Size\n"
     ]
    },
    {
     "name": "stderr",
     "output_type": "stream",
     "text": [
      "     75/300       2.2G      1.185     0.6035     0.8385        303        416: 100%|██████████| 1/1 [00:00<00:00,  5.64it/s]\n",
      "                 Class     Images  Instances      Box(P          R      mAP50  mAP50-95): 100%|██████████| 1/1 [00:00<00:00, "
     ]
    },
    {
     "name": "stdout",
     "output_type": "stream",
     "text": [
      "                   all          1         15      0.912      0.861      0.945      0.594\n"
     ]
    },
    {
     "name": "stderr",
     "output_type": "stream",
     "text": [
      "\n"
     ]
    },
    {
     "name": "stdout",
     "output_type": "stream",
     "text": [
      "\n",
      "      Epoch    GPU_mem   box_loss   cls_loss   dfl_loss  Instances       Size\n"
     ]
    },
    {
     "name": "stderr",
     "output_type": "stream",
     "text": [
      "     76/300      2.03G      0.719     0.5226     0.8397        146        416: 100%|██████████| 1/1 [00:00<00:00,  9.11it/s]\n",
      "                 Class     Images  Instances      Box(P          R      mAP50  mAP50-95): 100%|██████████| 1/1 [00:00<00:00, "
     ]
    },
    {
     "name": "stdout",
     "output_type": "stream",
     "text": [
      "                   all          1         15      0.912      0.861      0.945      0.594\n"
     ]
    },
    {
     "name": "stderr",
     "output_type": "stream",
     "text": [
      "\n"
     ]
    },
    {
     "name": "stdout",
     "output_type": "stream",
     "text": [
      "\n",
      "      Epoch    GPU_mem   box_loss   cls_loss   dfl_loss  Instances       Size\n"
     ]
    },
    {
     "name": "stderr",
     "output_type": "stream",
     "text": [
      "     77/300      2.19G     0.8886      0.529     0.8268        200        416: 100%|██████████| 1/1 [00:00<00:00,  7.69it/s]\n",
      "                 Class     Images  Instances      Box(P          R      mAP50  mAP50-95): 100%|██████████| 1/1 [00:00<00:00, "
     ]
    },
    {
     "name": "stdout",
     "output_type": "stream",
     "text": [
      "                   all          1         15      0.912      0.861      0.945      0.594\n"
     ]
    },
    {
     "name": "stderr",
     "output_type": "stream",
     "text": [
      "\n"
     ]
    },
    {
     "name": "stdout",
     "output_type": "stream",
     "text": [
      "\n",
      "      Epoch    GPU_mem   box_loss   cls_loss   dfl_loss  Instances       Size\n"
     ]
    },
    {
     "name": "stderr",
     "output_type": "stream",
     "text": [
      "     78/300      2.19G     0.9727     0.5517     0.8434        228        416: 100%|██████████| 1/1 [00:00<00:00,  5.61it/s]\n",
      "                 Class     Images  Instances      Box(P          R      mAP50  mAP50-95): 100%|██████████| 1/1 [00:00<00:00, "
     ]
    },
    {
     "name": "stdout",
     "output_type": "stream",
     "text": [
      "                   all          1         15       0.94      0.856      0.961      0.603\n"
     ]
    },
    {
     "name": "stderr",
     "output_type": "stream",
     "text": [
      "\n"
     ]
    },
    {
     "name": "stdout",
     "output_type": "stream",
     "text": [
      "\n",
      "      Epoch    GPU_mem   box_loss   cls_loss   dfl_loss  Instances       Size\n"
     ]
    },
    {
     "name": "stderr",
     "output_type": "stream",
     "text": [
      "     79/300      2.03G     0.7035     0.5398     0.8707        145        416: 100%|██████████| 1/1 [00:00<00:00,  9.63it/s]\n",
      "                 Class     Images  Instances      Box(P          R      mAP50  mAP50-95): 100%|██████████| 1/1 [00:00<00:00, "
     ]
    },
    {
     "name": "stdout",
     "output_type": "stream",
     "text": [
      "                   all          1         15       0.94      0.856      0.961      0.603\n"
     ]
    },
    {
     "name": "stderr",
     "output_type": "stream",
     "text": [
      "\n"
     ]
    },
    {
     "name": "stdout",
     "output_type": "stream",
     "text": [
      "\n",
      "      Epoch    GPU_mem   box_loss   cls_loss   dfl_loss  Instances       Size\n"
     ]
    },
    {
     "name": "stderr",
     "output_type": "stream",
     "text": [
      "     80/300      2.18G     0.7925     0.5373     0.8874        179        416: 100%|██████████| 1/1 [00:00<00:00,  8.69it/s]\n",
      "                 Class     Images  Instances      Box(P          R      mAP50  mAP50-95): 100%|██████████| 1/1 [00:00<00:00, "
     ]
    },
    {
     "name": "stdout",
     "output_type": "stream",
     "text": [
      "                   all          1         15       0.94      0.856      0.961      0.603\n"
     ]
    },
    {
     "name": "stderr",
     "output_type": "stream",
     "text": [
      "\n"
     ]
    },
    {
     "name": "stdout",
     "output_type": "stream",
     "text": [
      "\n",
      "      Epoch    GPU_mem   box_loss   cls_loss   dfl_loss  Instances       Size\n"
     ]
    },
    {
     "name": "stderr",
     "output_type": "stream",
     "text": [
      "     81/300       2.2G     0.9316     0.5673     0.8725        201        416: 100%|██████████| 1/1 [00:00<00:00,  5.79it/s]\n",
      "                 Class     Images  Instances      Box(P          R      mAP50  mAP50-95): 100%|██████████| 1/1 [00:00<00:00, "
     ]
    },
    {
     "name": "stdout",
     "output_type": "stream",
     "text": [
      "                   all          1         15      0.898      0.848      0.964      0.636\n"
     ]
    },
    {
     "name": "stderr",
     "output_type": "stream",
     "text": [
      "\n"
     ]
    },
    {
     "name": "stdout",
     "output_type": "stream",
     "text": [
      "\n",
      "      Epoch    GPU_mem   box_loss   cls_loss   dfl_loss  Instances       Size\n"
     ]
    },
    {
     "name": "stderr",
     "output_type": "stream",
     "text": [
      "     82/300      2.03G      1.037     0.6582      0.815        220        416: 100%|██████████| 1/1 [00:00<00:00,  9.20it/s]\n",
      "                 Class     Images  Instances      Box(P          R      mAP50  mAP50-95): 100%|██████████| 1/1 [00:00<00:00, "
     ]
    },
    {
     "name": "stdout",
     "output_type": "stream",
     "text": [
      "                   all          1         15      0.898      0.848      0.964      0.636\n"
     ]
    },
    {
     "name": "stderr",
     "output_type": "stream",
     "text": [
      "\n"
     ]
    },
    {
     "name": "stdout",
     "output_type": "stream",
     "text": [
      "\n",
      "      Epoch    GPU_mem   box_loss   cls_loss   dfl_loss  Instances       Size\n"
     ]
    },
    {
     "name": "stderr",
     "output_type": "stream",
     "text": [
      "     83/300      2.19G     0.9231     0.5992     0.8208        190        416: 100%|██████████| 1/1 [00:00<00:00,  8.24it/s]\n",
      "                 Class     Images  Instances      Box(P          R      mAP50  mAP50-95): 100%|██████████| 1/1 [00:00<00:00, "
     ]
    },
    {
     "name": "stdout",
     "output_type": "stream",
     "text": [
      "                   all          1         15      0.898      0.848      0.964      0.636\n"
     ]
    },
    {
     "name": "stderr",
     "output_type": "stream",
     "text": [
      "\n"
     ]
    },
    {
     "name": "stdout",
     "output_type": "stream",
     "text": [
      "\n",
      "      Epoch    GPU_mem   box_loss   cls_loss   dfl_loss  Instances       Size\n"
     ]
    },
    {
     "name": "stderr",
     "output_type": "stream",
     "text": [
      "     84/300      2.17G     0.8642     0.5716     0.9109        120        416: 100%|██████████| 1/1 [00:00<00:00,  5.94it/s]\n",
      "                 Class     Images  Instances      Box(P          R      mAP50  mAP50-95): 100%|██████████| 1/1 [00:00<00:00, "
     ]
    },
    {
     "name": "stdout",
     "output_type": "stream",
     "text": [
      "                   all          1         15      0.878      0.839      0.945      0.642\n"
     ]
    },
    {
     "name": "stderr",
     "output_type": "stream",
     "text": [
      "\n"
     ]
    },
    {
     "name": "stdout",
     "output_type": "stream",
     "text": [
      "\n",
      "      Epoch    GPU_mem   box_loss   cls_loss   dfl_loss  Instances       Size\n"
     ]
    },
    {
     "name": "stderr",
     "output_type": "stream",
     "text": [
      "     85/300      2.03G     0.9944     0.6641     0.8537        131        416: 100%|██████████| 1/1 [00:00<00:00,  8.84it/s]\n",
      "                 Class     Images  Instances      Box(P          R      mAP50  mAP50-95): 100%|██████████| 1/1 [00:00<00:00, "
     ]
    },
    {
     "name": "stdout",
     "output_type": "stream",
     "text": [
      "                   all          1         15      0.878      0.839      0.945      0.642\n"
     ]
    },
    {
     "name": "stderr",
     "output_type": "stream",
     "text": [
      "\n"
     ]
    },
    {
     "name": "stdout",
     "output_type": "stream",
     "text": [
      "\n",
      "      Epoch    GPU_mem   box_loss   cls_loss   dfl_loss  Instances       Size\n"
     ]
    },
    {
     "name": "stderr",
     "output_type": "stream",
     "text": [
      "     86/300      2.17G     0.8376     0.6098     0.8285        130        416: 100%|██████████| 1/1 [00:00<00:00,  9.06it/s]\n",
      "                 Class     Images  Instances      Box(P          R      mAP50  mAP50-95): 100%|██████████| 1/1 [00:00<00:00, "
     ]
    },
    {
     "name": "stdout",
     "output_type": "stream",
     "text": [
      "                   all          1         15      0.878      0.839      0.945      0.642\n"
     ]
    },
    {
     "name": "stderr",
     "output_type": "stream",
     "text": [
      "\n"
     ]
    },
    {
     "name": "stdout",
     "output_type": "stream",
     "text": [
      "\n",
      "      Epoch    GPU_mem   box_loss   cls_loss   dfl_loss  Instances       Size\n"
     ]
    },
    {
     "name": "stderr",
     "output_type": "stream",
     "text": [
      "     87/300      2.19G      0.841     0.5442     0.8445        184        416: 100%|██████████| 1/1 [00:00<00:00,  8.91it/s]\n",
      "                 Class     Images  Instances      Box(P          R      mAP50  mAP50-95): 100%|██████████| 1/1 [00:00<00:00, "
     ]
    },
    {
     "name": "stdout",
     "output_type": "stream",
     "text": [
      "                   all          1         15      0.878      0.839      0.945      0.642\n"
     ]
    },
    {
     "name": "stderr",
     "output_type": "stream",
     "text": [
      "\n"
     ]
    },
    {
     "name": "stdout",
     "output_type": "stream",
     "text": [
      "\n",
      "      Epoch    GPU_mem   box_loss   cls_loss   dfl_loss  Instances       Size\n"
     ]
    },
    {
     "name": "stderr",
     "output_type": "stream",
     "text": [
      "     88/300       2.2G      1.029      0.647      0.853        234        416: 100%|██████████| 1/1 [00:00<00:00,  5.78it/s]\n",
      "                 Class     Images  Instances      Box(P          R      mAP50  mAP50-95): 100%|██████████| 1/1 [00:00<00:00, "
     ]
    },
    {
     "name": "stdout",
     "output_type": "stream",
     "text": [
      "                   all          1         15      0.804      0.861      0.947      0.602\n"
     ]
    },
    {
     "name": "stderr",
     "output_type": "stream",
     "text": [
      "\n"
     ]
    },
    {
     "name": "stdout",
     "output_type": "stream",
     "text": [
      "\n",
      "      Epoch    GPU_mem   box_loss   cls_loss   dfl_loss  Instances       Size\n"
     ]
    },
    {
     "name": "stderr",
     "output_type": "stream",
     "text": [
      "     89/300      2.01G     0.7081     0.4931     0.8432        119        416: 100%|██████████| 1/1 [00:00<00:00,  9.40it/s]\n",
      "                 Class     Images  Instances      Box(P          R      mAP50  mAP50-95): 100%|██████████| 1/1 [00:00<00:00, "
     ]
    },
    {
     "name": "stdout",
     "output_type": "stream",
     "text": [
      "                   all          1         15      0.804      0.861      0.947      0.602\n"
     ]
    },
    {
     "name": "stderr",
     "output_type": "stream",
     "text": [
      "\n"
     ]
    },
    {
     "name": "stdout",
     "output_type": "stream",
     "text": [
      "\n",
      "      Epoch    GPU_mem   box_loss   cls_loss   dfl_loss  Instances       Size\n"
     ]
    },
    {
     "name": "stderr",
     "output_type": "stream",
     "text": [
      "     90/300       2.2G      1.145     0.6554     0.8259        247        416: 100%|██████████| 1/1 [00:00<00:00,  9.03it/s]\n",
      "                 Class     Images  Instances      Box(P          R      mAP50  mAP50-95): 100%|██████████| 1/1 [00:00<00:00, "
     ]
    },
    {
     "name": "stdout",
     "output_type": "stream",
     "text": [
      "                   all          1         15      0.804      0.861      0.947      0.602\n"
     ]
    },
    {
     "name": "stderr",
     "output_type": "stream",
     "text": [
      "\n"
     ]
    },
    {
     "name": "stdout",
     "output_type": "stream",
     "text": [
      "\n",
      "      Epoch    GPU_mem   box_loss   cls_loss   dfl_loss  Instances       Size\n"
     ]
    },
    {
     "name": "stderr",
     "output_type": "stream",
     "text": [
      "     91/300      2.17G      0.762     0.5363     0.8068         94        416: 100%|██████████| 1/1 [00:00<00:00,  9.35it/s]\n",
      "                 Class     Images  Instances      Box(P          R      mAP50  mAP50-95): 100%|██████████| 1/1 [00:00<00:00, "
     ]
    },
    {
     "name": "stdout",
     "output_type": "stream",
     "text": [
      "                   all          1         15      0.804      0.861      0.947      0.602\n"
     ]
    },
    {
     "name": "stderr",
     "output_type": "stream",
     "text": [
      "\n"
     ]
    },
    {
     "name": "stdout",
     "output_type": "stream",
     "text": [
      "\n",
      "      Epoch    GPU_mem   box_loss   cls_loss   dfl_loss  Instances       Size\n"
     ]
    },
    {
     "name": "stderr",
     "output_type": "stream",
     "text": [
      "     92/300       2.2G      1.048     0.5792     0.7875        216        416: 100%|██████████| 1/1 [00:00<00:00,  6.11it/s]\n",
      "                 Class     Images  Instances      Box(P          R      mAP50  mAP50-95): 100%|██████████| 1/1 [00:00<00:00, "
     ]
    },
    {
     "name": "stdout",
     "output_type": "stream",
     "text": [
      "                   all          1         15      0.929      0.716      0.933      0.591\n"
     ]
    },
    {
     "name": "stderr",
     "output_type": "stream",
     "text": [
      "\n"
     ]
    },
    {
     "name": "stdout",
     "output_type": "stream",
     "text": [
      "\n",
      "      Epoch    GPU_mem   box_loss   cls_loss   dfl_loss  Instances       Size\n"
     ]
    },
    {
     "name": "stderr",
     "output_type": "stream",
     "text": [
      "     93/300      2.02G     0.8688     0.6659     0.8597        182        416: 100%|██████████| 1/1 [00:00<00:00,  9.29it/s]\n",
      "                 Class     Images  Instances      Box(P          R      mAP50  mAP50-95): 100%|██████████| 1/1 [00:00<00:00, "
     ]
    },
    {
     "name": "stdout",
     "output_type": "stream",
     "text": [
      "                   all          1         15      0.929      0.716      0.933      0.591\n"
     ]
    },
    {
     "name": "stderr",
     "output_type": "stream",
     "text": [
      "\n"
     ]
    },
    {
     "name": "stdout",
     "output_type": "stream",
     "text": [
      "\n",
      "      Epoch    GPU_mem   box_loss   cls_loss   dfl_loss  Instances       Size\n"
     ]
    },
    {
     "name": "stderr",
     "output_type": "stream",
     "text": [
      "     94/300      2.17G     0.8703     0.6242     0.8521        136        416: 100%|██████████| 1/1 [00:00<00:00,  8.77it/s]\n",
      "                 Class     Images  Instances      Box(P          R      mAP50  mAP50-95): 100%|██████████| 1/1 [00:00<00:00, "
     ]
    },
    {
     "name": "stdout",
     "output_type": "stream",
     "text": [
      "                   all          1         15      0.929      0.716      0.933      0.591\n"
     ]
    },
    {
     "name": "stderr",
     "output_type": "stream",
     "text": [
      "\n"
     ]
    },
    {
     "name": "stdout",
     "output_type": "stream",
     "text": [
      "\n",
      "      Epoch    GPU_mem   box_loss   cls_loss   dfl_loss  Instances       Size\n"
     ]
    },
    {
     "name": "stderr",
     "output_type": "stream",
     "text": [
      "     95/300      2.18G     0.7569      0.561     0.8502        111        416: 100%|██████████| 1/1 [00:00<00:00,  9.26it/s]\n",
      "                 Class     Images  Instances      Box(P          R      mAP50  mAP50-95): 100%|██████████| 1/1 [00:00<00:00, "
     ]
    },
    {
     "name": "stdout",
     "output_type": "stream",
     "text": [
      "                   all          1         15      0.929      0.716      0.933      0.591\n"
     ]
    },
    {
     "name": "stderr",
     "output_type": "stream",
     "text": [
      "\n"
     ]
    },
    {
     "name": "stdout",
     "output_type": "stream",
     "text": [
      "\n",
      "      Epoch    GPU_mem   box_loss   cls_loss   dfl_loss  Instances       Size\n"
     ]
    },
    {
     "name": "stderr",
     "output_type": "stream",
     "text": [
      "     96/300       2.2G      1.037     0.6628     0.8483        237        416: 100%|██████████| 1/1 [00:00<00:00,  5.93it/s]\n",
      "                 Class     Images  Instances      Box(P          R      mAP50  mAP50-95): 100%|██████████| 1/1 [00:00<00:00, "
     ]
    },
    {
     "name": "stdout",
     "output_type": "stream",
     "text": [
      "                   all          1         15      0.818      0.861      0.921      0.585\n"
     ]
    },
    {
     "name": "stderr",
     "output_type": "stream",
     "text": [
      "\n"
     ]
    },
    {
     "name": "stdout",
     "output_type": "stream",
     "text": [
      "\n",
      "      Epoch    GPU_mem   box_loss   cls_loss   dfl_loss  Instances       Size\n"
     ]
    },
    {
     "name": "stderr",
     "output_type": "stream",
     "text": [
      "     97/300      2.04G     0.9616     0.5537     0.8405        210        416: 100%|██████████| 1/1 [00:00<00:00,  9.48it/s]\n",
      "                 Class     Images  Instances      Box(P          R      mAP50  mAP50-95): 100%|██████████| 1/1 [00:00<00:00, "
     ]
    },
    {
     "name": "stdout",
     "output_type": "stream",
     "text": [
      "                   all          1         15      0.818      0.861      0.921      0.585\n"
     ]
    },
    {
     "name": "stderr",
     "output_type": "stream",
     "text": [
      "\n"
     ]
    },
    {
     "name": "stdout",
     "output_type": "stream",
     "text": [
      "\n",
      "      Epoch    GPU_mem   box_loss   cls_loss   dfl_loss  Instances       Size\n"
     ]
    },
    {
     "name": "stderr",
     "output_type": "stream",
     "text": [
      "     98/300      2.21G      1.002     0.5843     0.8365        246        416: 100%|██████████| 1/1 [00:00<00:00,  8.54it/s]\n",
      "                 Class     Images  Instances      Box(P          R      mAP50  mAP50-95): 100%|██████████| 1/1 [00:00<00:00, "
     ]
    },
    {
     "name": "stdout",
     "output_type": "stream",
     "text": [
      "                   all          1         15      0.818      0.861      0.921      0.585\n"
     ]
    },
    {
     "name": "stderr",
     "output_type": "stream",
     "text": [
      "\n"
     ]
    },
    {
     "name": "stdout",
     "output_type": "stream",
     "text": [
      "\n",
      "      Epoch    GPU_mem   box_loss   cls_loss   dfl_loss  Instances       Size\n"
     ]
    },
    {
     "name": "stderr",
     "output_type": "stream",
     "text": [
      "     99/300      2.18G     0.8048     0.6181     0.8824        162        416: 100%|██████████| 1/1 [00:00<00:00,  5.09it/s]\n",
      "                 Class     Images  Instances      Box(P          R      mAP50  mAP50-95): 100%|██████████| 1/1 [00:00<00:00, "
     ]
    },
    {
     "name": "stdout",
     "output_type": "stream",
     "text": [
      "                   all          1         15      0.818      0.861      0.921      0.585\n"
     ]
    },
    {
     "name": "stderr",
     "output_type": "stream",
     "text": [
      "\n"
     ]
    },
    {
     "name": "stdout",
     "output_type": "stream",
     "text": [
      "\n",
      "      Epoch    GPU_mem   box_loss   cls_loss   dfl_loss  Instances       Size\n"
     ]
    },
    {
     "name": "stderr",
     "output_type": "stream",
     "text": [
      "    100/300      2.19G      1.076     0.5992     0.7859        187        416: 100%|██████████| 1/1 [00:00<00:00,  4.31it/s]\n",
      "                 Class     Images  Instances      Box(P          R      mAP50  mAP50-95): 100%|██████████| 1/1 [00:00<00:00, "
     ]
    },
    {
     "name": "stdout",
     "output_type": "stream",
     "text": [
      "                   all          1         15      0.865      0.764      0.847      0.576\n"
     ]
    },
    {
     "name": "stderr",
     "output_type": "stream",
     "text": [
      "\n"
     ]
    },
    {
     "name": "stdout",
     "output_type": "stream",
     "text": [
      "\n",
      "      Epoch    GPU_mem   box_loss   cls_loss   dfl_loss  Instances       Size\n"
     ]
    },
    {
     "name": "stderr",
     "output_type": "stream",
     "text": [
      "    101/300      2.02G     0.8212     0.5626     0.8714        118        416: 100%|██████████| 1/1 [00:00<00:00,  8.38it/s]\n",
      "                 Class     Images  Instances      Box(P          R      mAP50  mAP50-95): 100%|██████████| 1/1 [00:00<00:00, "
     ]
    },
    {
     "name": "stdout",
     "output_type": "stream",
     "text": [
      "                   all          1         15      0.865      0.764      0.847      0.576\n"
     ]
    },
    {
     "name": "stderr",
     "output_type": "stream",
     "text": [
      "\n"
     ]
    },
    {
     "name": "stdout",
     "output_type": "stream",
     "text": [
      "\n",
      "      Epoch    GPU_mem   box_loss   cls_loss   dfl_loss  Instances       Size\n"
     ]
    },
    {
     "name": "stderr",
     "output_type": "stream",
     "text": [
      "    102/300      2.21G     0.9092     0.5632     0.8547        279        416: 100%|██████████| 1/1 [00:00<00:00,  9.21it/s]\n",
      "                 Class     Images  Instances      Box(P          R      mAP50  mAP50-95): 100%|██████████| 1/1 [00:00<00:00, "
     ]
    },
    {
     "name": "stdout",
     "output_type": "stream",
     "text": [
      "                   all          1         15      0.865      0.764      0.847      0.576\n"
     ]
    },
    {
     "name": "stderr",
     "output_type": "stream",
     "text": [
      "\n"
     ]
    },
    {
     "name": "stdout",
     "output_type": "stream",
     "text": [
      "\n",
      "      Epoch    GPU_mem   box_loss   cls_loss   dfl_loss  Instances       Size\n"
     ]
    },
    {
     "name": "stderr",
     "output_type": "stream",
     "text": [
      "    103/300      2.21G     0.8897     0.5096     0.8497        216        416: 100%|██████████| 1/1 [00:00<00:00,  8.43it/s]\n",
      "                 Class     Images  Instances      Box(P          R      mAP50  mAP50-95): 100%|██████████| 1/1 [00:00<00:00, "
     ]
    },
    {
     "name": "stdout",
     "output_type": "stream",
     "text": [
      "                   all          1         15      0.865      0.764      0.847      0.576\n"
     ]
    },
    {
     "name": "stderr",
     "output_type": "stream",
     "text": [
      "\n"
     ]
    },
    {
     "name": "stdout",
     "output_type": "stream",
     "text": [
      "\n",
      "      Epoch    GPU_mem   box_loss   cls_loss   dfl_loss  Instances       Size\n"
     ]
    },
    {
     "name": "stderr",
     "output_type": "stream",
     "text": [
      "    104/300       2.2G     0.8766     0.5228     0.8504        188        416: 100%|██████████| 1/1 [00:00<00:00,  4.72it/s]\n",
      "                 Class     Images  Instances      Box(P          R      mAP50  mAP50-95): 100%|██████████| 1/1 [00:00<00:00, "
     ]
    },
    {
     "name": "stdout",
     "output_type": "stream",
     "text": [
      "                   all          1         15      0.841      0.917      0.938      0.582\n"
     ]
    },
    {
     "name": "stderr",
     "output_type": "stream",
     "text": [
      "\n"
     ]
    },
    {
     "name": "stdout",
     "output_type": "stream",
     "text": [
      "\n",
      "      Epoch    GPU_mem   box_loss   cls_loss   dfl_loss  Instances       Size\n"
     ]
    },
    {
     "name": "stderr",
     "output_type": "stream",
     "text": [
      "    105/300      2.02G      0.748      0.659      0.823         86        416: 100%|██████████| 1/1 [00:00<00:00,  8.40it/s]\n",
      "                 Class     Images  Instances      Box(P          R      mAP50  mAP50-95): 100%|██████████| 1/1 [00:00<00:00, "
     ]
    },
    {
     "name": "stdout",
     "output_type": "stream",
     "text": [
      "                   all          1         15      0.841      0.917      0.938      0.582\n"
     ]
    },
    {
     "name": "stderr",
     "output_type": "stream",
     "text": [
      "\n"
     ]
    },
    {
     "name": "stdout",
     "output_type": "stream",
     "text": [
      "\n",
      "      Epoch    GPU_mem   box_loss   cls_loss   dfl_loss  Instances       Size\n"
     ]
    },
    {
     "name": "stderr",
     "output_type": "stream",
     "text": [
      "    106/300      2.19G     0.8306     0.4998     0.8341        162        416: 100%|██████████| 1/1 [00:00<00:00,  9.15it/s]\n",
      "                 Class     Images  Instances      Box(P          R      mAP50  mAP50-95): 100%|██████████| 1/1 [00:00<00:00, "
     ]
    },
    {
     "name": "stdout",
     "output_type": "stream",
     "text": [
      "                   all          1         15      0.841      0.917      0.938      0.582\n"
     ]
    },
    {
     "name": "stderr",
     "output_type": "stream",
     "text": [
      "\n"
     ]
    },
    {
     "name": "stdout",
     "output_type": "stream",
     "text": [
      "\n",
      "      Epoch    GPU_mem   box_loss   cls_loss   dfl_loss  Instances       Size\n"
     ]
    },
    {
     "name": "stderr",
     "output_type": "stream",
     "text": [
      "    107/300      2.18G     0.8043     0.5003     0.8296        185        416: 100%|██████████| 1/1 [00:00<00:00, 10.08it/s]\n",
      "                 Class     Images  Instances      Box(P          R      mAP50  mAP50-95): 100%|██████████| 1/1 [00:00<00:00, "
     ]
    },
    {
     "name": "stdout",
     "output_type": "stream",
     "text": [
      "                   all          1         15      0.841      0.917      0.938      0.582\n"
     ]
    },
    {
     "name": "stderr",
     "output_type": "stream",
     "text": [
      "\n"
     ]
    },
    {
     "name": "stdout",
     "output_type": "stream",
     "text": [
      "\n",
      "      Epoch    GPU_mem   box_loss   cls_loss   dfl_loss  Instances       Size\n"
     ]
    },
    {
     "name": "stderr",
     "output_type": "stream",
     "text": [
      "    108/300      2.19G     0.8522     0.5464     0.8044        189        416: 100%|██████████| 1/1 [00:00<00:00,  5.91it/s]\n",
      "                 Class     Images  Instances      Box(P          R      mAP50  mAP50-95): 100%|██████████| 1/1 [00:00<00:00, "
     ]
    },
    {
     "name": "stdout",
     "output_type": "stream",
     "text": [
      "                   all          1         15      0.939      0.899      0.941      0.616\n"
     ]
    },
    {
     "name": "stderr",
     "output_type": "stream",
     "text": [
      "\n"
     ]
    },
    {
     "name": "stdout",
     "output_type": "stream",
     "text": [
      "\n",
      "      Epoch    GPU_mem   box_loss   cls_loss   dfl_loss  Instances       Size\n"
     ]
    },
    {
     "name": "stderr",
     "output_type": "stream",
     "text": [
      "    109/300      2.03G      0.794     0.4953     0.8473        169        416: 100%|██████████| 1/1 [00:00<00:00,  9.25it/s]\n",
      "                 Class     Images  Instances      Box(P          R      mAP50  mAP50-95): 100%|██████████| 1/1 [00:00<00:00, "
     ]
    },
    {
     "name": "stdout",
     "output_type": "stream",
     "text": [
      "                   all          1         15      0.939      0.899      0.941      0.616\n"
     ]
    },
    {
     "name": "stderr",
     "output_type": "stream",
     "text": [
      "\n"
     ]
    },
    {
     "name": "stdout",
     "output_type": "stream",
     "text": [
      "\n",
      "      Epoch    GPU_mem   box_loss   cls_loss   dfl_loss  Instances       Size\n"
     ]
    },
    {
     "name": "stderr",
     "output_type": "stream",
     "text": [
      "    110/300      2.17G     0.7427       0.53     0.8277        121        416: 100%|██████████| 1/1 [00:00<00:00,  8.21it/s]\n",
      "                 Class     Images  Instances      Box(P          R      mAP50  mAP50-95): 100%|██████████| 1/1 [00:00<00:00, "
     ]
    },
    {
     "name": "stdout",
     "output_type": "stream",
     "text": [
      "                   all          1         15      0.939      0.899      0.941      0.616\n"
     ]
    },
    {
     "name": "stderr",
     "output_type": "stream",
     "text": [
      "\n"
     ]
    },
    {
     "name": "stdout",
     "output_type": "stream",
     "text": [
      "\n",
      "      Epoch    GPU_mem   box_loss   cls_loss   dfl_loss  Instances       Size\n"
     ]
    },
    {
     "name": "stderr",
     "output_type": "stream",
     "text": [
      "    111/300       2.2G      1.233     0.6611     0.8095        253        416: 100%|██████████| 1/1 [00:00<00:00,  8.17it/s]\n",
      "                 Class     Images  Instances      Box(P          R      mAP50  mAP50-95): 100%|██████████| 1/1 [00:00<00:00, "
     ]
    },
    {
     "name": "stdout",
     "output_type": "stream",
     "text": [
      "                   all          1         15      0.939      0.899      0.941      0.616\n"
     ]
    },
    {
     "name": "stderr",
     "output_type": "stream",
     "text": [
      "\n"
     ]
    },
    {
     "name": "stdout",
     "output_type": "stream",
     "text": [
      "\n",
      "      Epoch    GPU_mem   box_loss   cls_loss   dfl_loss  Instances       Size\n"
     ]
    },
    {
     "name": "stderr",
     "output_type": "stream",
     "text": [
      "    112/300       2.2G      1.088     0.6269     0.8363        220        416: 100%|██████████| 1/1 [00:00<00:00,  6.57it/s]\n",
      "                 Class     Images  Instances      Box(P          R      mAP50  mAP50-95): 100%|██████████| 1/1 [00:00<00:00, "
     ]
    },
    {
     "name": "stdout",
     "output_type": "stream",
     "text": [
      "                   all          1         15       0.89      0.861      0.952      0.643\n"
     ]
    },
    {
     "name": "stderr",
     "output_type": "stream",
     "text": [
      "\n"
     ]
    },
    {
     "name": "stdout",
     "output_type": "stream",
     "text": [
      "\n",
      "      Epoch    GPU_mem   box_loss   cls_loss   dfl_loss  Instances       Size\n"
     ]
    },
    {
     "name": "stderr",
     "output_type": "stream",
     "text": [
      "    113/300      2.02G     0.6541     0.6398     0.8437         64        416: 100%|██████████| 1/1 [00:00<00:00,  9.77it/s]\n",
      "                 Class     Images  Instances      Box(P          R      mAP50  mAP50-95): 100%|██████████| 1/1 [00:00<00:00, "
     ]
    },
    {
     "name": "stdout",
     "output_type": "stream",
     "text": [
      "                   all          1         15       0.89      0.861      0.952      0.643\n"
     ]
    },
    {
     "name": "stderr",
     "output_type": "stream",
     "text": [
      "\n"
     ]
    },
    {
     "name": "stdout",
     "output_type": "stream",
     "text": [
      "\n",
      "      Epoch    GPU_mem   box_loss   cls_loss   dfl_loss  Instances       Size\n"
     ]
    },
    {
     "name": "stderr",
     "output_type": "stream",
     "text": [
      "    114/300      2.19G     0.9308     0.5441     0.8174        200        416: 100%|██████████| 1/1 [00:00<00:00,  8.91it/s]\n",
      "                 Class     Images  Instances      Box(P          R      mAP50  mAP50-95): 100%|██████████| 1/1 [00:00<00:00, "
     ]
    },
    {
     "name": "stdout",
     "output_type": "stream",
     "text": [
      "                   all          1         15       0.89      0.861      0.952      0.643\n"
     ]
    },
    {
     "name": "stderr",
     "output_type": "stream",
     "text": [
      "\n"
     ]
    },
    {
     "name": "stdout",
     "output_type": "stream",
     "text": [
      "\n",
      "      Epoch    GPU_mem   box_loss   cls_loss   dfl_loss  Instances       Size\n"
     ]
    },
    {
     "name": "stderr",
     "output_type": "stream",
     "text": [
      "    115/300      2.17G     0.6701     0.5186      0.889        103        416: 100%|██████████| 1/1 [00:00<00:00,  8.22it/s]\n",
      "                 Class     Images  Instances      Box(P          R      mAP50  mAP50-95): 100%|██████████| 1/1 [00:00<00:00, "
     ]
    },
    {
     "name": "stdout",
     "output_type": "stream",
     "text": [
      "                   all          1         15       0.89      0.861      0.952      0.643\n"
     ]
    },
    {
     "name": "stderr",
     "output_type": "stream",
     "text": [
      "\n"
     ]
    },
    {
     "name": "stdout",
     "output_type": "stream",
     "text": [
      "\n",
      "      Epoch    GPU_mem   box_loss   cls_loss   dfl_loss  Instances       Size\n"
     ]
    },
    {
     "name": "stderr",
     "output_type": "stream",
     "text": [
      "    116/300      2.17G     0.6181     0.7356     0.8141         50        416: 100%|██████████| 1/1 [00:00<00:00,  5.96it/s]\n",
      "                 Class     Images  Instances      Box(P          R      mAP50  mAP50-95): 100%|██████████| 1/1 [00:00<00:00, "
     ]
    },
    {
     "name": "stdout",
     "output_type": "stream",
     "text": [
      "                   all          1         15      0.894      0.824      0.958      0.643\n"
     ]
    },
    {
     "name": "stderr",
     "output_type": "stream",
     "text": [
      "\n"
     ]
    },
    {
     "name": "stdout",
     "output_type": "stream",
     "text": [
      "\n",
      "      Epoch    GPU_mem   box_loss   cls_loss   dfl_loss  Instances       Size\n"
     ]
    },
    {
     "name": "stderr",
     "output_type": "stream",
     "text": [
      "    117/300      2.03G     0.8761     0.5043     0.7977        130        416: 100%|██████████| 1/1 [00:00<00:00,  9.41it/s]\n",
      "                 Class     Images  Instances      Box(P          R      mAP50  mAP50-95): 100%|██████████| 1/1 [00:00<00:00, "
     ]
    },
    {
     "name": "stdout",
     "output_type": "stream",
     "text": [
      "                   all          1         15      0.894      0.824      0.958      0.643\n"
     ]
    },
    {
     "name": "stderr",
     "output_type": "stream",
     "text": [
      "\n"
     ]
    },
    {
     "name": "stdout",
     "output_type": "stream",
     "text": [
      "\n",
      "      Epoch    GPU_mem   box_loss   cls_loss   dfl_loss  Instances       Size\n"
     ]
    },
    {
     "name": "stderr",
     "output_type": "stream",
     "text": [
      "    118/300      2.17G      0.598     0.4776     0.8051         62        416: 100%|██████████| 1/1 [00:00<00:00,  8.95it/s]\n",
      "                 Class     Images  Instances      Box(P          R      mAP50  mAP50-95): 100%|██████████| 1/1 [00:00<00:00, "
     ]
    },
    {
     "name": "stdout",
     "output_type": "stream",
     "text": [
      "                   all          1         15      0.894      0.824      0.958      0.643\n"
     ]
    },
    {
     "name": "stderr",
     "output_type": "stream",
     "text": [
      "\n"
     ]
    },
    {
     "name": "stdout",
     "output_type": "stream",
     "text": [
      "\n",
      "      Epoch    GPU_mem   box_loss   cls_loss   dfl_loss  Instances       Size\n"
     ]
    },
    {
     "name": "stderr",
     "output_type": "stream",
     "text": [
      "    119/300      2.17G     0.6291      0.468     0.8125        126        416: 100%|██████████| 1/1 [00:00<00:00,  8.99it/s]\n",
      "                 Class     Images  Instances      Box(P          R      mAP50  mAP50-95): 100%|██████████| 1/1 [00:00<00:00, "
     ]
    },
    {
     "name": "stdout",
     "output_type": "stream",
     "text": [
      "                   all          1         15      0.894      0.824      0.958      0.643\n"
     ]
    },
    {
     "name": "stderr",
     "output_type": "stream",
     "text": [
      "\n"
     ]
    },
    {
     "name": "stdout",
     "output_type": "stream",
     "text": [
      "\n",
      "      Epoch    GPU_mem   box_loss   cls_loss   dfl_loss  Instances       Size\n"
     ]
    },
    {
     "name": "stderr",
     "output_type": "stream",
     "text": [
      "    120/300      2.19G      1.066     0.6456     0.7963        189        416: 100%|██████████| 1/1 [00:00<00:00,  6.13it/s]\n",
      "                 Class     Images  Instances      Box(P          R      mAP50  mAP50-95): 100%|██████████| 1/1 [00:00<00:00, "
     ]
    },
    {
     "name": "stdout",
     "output_type": "stream",
     "text": [
      "                   all          1         15      0.892      0.816      0.955      0.642\n"
     ]
    },
    {
     "name": "stderr",
     "output_type": "stream",
     "text": [
      "\n"
     ]
    },
    {
     "name": "stdout",
     "output_type": "stream",
     "text": [
      "\n",
      "      Epoch    GPU_mem   box_loss   cls_loss   dfl_loss  Instances       Size\n"
     ]
    },
    {
     "name": "stderr",
     "output_type": "stream",
     "text": [
      "    121/300      2.04G      1.024     0.7067     0.8393        234        416: 100%|██████████| 1/1 [00:00<00:00,  7.98it/s]\n",
      "                 Class     Images  Instances      Box(P          R      mAP50  mAP50-95): 100%|██████████| 1/1 [00:00<00:00, "
     ]
    },
    {
     "name": "stdout",
     "output_type": "stream",
     "text": [
      "                   all          1         15      0.892      0.816      0.955      0.642\n"
     ]
    },
    {
     "name": "stderr",
     "output_type": "stream",
     "text": [
      "\n"
     ]
    },
    {
     "name": "stdout",
     "output_type": "stream",
     "text": [
      "\n",
      "      Epoch    GPU_mem   box_loss   cls_loss   dfl_loss  Instances       Size\n"
     ]
    },
    {
     "name": "stderr",
     "output_type": "stream",
     "text": [
      "    122/300      2.19G     0.7878     0.7618     0.8751        238        416: 100%|██████████| 1/1 [00:00<00:00,  9.08it/s]\n",
      "                 Class     Images  Instances      Box(P          R      mAP50  mAP50-95): 100%|██████████| 1/1 [00:00<00:00, "
     ]
    },
    {
     "name": "stdout",
     "output_type": "stream",
     "text": [
      "                   all          1         15      0.892      0.816      0.955      0.642\n"
     ]
    },
    {
     "name": "stderr",
     "output_type": "stream",
     "text": [
      "\n"
     ]
    },
    {
     "name": "stdout",
     "output_type": "stream",
     "text": [
      "\n",
      "      Epoch    GPU_mem   box_loss   cls_loss   dfl_loss  Instances       Size\n"
     ]
    },
    {
     "name": "stderr",
     "output_type": "stream",
     "text": [
      "    123/300      2.19G     0.7163     0.6643     0.8489        186        416: 100%|██████████| 1/1 [00:00<00:00,  9.57it/s]\n",
      "                 Class     Images  Instances      Box(P          R      mAP50  mAP50-95): 100%|██████████| 1/1 [00:00<00:00, "
     ]
    },
    {
     "name": "stdout",
     "output_type": "stream",
     "text": [
      "                   all          1         15      0.892      0.816      0.955      0.642\n"
     ]
    },
    {
     "name": "stderr",
     "output_type": "stream",
     "text": [
      "\n"
     ]
    },
    {
     "name": "stdout",
     "output_type": "stream",
     "text": [
      "\n",
      "      Epoch    GPU_mem   box_loss   cls_loss   dfl_loss  Instances       Size\n"
     ]
    },
    {
     "name": "stderr",
     "output_type": "stream",
     "text": [
      "    124/300      2.19G      0.803      0.659      0.826        191        416: 100%|██████████| 1/1 [00:00<00:00,  6.38it/s]\n",
      "                 Class     Images  Instances      Box(P          R      mAP50  mAP50-95): 100%|██████████| 1/1 [00:00<00:00, "
     ]
    },
    {
     "name": "stdout",
     "output_type": "stream",
     "text": [
      "                   all          1         15      0.868      0.846      0.939      0.635\n"
     ]
    },
    {
     "name": "stderr",
     "output_type": "stream",
     "text": [
      "\n"
     ]
    },
    {
     "name": "stdout",
     "output_type": "stream",
     "text": [
      "\n",
      "      Epoch    GPU_mem   box_loss   cls_loss   dfl_loss  Instances       Size\n"
     ]
    },
    {
     "name": "stderr",
     "output_type": "stream",
     "text": [
      "    125/300      2.02G     0.6319     0.4789     0.8386         88        416: 100%|██████████| 1/1 [00:00<00:00,  9.72it/s]\n",
      "                 Class     Images  Instances      Box(P          R      mAP50  mAP50-95): 100%|██████████| 1/1 [00:00<00:00, "
     ]
    },
    {
     "name": "stdout",
     "output_type": "stream",
     "text": [
      "                   all          1         15      0.868      0.846      0.939      0.635\n"
     ]
    },
    {
     "name": "stderr",
     "output_type": "stream",
     "text": [
      "\n"
     ]
    },
    {
     "name": "stdout",
     "output_type": "stream",
     "text": [
      "\n",
      "      Epoch    GPU_mem   box_loss   cls_loss   dfl_loss  Instances       Size\n"
     ]
    },
    {
     "name": "stderr",
     "output_type": "stream",
     "text": [
      "    126/300       2.2G     0.8516     0.6342     0.8434        227        416: 100%|██████████| 1/1 [00:00<00:00,  9.35it/s]\n",
      "                 Class     Images  Instances      Box(P          R      mAP50  mAP50-95): 100%|██████████| 1/1 [00:00<00:00, "
     ]
    },
    {
     "name": "stdout",
     "output_type": "stream",
     "text": [
      "                   all          1         15      0.868      0.846      0.939      0.635\n"
     ]
    },
    {
     "name": "stderr",
     "output_type": "stream",
     "text": [
      "\n"
     ]
    },
    {
     "name": "stdout",
     "output_type": "stream",
     "text": [
      "\n",
      "      Epoch    GPU_mem   box_loss   cls_loss   dfl_loss  Instances       Size\n"
     ]
    },
    {
     "name": "stderr",
     "output_type": "stream",
     "text": [
      "    127/300      2.19G     0.7996      0.622     0.8581        163        416: 100%|██████████| 1/1 [00:00<00:00,  9.11it/s]\n",
      "                 Class     Images  Instances      Box(P          R      mAP50  mAP50-95): 100%|██████████| 1/1 [00:00<00:00, "
     ]
    },
    {
     "name": "stdout",
     "output_type": "stream",
     "text": [
      "                   all          1         15      0.868      0.846      0.939      0.635\n"
     ]
    },
    {
     "name": "stderr",
     "output_type": "stream",
     "text": [
      "\n"
     ]
    },
    {
     "name": "stdout",
     "output_type": "stream",
     "text": [
      "\n",
      "      Epoch    GPU_mem   box_loss   cls_loss   dfl_loss  Instances       Size\n"
     ]
    },
    {
     "name": "stderr",
     "output_type": "stream",
     "text": [
      "    128/300      2.17G     0.6652     0.5396      0.872         50        416: 100%|██████████| 1/1 [00:00<00:00,  6.26it/s]\n",
      "                 Class     Images  Instances      Box(P          R      mAP50  mAP50-95): 100%|██████████| 1/1 [00:00<00:00, "
     ]
    },
    {
     "name": "stdout",
     "output_type": "stream",
     "text": [
      "                   all          1         15       0.88      0.848      0.919      0.605\n"
     ]
    },
    {
     "name": "stderr",
     "output_type": "stream",
     "text": [
      "\n"
     ]
    },
    {
     "name": "stdout",
     "output_type": "stream",
     "text": [
      "\n",
      "      Epoch    GPU_mem   box_loss   cls_loss   dfl_loss  Instances       Size\n"
     ]
    },
    {
     "name": "stderr",
     "output_type": "stream",
     "text": [
      "    129/300      2.02G     0.7401     0.4822     0.8104        133        416: 100%|██████████| 1/1 [00:00<00:00,  9.29it/s]\n",
      "                 Class     Images  Instances      Box(P          R      mAP50  mAP50-95): 100%|██████████| 1/1 [00:00<00:00, "
     ]
    },
    {
     "name": "stdout",
     "output_type": "stream",
     "text": [
      "                   all          1         15       0.88      0.848      0.919      0.605\n"
     ]
    },
    {
     "name": "stderr",
     "output_type": "stream",
     "text": [
      "\n"
     ]
    },
    {
     "name": "stdout",
     "output_type": "stream",
     "text": [
      "\n",
      "      Epoch    GPU_mem   box_loss   cls_loss   dfl_loss  Instances       Size\n"
     ]
    },
    {
     "name": "stderr",
     "output_type": "stream",
     "text": [
      "    130/300      2.18G      0.865     0.5037     0.8029        215        416: 100%|██████████| 1/1 [00:00<00:00,  5.84it/s]\n",
      "                 Class     Images  Instances      Box(P          R      mAP50  mAP50-95): 100%|██████████| 1/1 [00:00<00:00, "
     ]
    },
    {
     "name": "stdout",
     "output_type": "stream",
     "text": [
      "                   all          1         15       0.88      0.848      0.919      0.605\n"
     ]
    },
    {
     "name": "stderr",
     "output_type": "stream",
     "text": [
      "\n"
     ]
    },
    {
     "name": "stdout",
     "output_type": "stream",
     "text": [
      "\n",
      "      Epoch    GPU_mem   box_loss   cls_loss   dfl_loss  Instances       Size\n"
     ]
    },
    {
     "name": "stderr",
     "output_type": "stream",
     "text": [
      "    131/300      2.17G     0.7262     0.5421     0.8241        101        416: 100%|██████████| 1/1 [00:00<00:00,  6.66it/s]\n",
      "                 Class     Images  Instances      Box(P          R      mAP50  mAP50-95): 100%|██████████| 1/1 [00:00<00:00, "
     ]
    },
    {
     "name": "stdout",
     "output_type": "stream",
     "text": [
      "                   all          1         15       0.88      0.848      0.919      0.605\n"
     ]
    },
    {
     "name": "stderr",
     "output_type": "stream",
     "text": [
      "\n"
     ]
    },
    {
     "name": "stdout",
     "output_type": "stream",
     "text": [
      "\n",
      "      Epoch    GPU_mem   box_loss   cls_loss   dfl_loss  Instances       Size\n"
     ]
    },
    {
     "name": "stderr",
     "output_type": "stream",
     "text": [
      "    132/300      2.17G     0.7597     0.5437     0.8276         78        416: 100%|██████████| 1/1 [00:00<00:00,  5.52it/s]\n",
      "                 Class     Images  Instances      Box(P          R      mAP50  mAP50-95): 100%|██████████| 1/1 [00:00<00:00, "
     ]
    },
    {
     "name": "stdout",
     "output_type": "stream",
     "text": [
      "                   all          1         15      0.999      0.796      0.951      0.612\n"
     ]
    },
    {
     "name": "stderr",
     "output_type": "stream",
     "text": [
      "\n"
     ]
    },
    {
     "name": "stdout",
     "output_type": "stream",
     "text": [
      "\n",
      "      Epoch    GPU_mem   box_loss   cls_loss   dfl_loss  Instances       Size\n"
     ]
    },
    {
     "name": "stderr",
     "output_type": "stream",
     "text": [
      "    133/300      2.02G     0.6565     0.4503     0.8092        139        416: 100%|██████████| 1/1 [00:00<00:00,  9.09it/s]\n",
      "                 Class     Images  Instances      Box(P          R      mAP50  mAP50-95): 100%|██████████| 1/1 [00:00<00:00, "
     ]
    },
    {
     "name": "stdout",
     "output_type": "stream",
     "text": [
      "                   all          1         15      0.999      0.796      0.951      0.612\n"
     ]
    },
    {
     "name": "stderr",
     "output_type": "stream",
     "text": [
      "\n"
     ]
    },
    {
     "name": "stdout",
     "output_type": "stream",
     "text": [
      "\n",
      "      Epoch    GPU_mem   box_loss   cls_loss   dfl_loss  Instances       Size\n"
     ]
    },
    {
     "name": "stderr",
     "output_type": "stream",
     "text": [
      "    134/300      2.17G     0.5685     0.4324     0.8522         87        416: 100%|██████████| 1/1 [00:00<00:00,  8.66it/s]\n",
      "                 Class     Images  Instances      Box(P          R      mAP50  mAP50-95): 100%|██████████| 1/1 [00:00<00:00, "
     ]
    },
    {
     "name": "stdout",
     "output_type": "stream",
     "text": [
      "                   all          1         15      0.999      0.796      0.951      0.612\n"
     ]
    },
    {
     "name": "stderr",
     "output_type": "stream",
     "text": [
      "\n"
     ]
    },
    {
     "name": "stdout",
     "output_type": "stream",
     "text": [
      "\n",
      "      Epoch    GPU_mem   box_loss   cls_loss   dfl_loss  Instances       Size\n"
     ]
    },
    {
     "name": "stderr",
     "output_type": "stream",
     "text": [
      "    135/300       2.2G     0.8717     0.5163      0.861        208        416: 100%|██████████| 1/1 [00:00<00:00,  8.21it/s]\n",
      "                 Class     Images  Instances      Box(P          R      mAP50  mAP50-95): 100%|██████████| 1/1 [00:00<00:00, "
     ]
    },
    {
     "name": "stdout",
     "output_type": "stream",
     "text": [
      "                   all          1         15      0.999      0.796      0.951      0.612\n"
     ]
    },
    {
     "name": "stderr",
     "output_type": "stream",
     "text": [
      "\n"
     ]
    },
    {
     "name": "stdout",
     "output_type": "stream",
     "text": [
      "\n",
      "      Epoch    GPU_mem   box_loss   cls_loss   dfl_loss  Instances       Size\n"
     ]
    },
    {
     "name": "stderr",
     "output_type": "stream",
     "text": [
      "    136/300      2.18G     0.9269     0.5404     0.8039        195        416: 100%|██████████| 1/1 [00:00<00:00,  5.69it/s]\n",
      "                 Class     Images  Instances      Box(P          R      mAP50  mAP50-95): 100%|██████████| 1/1 [00:00<00:00, "
     ]
    },
    {
     "name": "stdout",
     "output_type": "stream",
     "text": [
      "                   all          1         15      0.865      0.851      0.945      0.605\n"
     ]
    },
    {
     "name": "stderr",
     "output_type": "stream",
     "text": [
      "\n"
     ]
    },
    {
     "name": "stdout",
     "output_type": "stream",
     "text": [
      "\n",
      "      Epoch    GPU_mem   box_loss   cls_loss   dfl_loss  Instances       Size\n"
     ]
    },
    {
     "name": "stderr",
     "output_type": "stream",
     "text": [
      "    137/300      2.04G     0.9478     0.5377     0.8377        165        416: 100%|██████████| 1/1 [00:00<00:00,  9.29it/s]\n",
      "                 Class     Images  Instances      Box(P          R      mAP50  mAP50-95): 100%|██████████| 1/1 [00:00<00:00, "
     ]
    },
    {
     "name": "stdout",
     "output_type": "stream",
     "text": [
      "                   all          1         15      0.865      0.851      0.945      0.605\n"
     ]
    },
    {
     "name": "stderr",
     "output_type": "stream",
     "text": [
      "\n"
     ]
    },
    {
     "name": "stdout",
     "output_type": "stream",
     "text": [
      "\n",
      "      Epoch    GPU_mem   box_loss   cls_loss   dfl_loss  Instances       Size\n"
     ]
    },
    {
     "name": "stderr",
     "output_type": "stream",
     "text": [
      "    138/300      2.19G     0.8372      0.493     0.8048        218        416: 100%|██████████| 1/1 [00:00<00:00,  8.00it/s]\n",
      "                 Class     Images  Instances      Box(P          R      mAP50  mAP50-95): 100%|██████████| 1/1 [00:00<00:00, "
     ]
    },
    {
     "name": "stdout",
     "output_type": "stream",
     "text": [
      "                   all          1         15      0.865      0.851      0.945      0.605\n"
     ]
    },
    {
     "name": "stderr",
     "output_type": "stream",
     "text": [
      "\n"
     ]
    },
    {
     "name": "stdout",
     "output_type": "stream",
     "text": [
      "\n",
      "      Epoch    GPU_mem   box_loss   cls_loss   dfl_loss  Instances       Size\n"
     ]
    },
    {
     "name": "stderr",
     "output_type": "stream",
     "text": [
      "    139/300      2.19G     0.7142     0.4789     0.7938        167        416: 100%|██████████| 1/1 [00:00<00:00,  8.45it/s]\n",
      "                 Class     Images  Instances      Box(P          R      mAP50  mAP50-95): 100%|██████████| 1/1 [00:00<00:00, "
     ]
    },
    {
     "name": "stdout",
     "output_type": "stream",
     "text": [
      "                   all          1         15      0.865      0.851      0.945      0.605\n"
     ]
    },
    {
     "name": "stderr",
     "output_type": "stream",
     "text": [
      "\n"
     ]
    },
    {
     "name": "stdout",
     "output_type": "stream",
     "text": [
      "\n",
      "      Epoch    GPU_mem   box_loss   cls_loss   dfl_loss  Instances       Size\n"
     ]
    },
    {
     "name": "stderr",
     "output_type": "stream",
     "text": [
      "    140/300       2.2G     0.7887      0.511     0.8188        233        416: 100%|██████████| 1/1 [00:00<00:00,  5.40it/s]\n",
      "                 Class     Images  Instances      Box(P          R      mAP50  mAP50-95): 100%|██████████| 1/1 [00:00<00:00, "
     ]
    },
    {
     "name": "stdout",
     "output_type": "stream",
     "text": [
      "                   all          1         15      0.777      0.854      0.906      0.599\n"
     ]
    },
    {
     "name": "stderr",
     "output_type": "stream",
     "text": [
      "\n"
     ]
    },
    {
     "name": "stdout",
     "output_type": "stream",
     "text": [
      "\n",
      "      Epoch    GPU_mem   box_loss   cls_loss   dfl_loss  Instances       Size\n"
     ]
    },
    {
     "name": "stderr",
     "output_type": "stream",
     "text": [
      "    141/300      2.03G     0.7754     0.4722     0.7946        180        416: 100%|██████████| 1/1 [00:00<00:00,  8.65it/s]\n",
      "                 Class     Images  Instances      Box(P          R      mAP50  mAP50-95): 100%|██████████| 1/1 [00:00<00:00, "
     ]
    },
    {
     "name": "stdout",
     "output_type": "stream",
     "text": [
      "                   all          1         15      0.777      0.854      0.906      0.599\n"
     ]
    },
    {
     "name": "stderr",
     "output_type": "stream",
     "text": [
      "\n"
     ]
    },
    {
     "name": "stdout",
     "output_type": "stream",
     "text": [
      "\n",
      "      Epoch    GPU_mem   box_loss   cls_loss   dfl_loss  Instances       Size\n"
     ]
    },
    {
     "name": "stderr",
     "output_type": "stream",
     "text": [
      "    142/300      2.18G     0.7166      0.461     0.8256        184        416: 100%|██████████| 1/1 [00:00<00:00,  8.55it/s]\n",
      "                 Class     Images  Instances      Box(P          R      mAP50  mAP50-95): 100%|██████████| 1/1 [00:00<00:00, "
     ]
    },
    {
     "name": "stdout",
     "output_type": "stream",
     "text": [
      "                   all          1         15      0.777      0.854      0.906      0.599\n"
     ]
    },
    {
     "name": "stderr",
     "output_type": "stream",
     "text": [
      "\n"
     ]
    },
    {
     "name": "stdout",
     "output_type": "stream",
     "text": [
      "\n",
      "      Epoch    GPU_mem   box_loss   cls_loss   dfl_loss  Instances       Size\n"
     ]
    },
    {
     "name": "stderr",
     "output_type": "stream",
     "text": [
      "    143/300      2.19G     0.8803     0.5346     0.8129        178        416: 100%|██████████| 1/1 [00:00<00:00,  8.99it/s]\n",
      "                 Class     Images  Instances      Box(P          R      mAP50  mAP50-95): 100%|██████████| 1/1 [00:00<00:00, "
     ]
    },
    {
     "name": "stdout",
     "output_type": "stream",
     "text": [
      "                   all          1         15      0.777      0.854      0.906      0.599\n"
     ]
    },
    {
     "name": "stderr",
     "output_type": "stream",
     "text": [
      "\n"
     ]
    },
    {
     "name": "stdout",
     "output_type": "stream",
     "text": [
      "\n",
      "      Epoch    GPU_mem   box_loss   cls_loss   dfl_loss  Instances       Size\n"
     ]
    },
    {
     "name": "stderr",
     "output_type": "stream",
     "text": [
      "    144/300      2.18G     0.7193     0.4552     0.7937        174        416: 100%|██████████| 1/1 [00:00<00:00,  4.43it/s]\n",
      "                 Class     Images  Instances      Box(P          R      mAP50  mAP50-95): 100%|██████████| 1/1 [00:00<00:00, "
     ]
    },
    {
     "name": "stdout",
     "output_type": "stream",
     "text": [
      "                   all          1         15       0.74      0.917      0.874      0.598\n"
     ]
    },
    {
     "name": "stderr",
     "output_type": "stream",
     "text": [
      "\n"
     ]
    },
    {
     "name": "stdout",
     "output_type": "stream",
     "text": [
      "\n",
      "      Epoch    GPU_mem   box_loss   cls_loss   dfl_loss  Instances       Size\n"
     ]
    },
    {
     "name": "stderr",
     "output_type": "stream",
     "text": [
      "    145/300      2.03G     0.6828      0.438     0.8291        147        416: 100%|██████████| 1/1 [00:00<00:00,  6.43it/s]\n",
      "                 Class     Images  Instances      Box(P          R      mAP50  mAP50-95): 100%|██████████| 1/1 [00:00<00:00, "
     ]
    },
    {
     "name": "stdout",
     "output_type": "stream",
     "text": [
      "                   all          1         15       0.74      0.917      0.874      0.598\n"
     ]
    },
    {
     "name": "stderr",
     "output_type": "stream",
     "text": [
      "\n"
     ]
    },
    {
     "name": "stdout",
     "output_type": "stream",
     "text": [
      "\n",
      "      Epoch    GPU_mem   box_loss   cls_loss   dfl_loss  Instances       Size\n"
     ]
    },
    {
     "name": "stderr",
     "output_type": "stream",
     "text": [
      "    146/300       2.2G     0.9006     0.4863     0.8189        267        416: 100%|██████████| 1/1 [00:00<00:00,  5.32it/s]\n",
      "                 Class     Images  Instances      Box(P          R      mAP50  mAP50-95): 100%|██████████| 1/1 [00:00<00:00, "
     ]
    },
    {
     "name": "stdout",
     "output_type": "stream",
     "text": [
      "                   all          1         15       0.74      0.917      0.874      0.598\n"
     ]
    },
    {
     "name": "stderr",
     "output_type": "stream",
     "text": [
      "\n"
     ]
    },
    {
     "name": "stdout",
     "output_type": "stream",
     "text": [
      "\n",
      "      Epoch    GPU_mem   box_loss   cls_loss   dfl_loss  Instances       Size\n"
     ]
    },
    {
     "name": "stderr",
     "output_type": "stream",
     "text": [
      "    147/300      2.17G     0.6125     0.5024     0.8023         87        416: 100%|██████████| 1/1 [00:00<00:00,  8.56it/s]\n",
      "                 Class     Images  Instances      Box(P          R      mAP50  mAP50-95): 100%|██████████| 1/1 [00:00<00:00, "
     ]
    },
    {
     "name": "stdout",
     "output_type": "stream",
     "text": [
      "                   all          1         15       0.74      0.917      0.874      0.598\n"
     ]
    },
    {
     "name": "stderr",
     "output_type": "stream",
     "text": [
      "\n"
     ]
    },
    {
     "name": "stdout",
     "output_type": "stream",
     "text": [
      "\n",
      "      Epoch    GPU_mem   box_loss   cls_loss   dfl_loss  Instances       Size\n"
     ]
    },
    {
     "name": "stderr",
     "output_type": "stream",
     "text": [
      "    148/300      2.19G     0.8653      0.579     0.8245        143        416: 100%|██████████| 1/1 [00:00<00:00,  5.99it/s]\n",
      "                 Class     Images  Instances      Box(P          R      mAP50  mAP50-95): 100%|██████████| 1/1 [00:00<00:00, "
     ]
    },
    {
     "name": "stdout",
     "output_type": "stream",
     "text": [
      "                   all          1         15      0.802      0.905      0.888      0.585\n"
     ]
    },
    {
     "name": "stderr",
     "output_type": "stream",
     "text": [
      "\n"
     ]
    },
    {
     "name": "stdout",
     "output_type": "stream",
     "text": [
      "\n",
      "      Epoch    GPU_mem   box_loss   cls_loss   dfl_loss  Instances       Size\n"
     ]
    },
    {
     "name": "stderr",
     "output_type": "stream",
     "text": [
      "    149/300      2.01G     0.6355      0.496     0.8332         95        416: 100%|██████████| 1/1 [00:00<00:00,  9.04it/s]\n",
      "                 Class     Images  Instances      Box(P          R      mAP50  mAP50-95): 100%|██████████| 1/1 [00:00<00:00, "
     ]
    },
    {
     "name": "stdout",
     "output_type": "stream",
     "text": [
      "                   all          1         15      0.802      0.905      0.888      0.585\n"
     ]
    },
    {
     "name": "stderr",
     "output_type": "stream",
     "text": [
      "\n"
     ]
    },
    {
     "name": "stdout",
     "output_type": "stream",
     "text": [
      "\u001b[34m\u001b[1mEarlyStopping: \u001b[0mTraining stopped early as no improvement observed in last 30 epochs. Best results observed at epoch 119, best model saved as best.pt.\n",
      "To update EarlyStopping(patience=30) pass a new patience value, i.e. `patience=300` or use `patience=0` to disable EarlyStopping.\n",
      "\n",
      "149 epochs completed in 0.115 hours.\n",
      "Optimizer stripped from runs/detect/train33/weights/last.pt, 87.6MB\n",
      "Optimizer stripped from runs/detect/train33/weights/best.pt, 87.6MB\n",
      "\n",
      "Validating runs/detect/train33/weights/best.pt...\n",
      "Ultralytics 8.3.59 🚀 Python-3.11.4 torch-2.4.0+cu121 CUDA:0 (NVIDIA GeForce RTX 3090, 24260MiB)\n",
      "Model summary (fused): 268 layers, 43,608,921 parameters, 0 gradients, 164.8 GFLOPs\n"
     ]
    },
    {
     "name": "stderr",
     "output_type": "stream",
     "text": [
      "                 Class     Images  Instances      Box(P          R      mAP50  mAP50-95): 100%|██████████| 1/1 [00:00<00:00, \n"
     ]
    },
    {
     "name": "stdout",
     "output_type": "stream",
     "text": [
      "                   all          1         15      0.893      0.824      0.958      0.639\n",
      "                 truck          1          9      0.786      0.889      0.961      0.768\n",
      "                   bus          1          6          1      0.759      0.955      0.509\n",
      "Speed: 1.0ms preprocess, 19.2ms inference, 0.0ms loss, 2.7ms postprocess per image\n",
      "Results saved to \u001b[1mruns/detect/train33\u001b[0m\n"
     ]
    },
    {
     "data": {
      "text/plain": [
       "ultralytics.utils.metrics.DetMetrics object with attributes:\n",
       "\n",
       "ap_class_index: array([0, 1])\n",
       "box: ultralytics.utils.metrics.Metric object\n",
       "confusion_matrix: <ultralytics.utils.metrics.ConfusionMatrix object at 0x7f20317c2110>\n",
       "curves: ['Precision-Recall(B)', 'F1-Confidence(B)', 'Precision-Confidence(B)', 'Recall-Confidence(B)']\n",
       "curves_results: [[array([          0,    0.001001,    0.002002,    0.003003,    0.004004,    0.005005,    0.006006,    0.007007,    0.008008,    0.009009,     0.01001,    0.011011,    0.012012,    0.013013,    0.014014,    0.015015,    0.016016,    0.017017,    0.018018,    0.019019,     0.02002,    0.021021,    0.022022,    0.023023,\n",
       "          0.024024,    0.025025,    0.026026,    0.027027,    0.028028,    0.029029,     0.03003,    0.031031,    0.032032,    0.033033,    0.034034,    0.035035,    0.036036,    0.037037,    0.038038,    0.039039,     0.04004,    0.041041,    0.042042,    0.043043,    0.044044,    0.045045,    0.046046,    0.047047,\n",
       "          0.048048,    0.049049,     0.05005,    0.051051,    0.052052,    0.053053,    0.054054,    0.055055,    0.056056,    0.057057,    0.058058,    0.059059,     0.06006,    0.061061,    0.062062,    0.063063,    0.064064,    0.065065,    0.066066,    0.067067,    0.068068,    0.069069,     0.07007,    0.071071,\n",
       "          0.072072,    0.073073,    0.074074,    0.075075,    0.076076,    0.077077,    0.078078,    0.079079,     0.08008,    0.081081,    0.082082,    0.083083,    0.084084,    0.085085,    0.086086,    0.087087,    0.088088,    0.089089,     0.09009,    0.091091,    0.092092,    0.093093,    0.094094,    0.095095,\n",
       "          0.096096,    0.097097,    0.098098,    0.099099,      0.1001,      0.1011,      0.1021,      0.1031,      0.1041,     0.10511,     0.10611,     0.10711,     0.10811,     0.10911,     0.11011,     0.11111,     0.11211,     0.11311,     0.11411,     0.11512,     0.11612,     0.11712,     0.11812,     0.11912,\n",
       "           0.12012,     0.12112,     0.12212,     0.12312,     0.12412,     0.12513,     0.12613,     0.12713,     0.12813,     0.12913,     0.13013,     0.13113,     0.13213,     0.13313,     0.13413,     0.13514,     0.13614,     0.13714,     0.13814,     0.13914,     0.14014,     0.14114,     0.14214,     0.14314,\n",
       "           0.14414,     0.14515,     0.14615,     0.14715,     0.14815,     0.14915,     0.15015,     0.15115,     0.15215,     0.15315,     0.15415,     0.15516,     0.15616,     0.15716,     0.15816,     0.15916,     0.16016,     0.16116,     0.16216,     0.16316,     0.16416,     0.16517,     0.16617,     0.16717,\n",
       "           0.16817,     0.16917,     0.17017,     0.17117,     0.17217,     0.17317,     0.17417,     0.17518,     0.17618,     0.17718,     0.17818,     0.17918,     0.18018,     0.18118,     0.18218,     0.18318,     0.18418,     0.18519,     0.18619,     0.18719,     0.18819,     0.18919,     0.19019,     0.19119,\n",
       "           0.19219,     0.19319,     0.19419,      0.1952,      0.1962,      0.1972,      0.1982,      0.1992,      0.2002,      0.2012,      0.2022,      0.2032,      0.2042,     0.20521,     0.20621,     0.20721,     0.20821,     0.20921,     0.21021,     0.21121,     0.21221,     0.21321,     0.21421,     0.21522,\n",
       "           0.21622,     0.21722,     0.21822,     0.21922,     0.22022,     0.22122,     0.22222,     0.22322,     0.22422,     0.22523,     0.22623,     0.22723,     0.22823,     0.22923,     0.23023,     0.23123,     0.23223,     0.23323,     0.23423,     0.23524,     0.23624,     0.23724,     0.23824,     0.23924,\n",
       "           0.24024,     0.24124,     0.24224,     0.24324,     0.24424,     0.24525,     0.24625,     0.24725,     0.24825,     0.24925,     0.25025,     0.25125,     0.25225,     0.25325,     0.25425,     0.25526,     0.25626,     0.25726,     0.25826,     0.25926,     0.26026,     0.26126,     0.26226,     0.26326,\n",
       "           0.26426,     0.26527,     0.26627,     0.26727,     0.26827,     0.26927,     0.27027,     0.27127,     0.27227,     0.27327,     0.27427,     0.27528,     0.27628,     0.27728,     0.27828,     0.27928,     0.28028,     0.28128,     0.28228,     0.28328,     0.28428,     0.28529,     0.28629,     0.28729,\n",
       "           0.28829,     0.28929,     0.29029,     0.29129,     0.29229,     0.29329,     0.29429,      0.2953,      0.2963,      0.2973,      0.2983,      0.2993,      0.3003,      0.3013,      0.3023,      0.3033,      0.3043,     0.30531,     0.30631,     0.30731,     0.30831,     0.30931,     0.31031,     0.31131,\n",
       "           0.31231,     0.31331,     0.31431,     0.31532,     0.31632,     0.31732,     0.31832,     0.31932,     0.32032,     0.32132,     0.32232,     0.32332,     0.32432,     0.32533,     0.32633,     0.32733,     0.32833,     0.32933,     0.33033,     0.33133,     0.33233,     0.33333,     0.33433,     0.33534,\n",
       "           0.33634,     0.33734,     0.33834,     0.33934,     0.34034,     0.34134,     0.34234,     0.34334,     0.34434,     0.34535,     0.34635,     0.34735,     0.34835,     0.34935,     0.35035,     0.35135,     0.35235,     0.35335,     0.35435,     0.35536,     0.35636,     0.35736,     0.35836,     0.35936,\n",
       "           0.36036,     0.36136,     0.36236,     0.36336,     0.36436,     0.36537,     0.36637,     0.36737,     0.36837,     0.36937,     0.37037,     0.37137,     0.37237,     0.37337,     0.37437,     0.37538,     0.37638,     0.37738,     0.37838,     0.37938,     0.38038,     0.38138,     0.38238,     0.38338,\n",
       "           0.38438,     0.38539,     0.38639,     0.38739,     0.38839,     0.38939,     0.39039,     0.39139,     0.39239,     0.39339,     0.39439,      0.3954,      0.3964,      0.3974,      0.3984,      0.3994,      0.4004,      0.4014,      0.4024,      0.4034,      0.4044,     0.40541,     0.40641,     0.40741,\n",
       "           0.40841,     0.40941,     0.41041,     0.41141,     0.41241,     0.41341,     0.41441,     0.41542,     0.41642,     0.41742,     0.41842,     0.41942,     0.42042,     0.42142,     0.42242,     0.42342,     0.42442,     0.42543,     0.42643,     0.42743,     0.42843,     0.42943,     0.43043,     0.43143,\n",
       "           0.43243,     0.43343,     0.43443,     0.43544,     0.43644,     0.43744,     0.43844,     0.43944,     0.44044,     0.44144,     0.44244,     0.44344,     0.44444,     0.44545,     0.44645,     0.44745,     0.44845,     0.44945,     0.45045,     0.45145,     0.45245,     0.45345,     0.45445,     0.45546,\n",
       "           0.45646,     0.45746,     0.45846,     0.45946,     0.46046,     0.46146,     0.46246,     0.46346,     0.46446,     0.46547,     0.46647,     0.46747,     0.46847,     0.46947,     0.47047,     0.47147,     0.47247,     0.47347,     0.47447,     0.47548,     0.47648,     0.47748,     0.47848,     0.47948,\n",
       "           0.48048,     0.48148,     0.48248,     0.48348,     0.48448,     0.48549,     0.48649,     0.48749,     0.48849,     0.48949,     0.49049,     0.49149,     0.49249,     0.49349,     0.49449,      0.4955,      0.4965,      0.4975,      0.4985,      0.4995,      0.5005,      0.5015,      0.5025,      0.5035,\n",
       "            0.5045,     0.50551,     0.50651,     0.50751,     0.50851,     0.50951,     0.51051,     0.51151,     0.51251,     0.51351,     0.51451,     0.51552,     0.51652,     0.51752,     0.51852,     0.51952,     0.52052,     0.52152,     0.52252,     0.52352,     0.52452,     0.52553,     0.52653,     0.52753,\n",
       "           0.52853,     0.52953,     0.53053,     0.53153,     0.53253,     0.53353,     0.53453,     0.53554,     0.53654,     0.53754,     0.53854,     0.53954,     0.54054,     0.54154,     0.54254,     0.54354,     0.54454,     0.54555,     0.54655,     0.54755,     0.54855,     0.54955,     0.55055,     0.55155,\n",
       "           0.55255,     0.55355,     0.55455,     0.55556,     0.55656,     0.55756,     0.55856,     0.55956,     0.56056,     0.56156,     0.56256,     0.56356,     0.56456,     0.56557,     0.56657,     0.56757,     0.56857,     0.56957,     0.57057,     0.57157,     0.57257,     0.57357,     0.57457,     0.57558,\n",
       "           0.57658,     0.57758,     0.57858,     0.57958,     0.58058,     0.58158,     0.58258,     0.58358,     0.58458,     0.58559,     0.58659,     0.58759,     0.58859,     0.58959,     0.59059,     0.59159,     0.59259,     0.59359,     0.59459,      0.5956,      0.5966,      0.5976,      0.5986,      0.5996,\n",
       "            0.6006,      0.6016,      0.6026,      0.6036,      0.6046,     0.60561,     0.60661,     0.60761,     0.60861,     0.60961,     0.61061,     0.61161,     0.61261,     0.61361,     0.61461,     0.61562,     0.61662,     0.61762,     0.61862,     0.61962,     0.62062,     0.62162,     0.62262,     0.62362,\n",
       "           0.62462,     0.62563,     0.62663,     0.62763,     0.62863,     0.62963,     0.63063,     0.63163,     0.63263,     0.63363,     0.63463,     0.63564,     0.63664,     0.63764,     0.63864,     0.63964,     0.64064,     0.64164,     0.64264,     0.64364,     0.64464,     0.64565,     0.64665,     0.64765,\n",
       "           0.64865,     0.64965,     0.65065,     0.65165,     0.65265,     0.65365,     0.65465,     0.65566,     0.65666,     0.65766,     0.65866,     0.65966,     0.66066,     0.66166,     0.66266,     0.66366,     0.66466,     0.66567,     0.66667,     0.66767,     0.66867,     0.66967,     0.67067,     0.67167,\n",
       "           0.67267,     0.67367,     0.67467,     0.67568,     0.67668,     0.67768,     0.67868,     0.67968,     0.68068,     0.68168,     0.68268,     0.68368,     0.68468,     0.68569,     0.68669,     0.68769,     0.68869,     0.68969,     0.69069,     0.69169,     0.69269,     0.69369,     0.69469,      0.6957,\n",
       "            0.6967,      0.6977,      0.6987,      0.6997,      0.7007,      0.7017,      0.7027,      0.7037,      0.7047,     0.70571,     0.70671,     0.70771,     0.70871,     0.70971,     0.71071,     0.71171,     0.71271,     0.71371,     0.71471,     0.71572,     0.71672,     0.71772,     0.71872,     0.71972,\n",
       "           0.72072,     0.72172,     0.72272,     0.72372,     0.72472,     0.72573,     0.72673,     0.72773,     0.72873,     0.72973,     0.73073,     0.73173,     0.73273,     0.73373,     0.73473,     0.73574,     0.73674,     0.73774,     0.73874,     0.73974,     0.74074,     0.74174,     0.74274,     0.74374,\n",
       "           0.74474,     0.74575,     0.74675,     0.74775,     0.74875,     0.74975,     0.75075,     0.75175,     0.75275,     0.75375,     0.75475,     0.75576,     0.75676,     0.75776,     0.75876,     0.75976,     0.76076,     0.76176,     0.76276,     0.76376,     0.76476,     0.76577,     0.76677,     0.76777,\n",
       "           0.76877,     0.76977,     0.77077,     0.77177,     0.77277,     0.77377,     0.77477,     0.77578,     0.77678,     0.77778,     0.77878,     0.77978,     0.78078,     0.78178,     0.78278,     0.78378,     0.78478,     0.78579,     0.78679,     0.78779,     0.78879,     0.78979,     0.79079,     0.79179,\n",
       "           0.79279,     0.79379,     0.79479,      0.7958,      0.7968,      0.7978,      0.7988,      0.7998,      0.8008,      0.8018,      0.8028,      0.8038,      0.8048,     0.80581,     0.80681,     0.80781,     0.80881,     0.80981,     0.81081,     0.81181,     0.81281,     0.81381,     0.81481,     0.81582,\n",
       "           0.81682,     0.81782,     0.81882,     0.81982,     0.82082,     0.82182,     0.82282,     0.82382,     0.82482,     0.82583,     0.82683,     0.82783,     0.82883,     0.82983,     0.83083,     0.83183,     0.83283,     0.83383,     0.83483,     0.83584,     0.83684,     0.83784,     0.83884,     0.83984,\n",
       "           0.84084,     0.84184,     0.84284,     0.84384,     0.84484,     0.84585,     0.84685,     0.84785,     0.84885,     0.84985,     0.85085,     0.85185,     0.85285,     0.85385,     0.85485,     0.85586,     0.85686,     0.85786,     0.85886,     0.85986,     0.86086,     0.86186,     0.86286,     0.86386,\n",
       "           0.86486,     0.86587,     0.86687,     0.86787,     0.86887,     0.86987,     0.87087,     0.87187,     0.87287,     0.87387,     0.87487,     0.87588,     0.87688,     0.87788,     0.87888,     0.87988,     0.88088,     0.88188,     0.88288,     0.88388,     0.88488,     0.88589,     0.88689,     0.88789,\n",
       "           0.88889,     0.88989,     0.89089,     0.89189,     0.89289,     0.89389,     0.89489,      0.8959,      0.8969,      0.8979,      0.8989,      0.8999,      0.9009,      0.9019,      0.9029,      0.9039,      0.9049,     0.90591,     0.90691,     0.90791,     0.90891,     0.90991,     0.91091,     0.91191,\n",
       "           0.91291,     0.91391,     0.91491,     0.91592,     0.91692,     0.91792,     0.91892,     0.91992,     0.92092,     0.92192,     0.92292,     0.92392,     0.92492,     0.92593,     0.92693,     0.92793,     0.92893,     0.92993,     0.93093,     0.93193,     0.93293,     0.93393,     0.93493,     0.93594,\n",
       "           0.93694,     0.93794,     0.93894,     0.93994,     0.94094,     0.94194,     0.94294,     0.94394,     0.94494,     0.94595,     0.94695,     0.94795,     0.94895,     0.94995,     0.95095,     0.95195,     0.95295,     0.95395,     0.95495,     0.95596,     0.95696,     0.95796,     0.95896,     0.95996,\n",
       "           0.96096,     0.96196,     0.96296,     0.96396,     0.96496,     0.96597,     0.96697,     0.96797,     0.96897,     0.96997,     0.97097,     0.97197,     0.97297,     0.97397,     0.97497,     0.97598,     0.97698,     0.97798,     0.97898,     0.97998,     0.98098,     0.98198,     0.98298,     0.98398,\n",
       "           0.98498,     0.98599,     0.98699,     0.98799,     0.98899,     0.98999,     0.99099,     0.99199,     0.99299,     0.99399,     0.99499,       0.996,       0.997,       0.998,       0.999,           1]), array([[          1,           1,           1, ...,     0.69231,     0.69231,           0],\n",
       "       [          1,           1,           1, ...,        0.75,        0.75,           0]]), 'Recall', 'Precision'], [array([          0,    0.001001,    0.002002,    0.003003,    0.004004,    0.005005,    0.006006,    0.007007,    0.008008,    0.009009,     0.01001,    0.011011,    0.012012,    0.013013,    0.014014,    0.015015,    0.016016,    0.017017,    0.018018,    0.019019,     0.02002,    0.021021,    0.022022,    0.023023,\n",
       "          0.024024,    0.025025,    0.026026,    0.027027,    0.028028,    0.029029,     0.03003,    0.031031,    0.032032,    0.033033,    0.034034,    0.035035,    0.036036,    0.037037,    0.038038,    0.039039,     0.04004,    0.041041,    0.042042,    0.043043,    0.044044,    0.045045,    0.046046,    0.047047,\n",
       "          0.048048,    0.049049,     0.05005,    0.051051,    0.052052,    0.053053,    0.054054,    0.055055,    0.056056,    0.057057,    0.058058,    0.059059,     0.06006,    0.061061,    0.062062,    0.063063,    0.064064,    0.065065,    0.066066,    0.067067,    0.068068,    0.069069,     0.07007,    0.071071,\n",
       "          0.072072,    0.073073,    0.074074,    0.075075,    0.076076,    0.077077,    0.078078,    0.079079,     0.08008,    0.081081,    0.082082,    0.083083,    0.084084,    0.085085,    0.086086,    0.087087,    0.088088,    0.089089,     0.09009,    0.091091,    0.092092,    0.093093,    0.094094,    0.095095,\n",
       "          0.096096,    0.097097,    0.098098,    0.099099,      0.1001,      0.1011,      0.1021,      0.1031,      0.1041,     0.10511,     0.10611,     0.10711,     0.10811,     0.10911,     0.11011,     0.11111,     0.11211,     0.11311,     0.11411,     0.11512,     0.11612,     0.11712,     0.11812,     0.11912,\n",
       "           0.12012,     0.12112,     0.12212,     0.12312,     0.12412,     0.12513,     0.12613,     0.12713,     0.12813,     0.12913,     0.13013,     0.13113,     0.13213,     0.13313,     0.13413,     0.13514,     0.13614,     0.13714,     0.13814,     0.13914,     0.14014,     0.14114,     0.14214,     0.14314,\n",
       "           0.14414,     0.14515,     0.14615,     0.14715,     0.14815,     0.14915,     0.15015,     0.15115,     0.15215,     0.15315,     0.15415,     0.15516,     0.15616,     0.15716,     0.15816,     0.15916,     0.16016,     0.16116,     0.16216,     0.16316,     0.16416,     0.16517,     0.16617,     0.16717,\n",
       "           0.16817,     0.16917,     0.17017,     0.17117,     0.17217,     0.17317,     0.17417,     0.17518,     0.17618,     0.17718,     0.17818,     0.17918,     0.18018,     0.18118,     0.18218,     0.18318,     0.18418,     0.18519,     0.18619,     0.18719,     0.18819,     0.18919,     0.19019,     0.19119,\n",
       "           0.19219,     0.19319,     0.19419,      0.1952,      0.1962,      0.1972,      0.1982,      0.1992,      0.2002,      0.2012,      0.2022,      0.2032,      0.2042,     0.20521,     0.20621,     0.20721,     0.20821,     0.20921,     0.21021,     0.21121,     0.21221,     0.21321,     0.21421,     0.21522,\n",
       "           0.21622,     0.21722,     0.21822,     0.21922,     0.22022,     0.22122,     0.22222,     0.22322,     0.22422,     0.22523,     0.22623,     0.22723,     0.22823,     0.22923,     0.23023,     0.23123,     0.23223,     0.23323,     0.23423,     0.23524,     0.23624,     0.23724,     0.23824,     0.23924,\n",
       "           0.24024,     0.24124,     0.24224,     0.24324,     0.24424,     0.24525,     0.24625,     0.24725,     0.24825,     0.24925,     0.25025,     0.25125,     0.25225,     0.25325,     0.25425,     0.25526,     0.25626,     0.25726,     0.25826,     0.25926,     0.26026,     0.26126,     0.26226,     0.26326,\n",
       "           0.26426,     0.26527,     0.26627,     0.26727,     0.26827,     0.26927,     0.27027,     0.27127,     0.27227,     0.27327,     0.27427,     0.27528,     0.27628,     0.27728,     0.27828,     0.27928,     0.28028,     0.28128,     0.28228,     0.28328,     0.28428,     0.28529,     0.28629,     0.28729,\n",
       "           0.28829,     0.28929,     0.29029,     0.29129,     0.29229,     0.29329,     0.29429,      0.2953,      0.2963,      0.2973,      0.2983,      0.2993,      0.3003,      0.3013,      0.3023,      0.3033,      0.3043,     0.30531,     0.30631,     0.30731,     0.30831,     0.30931,     0.31031,     0.31131,\n",
       "           0.31231,     0.31331,     0.31431,     0.31532,     0.31632,     0.31732,     0.31832,     0.31932,     0.32032,     0.32132,     0.32232,     0.32332,     0.32432,     0.32533,     0.32633,     0.32733,     0.32833,     0.32933,     0.33033,     0.33133,     0.33233,     0.33333,     0.33433,     0.33534,\n",
       "           0.33634,     0.33734,     0.33834,     0.33934,     0.34034,     0.34134,     0.34234,     0.34334,     0.34434,     0.34535,     0.34635,     0.34735,     0.34835,     0.34935,     0.35035,     0.35135,     0.35235,     0.35335,     0.35435,     0.35536,     0.35636,     0.35736,     0.35836,     0.35936,\n",
       "           0.36036,     0.36136,     0.36236,     0.36336,     0.36436,     0.36537,     0.36637,     0.36737,     0.36837,     0.36937,     0.37037,     0.37137,     0.37237,     0.37337,     0.37437,     0.37538,     0.37638,     0.37738,     0.37838,     0.37938,     0.38038,     0.38138,     0.38238,     0.38338,\n",
       "           0.38438,     0.38539,     0.38639,     0.38739,     0.38839,     0.38939,     0.39039,     0.39139,     0.39239,     0.39339,     0.39439,      0.3954,      0.3964,      0.3974,      0.3984,      0.3994,      0.4004,      0.4014,      0.4024,      0.4034,      0.4044,     0.40541,     0.40641,     0.40741,\n",
       "           0.40841,     0.40941,     0.41041,     0.41141,     0.41241,     0.41341,     0.41441,     0.41542,     0.41642,     0.41742,     0.41842,     0.41942,     0.42042,     0.42142,     0.42242,     0.42342,     0.42442,     0.42543,     0.42643,     0.42743,     0.42843,     0.42943,     0.43043,     0.43143,\n",
       "           0.43243,     0.43343,     0.43443,     0.43544,     0.43644,     0.43744,     0.43844,     0.43944,     0.44044,     0.44144,     0.44244,     0.44344,     0.44444,     0.44545,     0.44645,     0.44745,     0.44845,     0.44945,     0.45045,     0.45145,     0.45245,     0.45345,     0.45445,     0.45546,\n",
       "           0.45646,     0.45746,     0.45846,     0.45946,     0.46046,     0.46146,     0.46246,     0.46346,     0.46446,     0.46547,     0.46647,     0.46747,     0.46847,     0.46947,     0.47047,     0.47147,     0.47247,     0.47347,     0.47447,     0.47548,     0.47648,     0.47748,     0.47848,     0.47948,\n",
       "           0.48048,     0.48148,     0.48248,     0.48348,     0.48448,     0.48549,     0.48649,     0.48749,     0.48849,     0.48949,     0.49049,     0.49149,     0.49249,     0.49349,     0.49449,      0.4955,      0.4965,      0.4975,      0.4985,      0.4995,      0.5005,      0.5015,      0.5025,      0.5035,\n",
       "            0.5045,     0.50551,     0.50651,     0.50751,     0.50851,     0.50951,     0.51051,     0.51151,     0.51251,     0.51351,     0.51451,     0.51552,     0.51652,     0.51752,     0.51852,     0.51952,     0.52052,     0.52152,     0.52252,     0.52352,     0.52452,     0.52553,     0.52653,     0.52753,\n",
       "           0.52853,     0.52953,     0.53053,     0.53153,     0.53253,     0.53353,     0.53453,     0.53554,     0.53654,     0.53754,     0.53854,     0.53954,     0.54054,     0.54154,     0.54254,     0.54354,     0.54454,     0.54555,     0.54655,     0.54755,     0.54855,     0.54955,     0.55055,     0.55155,\n",
       "           0.55255,     0.55355,     0.55455,     0.55556,     0.55656,     0.55756,     0.55856,     0.55956,     0.56056,     0.56156,     0.56256,     0.56356,     0.56456,     0.56557,     0.56657,     0.56757,     0.56857,     0.56957,     0.57057,     0.57157,     0.57257,     0.57357,     0.57457,     0.57558,\n",
       "           0.57658,     0.57758,     0.57858,     0.57958,     0.58058,     0.58158,     0.58258,     0.58358,     0.58458,     0.58559,     0.58659,     0.58759,     0.58859,     0.58959,     0.59059,     0.59159,     0.59259,     0.59359,     0.59459,      0.5956,      0.5966,      0.5976,      0.5986,      0.5996,\n",
       "            0.6006,      0.6016,      0.6026,      0.6036,      0.6046,     0.60561,     0.60661,     0.60761,     0.60861,     0.60961,     0.61061,     0.61161,     0.61261,     0.61361,     0.61461,     0.61562,     0.61662,     0.61762,     0.61862,     0.61962,     0.62062,     0.62162,     0.62262,     0.62362,\n",
       "           0.62462,     0.62563,     0.62663,     0.62763,     0.62863,     0.62963,     0.63063,     0.63163,     0.63263,     0.63363,     0.63463,     0.63564,     0.63664,     0.63764,     0.63864,     0.63964,     0.64064,     0.64164,     0.64264,     0.64364,     0.64464,     0.64565,     0.64665,     0.64765,\n",
       "           0.64865,     0.64965,     0.65065,     0.65165,     0.65265,     0.65365,     0.65465,     0.65566,     0.65666,     0.65766,     0.65866,     0.65966,     0.66066,     0.66166,     0.66266,     0.66366,     0.66466,     0.66567,     0.66667,     0.66767,     0.66867,     0.66967,     0.67067,     0.67167,\n",
       "           0.67267,     0.67367,     0.67467,     0.67568,     0.67668,     0.67768,     0.67868,     0.67968,     0.68068,     0.68168,     0.68268,     0.68368,     0.68468,     0.68569,     0.68669,     0.68769,     0.68869,     0.68969,     0.69069,     0.69169,     0.69269,     0.69369,     0.69469,      0.6957,\n",
       "            0.6967,      0.6977,      0.6987,      0.6997,      0.7007,      0.7017,      0.7027,      0.7037,      0.7047,     0.70571,     0.70671,     0.70771,     0.70871,     0.70971,     0.71071,     0.71171,     0.71271,     0.71371,     0.71471,     0.71572,     0.71672,     0.71772,     0.71872,     0.71972,\n",
       "           0.72072,     0.72172,     0.72272,     0.72372,     0.72472,     0.72573,     0.72673,     0.72773,     0.72873,     0.72973,     0.73073,     0.73173,     0.73273,     0.73373,     0.73473,     0.73574,     0.73674,     0.73774,     0.73874,     0.73974,     0.74074,     0.74174,     0.74274,     0.74374,\n",
       "           0.74474,     0.74575,     0.74675,     0.74775,     0.74875,     0.74975,     0.75075,     0.75175,     0.75275,     0.75375,     0.75475,     0.75576,     0.75676,     0.75776,     0.75876,     0.75976,     0.76076,     0.76176,     0.76276,     0.76376,     0.76476,     0.76577,     0.76677,     0.76777,\n",
       "           0.76877,     0.76977,     0.77077,     0.77177,     0.77277,     0.77377,     0.77477,     0.77578,     0.77678,     0.77778,     0.77878,     0.77978,     0.78078,     0.78178,     0.78278,     0.78378,     0.78478,     0.78579,     0.78679,     0.78779,     0.78879,     0.78979,     0.79079,     0.79179,\n",
       "           0.79279,     0.79379,     0.79479,      0.7958,      0.7968,      0.7978,      0.7988,      0.7998,      0.8008,      0.8018,      0.8028,      0.8038,      0.8048,     0.80581,     0.80681,     0.80781,     0.80881,     0.80981,     0.81081,     0.81181,     0.81281,     0.81381,     0.81481,     0.81582,\n",
       "           0.81682,     0.81782,     0.81882,     0.81982,     0.82082,     0.82182,     0.82282,     0.82382,     0.82482,     0.82583,     0.82683,     0.82783,     0.82883,     0.82983,     0.83083,     0.83183,     0.83283,     0.83383,     0.83483,     0.83584,     0.83684,     0.83784,     0.83884,     0.83984,\n",
       "           0.84084,     0.84184,     0.84284,     0.84384,     0.84484,     0.84585,     0.84685,     0.84785,     0.84885,     0.84985,     0.85085,     0.85185,     0.85285,     0.85385,     0.85485,     0.85586,     0.85686,     0.85786,     0.85886,     0.85986,     0.86086,     0.86186,     0.86286,     0.86386,\n",
       "           0.86486,     0.86587,     0.86687,     0.86787,     0.86887,     0.86987,     0.87087,     0.87187,     0.87287,     0.87387,     0.87487,     0.87588,     0.87688,     0.87788,     0.87888,     0.87988,     0.88088,     0.88188,     0.88288,     0.88388,     0.88488,     0.88589,     0.88689,     0.88789,\n",
       "           0.88889,     0.88989,     0.89089,     0.89189,     0.89289,     0.89389,     0.89489,      0.8959,      0.8969,      0.8979,      0.8989,      0.8999,      0.9009,      0.9019,      0.9029,      0.9039,      0.9049,     0.90591,     0.90691,     0.90791,     0.90891,     0.90991,     0.91091,     0.91191,\n",
       "           0.91291,     0.91391,     0.91491,     0.91592,     0.91692,     0.91792,     0.91892,     0.91992,     0.92092,     0.92192,     0.92292,     0.92392,     0.92492,     0.92593,     0.92693,     0.92793,     0.92893,     0.92993,     0.93093,     0.93193,     0.93293,     0.93393,     0.93493,     0.93594,\n",
       "           0.93694,     0.93794,     0.93894,     0.93994,     0.94094,     0.94194,     0.94294,     0.94394,     0.94494,     0.94595,     0.94695,     0.94795,     0.94895,     0.94995,     0.95095,     0.95195,     0.95295,     0.95395,     0.95495,     0.95596,     0.95696,     0.95796,     0.95896,     0.95996,\n",
       "           0.96096,     0.96196,     0.96296,     0.96396,     0.96496,     0.96597,     0.96697,     0.96797,     0.96897,     0.96997,     0.97097,     0.97197,     0.97297,     0.97397,     0.97497,     0.97598,     0.97698,     0.97798,     0.97898,     0.97998,     0.98098,     0.98198,     0.98298,     0.98398,\n",
       "           0.98498,     0.98599,     0.98699,     0.98799,     0.98899,     0.98999,     0.99099,     0.99199,     0.99299,     0.99399,     0.99499,       0.996,       0.997,       0.998,       0.999,           1]), array([[    0.18367,     0.18367,     0.39102, ...,           0,           0,           0],\n",
       "       [    0.26087,     0.26087,     0.51884, ...,           0,           0,           0]]), 'Confidence', 'F1'], [array([          0,    0.001001,    0.002002,    0.003003,    0.004004,    0.005005,    0.006006,    0.007007,    0.008008,    0.009009,     0.01001,    0.011011,    0.012012,    0.013013,    0.014014,    0.015015,    0.016016,    0.017017,    0.018018,    0.019019,     0.02002,    0.021021,    0.022022,    0.023023,\n",
       "          0.024024,    0.025025,    0.026026,    0.027027,    0.028028,    0.029029,     0.03003,    0.031031,    0.032032,    0.033033,    0.034034,    0.035035,    0.036036,    0.037037,    0.038038,    0.039039,     0.04004,    0.041041,    0.042042,    0.043043,    0.044044,    0.045045,    0.046046,    0.047047,\n",
       "          0.048048,    0.049049,     0.05005,    0.051051,    0.052052,    0.053053,    0.054054,    0.055055,    0.056056,    0.057057,    0.058058,    0.059059,     0.06006,    0.061061,    0.062062,    0.063063,    0.064064,    0.065065,    0.066066,    0.067067,    0.068068,    0.069069,     0.07007,    0.071071,\n",
       "          0.072072,    0.073073,    0.074074,    0.075075,    0.076076,    0.077077,    0.078078,    0.079079,     0.08008,    0.081081,    0.082082,    0.083083,    0.084084,    0.085085,    0.086086,    0.087087,    0.088088,    0.089089,     0.09009,    0.091091,    0.092092,    0.093093,    0.094094,    0.095095,\n",
       "          0.096096,    0.097097,    0.098098,    0.099099,      0.1001,      0.1011,      0.1021,      0.1031,      0.1041,     0.10511,     0.10611,     0.10711,     0.10811,     0.10911,     0.11011,     0.11111,     0.11211,     0.11311,     0.11411,     0.11512,     0.11612,     0.11712,     0.11812,     0.11912,\n",
       "           0.12012,     0.12112,     0.12212,     0.12312,     0.12412,     0.12513,     0.12613,     0.12713,     0.12813,     0.12913,     0.13013,     0.13113,     0.13213,     0.13313,     0.13413,     0.13514,     0.13614,     0.13714,     0.13814,     0.13914,     0.14014,     0.14114,     0.14214,     0.14314,\n",
       "           0.14414,     0.14515,     0.14615,     0.14715,     0.14815,     0.14915,     0.15015,     0.15115,     0.15215,     0.15315,     0.15415,     0.15516,     0.15616,     0.15716,     0.15816,     0.15916,     0.16016,     0.16116,     0.16216,     0.16316,     0.16416,     0.16517,     0.16617,     0.16717,\n",
       "           0.16817,     0.16917,     0.17017,     0.17117,     0.17217,     0.17317,     0.17417,     0.17518,     0.17618,     0.17718,     0.17818,     0.17918,     0.18018,     0.18118,     0.18218,     0.18318,     0.18418,     0.18519,     0.18619,     0.18719,     0.18819,     0.18919,     0.19019,     0.19119,\n",
       "           0.19219,     0.19319,     0.19419,      0.1952,      0.1962,      0.1972,      0.1982,      0.1992,      0.2002,      0.2012,      0.2022,      0.2032,      0.2042,     0.20521,     0.20621,     0.20721,     0.20821,     0.20921,     0.21021,     0.21121,     0.21221,     0.21321,     0.21421,     0.21522,\n",
       "           0.21622,     0.21722,     0.21822,     0.21922,     0.22022,     0.22122,     0.22222,     0.22322,     0.22422,     0.22523,     0.22623,     0.22723,     0.22823,     0.22923,     0.23023,     0.23123,     0.23223,     0.23323,     0.23423,     0.23524,     0.23624,     0.23724,     0.23824,     0.23924,\n",
       "           0.24024,     0.24124,     0.24224,     0.24324,     0.24424,     0.24525,     0.24625,     0.24725,     0.24825,     0.24925,     0.25025,     0.25125,     0.25225,     0.25325,     0.25425,     0.25526,     0.25626,     0.25726,     0.25826,     0.25926,     0.26026,     0.26126,     0.26226,     0.26326,\n",
       "           0.26426,     0.26527,     0.26627,     0.26727,     0.26827,     0.26927,     0.27027,     0.27127,     0.27227,     0.27327,     0.27427,     0.27528,     0.27628,     0.27728,     0.27828,     0.27928,     0.28028,     0.28128,     0.28228,     0.28328,     0.28428,     0.28529,     0.28629,     0.28729,\n",
       "           0.28829,     0.28929,     0.29029,     0.29129,     0.29229,     0.29329,     0.29429,      0.2953,      0.2963,      0.2973,      0.2983,      0.2993,      0.3003,      0.3013,      0.3023,      0.3033,      0.3043,     0.30531,     0.30631,     0.30731,     0.30831,     0.30931,     0.31031,     0.31131,\n",
       "           0.31231,     0.31331,     0.31431,     0.31532,     0.31632,     0.31732,     0.31832,     0.31932,     0.32032,     0.32132,     0.32232,     0.32332,     0.32432,     0.32533,     0.32633,     0.32733,     0.32833,     0.32933,     0.33033,     0.33133,     0.33233,     0.33333,     0.33433,     0.33534,\n",
       "           0.33634,     0.33734,     0.33834,     0.33934,     0.34034,     0.34134,     0.34234,     0.34334,     0.34434,     0.34535,     0.34635,     0.34735,     0.34835,     0.34935,     0.35035,     0.35135,     0.35235,     0.35335,     0.35435,     0.35536,     0.35636,     0.35736,     0.35836,     0.35936,\n",
       "           0.36036,     0.36136,     0.36236,     0.36336,     0.36436,     0.36537,     0.36637,     0.36737,     0.36837,     0.36937,     0.37037,     0.37137,     0.37237,     0.37337,     0.37437,     0.37538,     0.37638,     0.37738,     0.37838,     0.37938,     0.38038,     0.38138,     0.38238,     0.38338,\n",
       "           0.38438,     0.38539,     0.38639,     0.38739,     0.38839,     0.38939,     0.39039,     0.39139,     0.39239,     0.39339,     0.39439,      0.3954,      0.3964,      0.3974,      0.3984,      0.3994,      0.4004,      0.4014,      0.4024,      0.4034,      0.4044,     0.40541,     0.40641,     0.40741,\n",
       "           0.40841,     0.40941,     0.41041,     0.41141,     0.41241,     0.41341,     0.41441,     0.41542,     0.41642,     0.41742,     0.41842,     0.41942,     0.42042,     0.42142,     0.42242,     0.42342,     0.42442,     0.42543,     0.42643,     0.42743,     0.42843,     0.42943,     0.43043,     0.43143,\n",
       "           0.43243,     0.43343,     0.43443,     0.43544,     0.43644,     0.43744,     0.43844,     0.43944,     0.44044,     0.44144,     0.44244,     0.44344,     0.44444,     0.44545,     0.44645,     0.44745,     0.44845,     0.44945,     0.45045,     0.45145,     0.45245,     0.45345,     0.45445,     0.45546,\n",
       "           0.45646,     0.45746,     0.45846,     0.45946,     0.46046,     0.46146,     0.46246,     0.46346,     0.46446,     0.46547,     0.46647,     0.46747,     0.46847,     0.46947,     0.47047,     0.47147,     0.47247,     0.47347,     0.47447,     0.47548,     0.47648,     0.47748,     0.47848,     0.47948,\n",
       "           0.48048,     0.48148,     0.48248,     0.48348,     0.48448,     0.48549,     0.48649,     0.48749,     0.48849,     0.48949,     0.49049,     0.49149,     0.49249,     0.49349,     0.49449,      0.4955,      0.4965,      0.4975,      0.4985,      0.4995,      0.5005,      0.5015,      0.5025,      0.5035,\n",
       "            0.5045,     0.50551,     0.50651,     0.50751,     0.50851,     0.50951,     0.51051,     0.51151,     0.51251,     0.51351,     0.51451,     0.51552,     0.51652,     0.51752,     0.51852,     0.51952,     0.52052,     0.52152,     0.52252,     0.52352,     0.52452,     0.52553,     0.52653,     0.52753,\n",
       "           0.52853,     0.52953,     0.53053,     0.53153,     0.53253,     0.53353,     0.53453,     0.53554,     0.53654,     0.53754,     0.53854,     0.53954,     0.54054,     0.54154,     0.54254,     0.54354,     0.54454,     0.54555,     0.54655,     0.54755,     0.54855,     0.54955,     0.55055,     0.55155,\n",
       "           0.55255,     0.55355,     0.55455,     0.55556,     0.55656,     0.55756,     0.55856,     0.55956,     0.56056,     0.56156,     0.56256,     0.56356,     0.56456,     0.56557,     0.56657,     0.56757,     0.56857,     0.56957,     0.57057,     0.57157,     0.57257,     0.57357,     0.57457,     0.57558,\n",
       "           0.57658,     0.57758,     0.57858,     0.57958,     0.58058,     0.58158,     0.58258,     0.58358,     0.58458,     0.58559,     0.58659,     0.58759,     0.58859,     0.58959,     0.59059,     0.59159,     0.59259,     0.59359,     0.59459,      0.5956,      0.5966,      0.5976,      0.5986,      0.5996,\n",
       "            0.6006,      0.6016,      0.6026,      0.6036,      0.6046,     0.60561,     0.60661,     0.60761,     0.60861,     0.60961,     0.61061,     0.61161,     0.61261,     0.61361,     0.61461,     0.61562,     0.61662,     0.61762,     0.61862,     0.61962,     0.62062,     0.62162,     0.62262,     0.62362,\n",
       "           0.62462,     0.62563,     0.62663,     0.62763,     0.62863,     0.62963,     0.63063,     0.63163,     0.63263,     0.63363,     0.63463,     0.63564,     0.63664,     0.63764,     0.63864,     0.63964,     0.64064,     0.64164,     0.64264,     0.64364,     0.64464,     0.64565,     0.64665,     0.64765,\n",
       "           0.64865,     0.64965,     0.65065,     0.65165,     0.65265,     0.65365,     0.65465,     0.65566,     0.65666,     0.65766,     0.65866,     0.65966,     0.66066,     0.66166,     0.66266,     0.66366,     0.66466,     0.66567,     0.66667,     0.66767,     0.66867,     0.66967,     0.67067,     0.67167,\n",
       "           0.67267,     0.67367,     0.67467,     0.67568,     0.67668,     0.67768,     0.67868,     0.67968,     0.68068,     0.68168,     0.68268,     0.68368,     0.68468,     0.68569,     0.68669,     0.68769,     0.68869,     0.68969,     0.69069,     0.69169,     0.69269,     0.69369,     0.69469,      0.6957,\n",
       "            0.6967,      0.6977,      0.6987,      0.6997,      0.7007,      0.7017,      0.7027,      0.7037,      0.7047,     0.70571,     0.70671,     0.70771,     0.70871,     0.70971,     0.71071,     0.71171,     0.71271,     0.71371,     0.71471,     0.71572,     0.71672,     0.71772,     0.71872,     0.71972,\n",
       "           0.72072,     0.72172,     0.72272,     0.72372,     0.72472,     0.72573,     0.72673,     0.72773,     0.72873,     0.72973,     0.73073,     0.73173,     0.73273,     0.73373,     0.73473,     0.73574,     0.73674,     0.73774,     0.73874,     0.73974,     0.74074,     0.74174,     0.74274,     0.74374,\n",
       "           0.74474,     0.74575,     0.74675,     0.74775,     0.74875,     0.74975,     0.75075,     0.75175,     0.75275,     0.75375,     0.75475,     0.75576,     0.75676,     0.75776,     0.75876,     0.75976,     0.76076,     0.76176,     0.76276,     0.76376,     0.76476,     0.76577,     0.76677,     0.76777,\n",
       "           0.76877,     0.76977,     0.77077,     0.77177,     0.77277,     0.77377,     0.77477,     0.77578,     0.77678,     0.77778,     0.77878,     0.77978,     0.78078,     0.78178,     0.78278,     0.78378,     0.78478,     0.78579,     0.78679,     0.78779,     0.78879,     0.78979,     0.79079,     0.79179,\n",
       "           0.79279,     0.79379,     0.79479,      0.7958,      0.7968,      0.7978,      0.7988,      0.7998,      0.8008,      0.8018,      0.8028,      0.8038,      0.8048,     0.80581,     0.80681,     0.80781,     0.80881,     0.80981,     0.81081,     0.81181,     0.81281,     0.81381,     0.81481,     0.81582,\n",
       "           0.81682,     0.81782,     0.81882,     0.81982,     0.82082,     0.82182,     0.82282,     0.82382,     0.82482,     0.82583,     0.82683,     0.82783,     0.82883,     0.82983,     0.83083,     0.83183,     0.83283,     0.83383,     0.83483,     0.83584,     0.83684,     0.83784,     0.83884,     0.83984,\n",
       "           0.84084,     0.84184,     0.84284,     0.84384,     0.84484,     0.84585,     0.84685,     0.84785,     0.84885,     0.84985,     0.85085,     0.85185,     0.85285,     0.85385,     0.85485,     0.85586,     0.85686,     0.85786,     0.85886,     0.85986,     0.86086,     0.86186,     0.86286,     0.86386,\n",
       "           0.86486,     0.86587,     0.86687,     0.86787,     0.86887,     0.86987,     0.87087,     0.87187,     0.87287,     0.87387,     0.87487,     0.87588,     0.87688,     0.87788,     0.87888,     0.87988,     0.88088,     0.88188,     0.88288,     0.88388,     0.88488,     0.88589,     0.88689,     0.88789,\n",
       "           0.88889,     0.88989,     0.89089,     0.89189,     0.89289,     0.89389,     0.89489,      0.8959,      0.8969,      0.8979,      0.8989,      0.8999,      0.9009,      0.9019,      0.9029,      0.9039,      0.9049,     0.90591,     0.90691,     0.90791,     0.90891,     0.90991,     0.91091,     0.91191,\n",
       "           0.91291,     0.91391,     0.91491,     0.91592,     0.91692,     0.91792,     0.91892,     0.91992,     0.92092,     0.92192,     0.92292,     0.92392,     0.92492,     0.92593,     0.92693,     0.92793,     0.92893,     0.92993,     0.93093,     0.93193,     0.93293,     0.93393,     0.93493,     0.93594,\n",
       "           0.93694,     0.93794,     0.93894,     0.93994,     0.94094,     0.94194,     0.94294,     0.94394,     0.94494,     0.94595,     0.94695,     0.94795,     0.94895,     0.94995,     0.95095,     0.95195,     0.95295,     0.95395,     0.95495,     0.95596,     0.95696,     0.95796,     0.95896,     0.95996,\n",
       "           0.96096,     0.96196,     0.96296,     0.96396,     0.96496,     0.96597,     0.96697,     0.96797,     0.96897,     0.96997,     0.97097,     0.97197,     0.97297,     0.97397,     0.97497,     0.97598,     0.97698,     0.97798,     0.97898,     0.97998,     0.98098,     0.98198,     0.98298,     0.98398,\n",
       "           0.98498,     0.98599,     0.98699,     0.98799,     0.98899,     0.98999,     0.99099,     0.99199,     0.99299,     0.99399,     0.99499,       0.996,       0.997,       0.998,       0.999,           1]), array([[    0.10112,     0.10112,     0.24302, ...,           1,           1,           1],\n",
       "       [       0.15,        0.15,     0.35029, ...,           1,           1,           1]]), 'Confidence', 'Precision'], [array([          0,    0.001001,    0.002002,    0.003003,    0.004004,    0.005005,    0.006006,    0.007007,    0.008008,    0.009009,     0.01001,    0.011011,    0.012012,    0.013013,    0.014014,    0.015015,    0.016016,    0.017017,    0.018018,    0.019019,     0.02002,    0.021021,    0.022022,    0.023023,\n",
       "          0.024024,    0.025025,    0.026026,    0.027027,    0.028028,    0.029029,     0.03003,    0.031031,    0.032032,    0.033033,    0.034034,    0.035035,    0.036036,    0.037037,    0.038038,    0.039039,     0.04004,    0.041041,    0.042042,    0.043043,    0.044044,    0.045045,    0.046046,    0.047047,\n",
       "          0.048048,    0.049049,     0.05005,    0.051051,    0.052052,    0.053053,    0.054054,    0.055055,    0.056056,    0.057057,    0.058058,    0.059059,     0.06006,    0.061061,    0.062062,    0.063063,    0.064064,    0.065065,    0.066066,    0.067067,    0.068068,    0.069069,     0.07007,    0.071071,\n",
       "          0.072072,    0.073073,    0.074074,    0.075075,    0.076076,    0.077077,    0.078078,    0.079079,     0.08008,    0.081081,    0.082082,    0.083083,    0.084084,    0.085085,    0.086086,    0.087087,    0.088088,    0.089089,     0.09009,    0.091091,    0.092092,    0.093093,    0.094094,    0.095095,\n",
       "          0.096096,    0.097097,    0.098098,    0.099099,      0.1001,      0.1011,      0.1021,      0.1031,      0.1041,     0.10511,     0.10611,     0.10711,     0.10811,     0.10911,     0.11011,     0.11111,     0.11211,     0.11311,     0.11411,     0.11512,     0.11612,     0.11712,     0.11812,     0.11912,\n",
       "           0.12012,     0.12112,     0.12212,     0.12312,     0.12412,     0.12513,     0.12613,     0.12713,     0.12813,     0.12913,     0.13013,     0.13113,     0.13213,     0.13313,     0.13413,     0.13514,     0.13614,     0.13714,     0.13814,     0.13914,     0.14014,     0.14114,     0.14214,     0.14314,\n",
       "           0.14414,     0.14515,     0.14615,     0.14715,     0.14815,     0.14915,     0.15015,     0.15115,     0.15215,     0.15315,     0.15415,     0.15516,     0.15616,     0.15716,     0.15816,     0.15916,     0.16016,     0.16116,     0.16216,     0.16316,     0.16416,     0.16517,     0.16617,     0.16717,\n",
       "           0.16817,     0.16917,     0.17017,     0.17117,     0.17217,     0.17317,     0.17417,     0.17518,     0.17618,     0.17718,     0.17818,     0.17918,     0.18018,     0.18118,     0.18218,     0.18318,     0.18418,     0.18519,     0.18619,     0.18719,     0.18819,     0.18919,     0.19019,     0.19119,\n",
       "           0.19219,     0.19319,     0.19419,      0.1952,      0.1962,      0.1972,      0.1982,      0.1992,      0.2002,      0.2012,      0.2022,      0.2032,      0.2042,     0.20521,     0.20621,     0.20721,     0.20821,     0.20921,     0.21021,     0.21121,     0.21221,     0.21321,     0.21421,     0.21522,\n",
       "           0.21622,     0.21722,     0.21822,     0.21922,     0.22022,     0.22122,     0.22222,     0.22322,     0.22422,     0.22523,     0.22623,     0.22723,     0.22823,     0.22923,     0.23023,     0.23123,     0.23223,     0.23323,     0.23423,     0.23524,     0.23624,     0.23724,     0.23824,     0.23924,\n",
       "           0.24024,     0.24124,     0.24224,     0.24324,     0.24424,     0.24525,     0.24625,     0.24725,     0.24825,     0.24925,     0.25025,     0.25125,     0.25225,     0.25325,     0.25425,     0.25526,     0.25626,     0.25726,     0.25826,     0.25926,     0.26026,     0.26126,     0.26226,     0.26326,\n",
       "           0.26426,     0.26527,     0.26627,     0.26727,     0.26827,     0.26927,     0.27027,     0.27127,     0.27227,     0.27327,     0.27427,     0.27528,     0.27628,     0.27728,     0.27828,     0.27928,     0.28028,     0.28128,     0.28228,     0.28328,     0.28428,     0.28529,     0.28629,     0.28729,\n",
       "           0.28829,     0.28929,     0.29029,     0.29129,     0.29229,     0.29329,     0.29429,      0.2953,      0.2963,      0.2973,      0.2983,      0.2993,      0.3003,      0.3013,      0.3023,      0.3033,      0.3043,     0.30531,     0.30631,     0.30731,     0.30831,     0.30931,     0.31031,     0.31131,\n",
       "           0.31231,     0.31331,     0.31431,     0.31532,     0.31632,     0.31732,     0.31832,     0.31932,     0.32032,     0.32132,     0.32232,     0.32332,     0.32432,     0.32533,     0.32633,     0.32733,     0.32833,     0.32933,     0.33033,     0.33133,     0.33233,     0.33333,     0.33433,     0.33534,\n",
       "           0.33634,     0.33734,     0.33834,     0.33934,     0.34034,     0.34134,     0.34234,     0.34334,     0.34434,     0.34535,     0.34635,     0.34735,     0.34835,     0.34935,     0.35035,     0.35135,     0.35235,     0.35335,     0.35435,     0.35536,     0.35636,     0.35736,     0.35836,     0.35936,\n",
       "           0.36036,     0.36136,     0.36236,     0.36336,     0.36436,     0.36537,     0.36637,     0.36737,     0.36837,     0.36937,     0.37037,     0.37137,     0.37237,     0.37337,     0.37437,     0.37538,     0.37638,     0.37738,     0.37838,     0.37938,     0.38038,     0.38138,     0.38238,     0.38338,\n",
       "           0.38438,     0.38539,     0.38639,     0.38739,     0.38839,     0.38939,     0.39039,     0.39139,     0.39239,     0.39339,     0.39439,      0.3954,      0.3964,      0.3974,      0.3984,      0.3994,      0.4004,      0.4014,      0.4024,      0.4034,      0.4044,     0.40541,     0.40641,     0.40741,\n",
       "           0.40841,     0.40941,     0.41041,     0.41141,     0.41241,     0.41341,     0.41441,     0.41542,     0.41642,     0.41742,     0.41842,     0.41942,     0.42042,     0.42142,     0.42242,     0.42342,     0.42442,     0.42543,     0.42643,     0.42743,     0.42843,     0.42943,     0.43043,     0.43143,\n",
       "           0.43243,     0.43343,     0.43443,     0.43544,     0.43644,     0.43744,     0.43844,     0.43944,     0.44044,     0.44144,     0.44244,     0.44344,     0.44444,     0.44545,     0.44645,     0.44745,     0.44845,     0.44945,     0.45045,     0.45145,     0.45245,     0.45345,     0.45445,     0.45546,\n",
       "           0.45646,     0.45746,     0.45846,     0.45946,     0.46046,     0.46146,     0.46246,     0.46346,     0.46446,     0.46547,     0.46647,     0.46747,     0.46847,     0.46947,     0.47047,     0.47147,     0.47247,     0.47347,     0.47447,     0.47548,     0.47648,     0.47748,     0.47848,     0.47948,\n",
       "           0.48048,     0.48148,     0.48248,     0.48348,     0.48448,     0.48549,     0.48649,     0.48749,     0.48849,     0.48949,     0.49049,     0.49149,     0.49249,     0.49349,     0.49449,      0.4955,      0.4965,      0.4975,      0.4985,      0.4995,      0.5005,      0.5015,      0.5025,      0.5035,\n",
       "            0.5045,     0.50551,     0.50651,     0.50751,     0.50851,     0.50951,     0.51051,     0.51151,     0.51251,     0.51351,     0.51451,     0.51552,     0.51652,     0.51752,     0.51852,     0.51952,     0.52052,     0.52152,     0.52252,     0.52352,     0.52452,     0.52553,     0.52653,     0.52753,\n",
       "           0.52853,     0.52953,     0.53053,     0.53153,     0.53253,     0.53353,     0.53453,     0.53554,     0.53654,     0.53754,     0.53854,     0.53954,     0.54054,     0.54154,     0.54254,     0.54354,     0.54454,     0.54555,     0.54655,     0.54755,     0.54855,     0.54955,     0.55055,     0.55155,\n",
       "           0.55255,     0.55355,     0.55455,     0.55556,     0.55656,     0.55756,     0.55856,     0.55956,     0.56056,     0.56156,     0.56256,     0.56356,     0.56456,     0.56557,     0.56657,     0.56757,     0.56857,     0.56957,     0.57057,     0.57157,     0.57257,     0.57357,     0.57457,     0.57558,\n",
       "           0.57658,     0.57758,     0.57858,     0.57958,     0.58058,     0.58158,     0.58258,     0.58358,     0.58458,     0.58559,     0.58659,     0.58759,     0.58859,     0.58959,     0.59059,     0.59159,     0.59259,     0.59359,     0.59459,      0.5956,      0.5966,      0.5976,      0.5986,      0.5996,\n",
       "            0.6006,      0.6016,      0.6026,      0.6036,      0.6046,     0.60561,     0.60661,     0.60761,     0.60861,     0.60961,     0.61061,     0.61161,     0.61261,     0.61361,     0.61461,     0.61562,     0.61662,     0.61762,     0.61862,     0.61962,     0.62062,     0.62162,     0.62262,     0.62362,\n",
       "           0.62462,     0.62563,     0.62663,     0.62763,     0.62863,     0.62963,     0.63063,     0.63163,     0.63263,     0.63363,     0.63463,     0.63564,     0.63664,     0.63764,     0.63864,     0.63964,     0.64064,     0.64164,     0.64264,     0.64364,     0.64464,     0.64565,     0.64665,     0.64765,\n",
       "           0.64865,     0.64965,     0.65065,     0.65165,     0.65265,     0.65365,     0.65465,     0.65566,     0.65666,     0.65766,     0.65866,     0.65966,     0.66066,     0.66166,     0.66266,     0.66366,     0.66466,     0.66567,     0.66667,     0.66767,     0.66867,     0.66967,     0.67067,     0.67167,\n",
       "           0.67267,     0.67367,     0.67467,     0.67568,     0.67668,     0.67768,     0.67868,     0.67968,     0.68068,     0.68168,     0.68268,     0.68368,     0.68468,     0.68569,     0.68669,     0.68769,     0.68869,     0.68969,     0.69069,     0.69169,     0.69269,     0.69369,     0.69469,      0.6957,\n",
       "            0.6967,      0.6977,      0.6987,      0.6997,      0.7007,      0.7017,      0.7027,      0.7037,      0.7047,     0.70571,     0.70671,     0.70771,     0.70871,     0.70971,     0.71071,     0.71171,     0.71271,     0.71371,     0.71471,     0.71572,     0.71672,     0.71772,     0.71872,     0.71972,\n",
       "           0.72072,     0.72172,     0.72272,     0.72372,     0.72472,     0.72573,     0.72673,     0.72773,     0.72873,     0.72973,     0.73073,     0.73173,     0.73273,     0.73373,     0.73473,     0.73574,     0.73674,     0.73774,     0.73874,     0.73974,     0.74074,     0.74174,     0.74274,     0.74374,\n",
       "           0.74474,     0.74575,     0.74675,     0.74775,     0.74875,     0.74975,     0.75075,     0.75175,     0.75275,     0.75375,     0.75475,     0.75576,     0.75676,     0.75776,     0.75876,     0.75976,     0.76076,     0.76176,     0.76276,     0.76376,     0.76476,     0.76577,     0.76677,     0.76777,\n",
       "           0.76877,     0.76977,     0.77077,     0.77177,     0.77277,     0.77377,     0.77477,     0.77578,     0.77678,     0.77778,     0.77878,     0.77978,     0.78078,     0.78178,     0.78278,     0.78378,     0.78478,     0.78579,     0.78679,     0.78779,     0.78879,     0.78979,     0.79079,     0.79179,\n",
       "           0.79279,     0.79379,     0.79479,      0.7958,      0.7968,      0.7978,      0.7988,      0.7998,      0.8008,      0.8018,      0.8028,      0.8038,      0.8048,     0.80581,     0.80681,     0.80781,     0.80881,     0.80981,     0.81081,     0.81181,     0.81281,     0.81381,     0.81481,     0.81582,\n",
       "           0.81682,     0.81782,     0.81882,     0.81982,     0.82082,     0.82182,     0.82282,     0.82382,     0.82482,     0.82583,     0.82683,     0.82783,     0.82883,     0.82983,     0.83083,     0.83183,     0.83283,     0.83383,     0.83483,     0.83584,     0.83684,     0.83784,     0.83884,     0.83984,\n",
       "           0.84084,     0.84184,     0.84284,     0.84384,     0.84484,     0.84585,     0.84685,     0.84785,     0.84885,     0.84985,     0.85085,     0.85185,     0.85285,     0.85385,     0.85485,     0.85586,     0.85686,     0.85786,     0.85886,     0.85986,     0.86086,     0.86186,     0.86286,     0.86386,\n",
       "           0.86486,     0.86587,     0.86687,     0.86787,     0.86887,     0.86987,     0.87087,     0.87187,     0.87287,     0.87387,     0.87487,     0.87588,     0.87688,     0.87788,     0.87888,     0.87988,     0.88088,     0.88188,     0.88288,     0.88388,     0.88488,     0.88589,     0.88689,     0.88789,\n",
       "           0.88889,     0.88989,     0.89089,     0.89189,     0.89289,     0.89389,     0.89489,      0.8959,      0.8969,      0.8979,      0.8989,      0.8999,      0.9009,      0.9019,      0.9029,      0.9039,      0.9049,     0.90591,     0.90691,     0.90791,     0.90891,     0.90991,     0.91091,     0.91191,\n",
       "           0.91291,     0.91391,     0.91491,     0.91592,     0.91692,     0.91792,     0.91892,     0.91992,     0.92092,     0.92192,     0.92292,     0.92392,     0.92492,     0.92593,     0.92693,     0.92793,     0.92893,     0.92993,     0.93093,     0.93193,     0.93293,     0.93393,     0.93493,     0.93594,\n",
       "           0.93694,     0.93794,     0.93894,     0.93994,     0.94094,     0.94194,     0.94294,     0.94394,     0.94494,     0.94595,     0.94695,     0.94795,     0.94895,     0.94995,     0.95095,     0.95195,     0.95295,     0.95395,     0.95495,     0.95596,     0.95696,     0.95796,     0.95896,     0.95996,\n",
       "           0.96096,     0.96196,     0.96296,     0.96396,     0.96496,     0.96597,     0.96697,     0.96797,     0.96897,     0.96997,     0.97097,     0.97197,     0.97297,     0.97397,     0.97497,     0.97598,     0.97698,     0.97798,     0.97898,     0.97998,     0.98098,     0.98198,     0.98298,     0.98398,\n",
       "           0.98498,     0.98599,     0.98699,     0.98799,     0.98899,     0.98999,     0.99099,     0.99199,     0.99299,     0.99399,     0.99499,       0.996,       0.997,       0.998,       0.999,           1]), array([[          1,           1,           1, ...,           0,           0,           0],\n",
       "       [          1,           1,           1, ...,           0,           0,           0]]), 'Confidence', 'Recall']]\n",
       "fitness: 0.6706929047666381\n",
       "keys: ['metrics/precision(B)', 'metrics/recall(B)', 'metrics/mAP50(B)', 'metrics/mAP50-95(B)']\n",
       "maps: array([    0.76815,     0.50937,     0.63876])\n",
       "names: {0: 'truck', 1: 'bus', 2: 'car'}\n",
       "plot: True\n",
       "results_dict: {'metrics/precision(B)': 0.8930981184712528, 'metrics/recall(B)': 0.823872561700277, 'metrics/mAP50(B)': 0.9580769230769233, 'metrics/mAP50-95(B)': 0.6387613471766064, 'fitness': 0.6706929047666381}\n",
       "save_dir: PosixPath('runs/detect/train33')\n",
       "speed: {'preprocess': 0.9875297546386719, 'inference': 19.178390502929688, 'loss': 0.009059906005859375, 'postprocess': 2.6891231536865234}\n",
       "task: 'detect'"
      ]
     },
     "execution_count": 55,
     "metadata": {},
     "output_type": "execute_result"
    }
   ],
   "source": [
    "model.train(data=yaml_path, epochs = 300, patience = 30, imgsz = 416)"
   ]
  },
  {
   "cell_type": "code",
   "execution_count": 56,
   "id": "c96a4b27",
   "metadata": {},
   "outputs": [
    {
     "name": "stdout",
     "output_type": "stream",
     "text": [
      "\n",
      "image 1/1 /home/bongo/porter_notebook/yolo/aihub/data_test/yolo_test/test/Suwon_CH01_20200721_1500_TUE_9m_NH_highway_TW5_sunny_FHD_013.png: 416x256 41 trucks, 26 buss, 18.3ms\n",
      "Speed: 2.7ms preprocess, 18.3ms inference, 3.3ms postprocess per image at shape (1, 3, 416, 256)\n",
      "Results saved to \u001b[1mruns/detect/train332\u001b[0m\n"
     ]
    }
   ],
   "source": [
    "test_loc = os.path.join(curr_dir,\"test\")\n",
    "results = model.predict(source = test_loc,save=True)"
   ]
  },
  {
   "cell_type": "code",
   "execution_count": null,
   "id": "ed99f2d4",
   "metadata": {},
   "outputs": [],
   "source": [
    "## 결과는 여기에\n",
    "http://49.166.98.88:8889/tree/home/bongo/porter_notebook/yolo/aihub/data_test/yolo_test/runs/detect"
   ]
  },
  {
   "cell_type": "code",
   "execution_count": null,
   "id": "933181b4-0ec8-49d4-9d7a-182ddbe205f5",
   "metadata": {},
   "outputs": [],
   "source": []
  },
  {
   "cell_type": "code",
   "execution_count": 2,
   "id": "6d71c601-f22b-4afb-b6e2-aaa51acea5a3",
   "metadata": {},
   "outputs": [
    {
     "name": "stdout",
     "output_type": "stream",
     "text": [
      "GPU 사용 가능 여부: False\n"
     ]
    }
   ],
   "source": [
    "import torch\n",
    "print(\"GPU 사용 가능 여부:\", torch.cuda.is_available())"
   ]
  },
  {
   "cell_type": "code",
   "execution_count": 2,
   "id": "26a74195-afec-4005-9e43-01399911018c",
   "metadata": {},
   "outputs": [
    {
     "name": "stdout",
     "output_type": "stream",
     "text": [
      "PyTorch 버전: 2.5.1+cu124\n",
      "CUDA 사용 가능 여부: True\n",
      "CUDA 버전: 12.4\n"
     ]
    }
   ],
   "source": [
    "import torch\n",
    "print(\"PyTorch 버전:\", torch.__version__)\n",
    "print(\"CUDA 사용 가능 여부:\", torch.cuda.is_available())\n",
    "print(\"CUDA 버전:\", torch.version.cuda)\n"
   ]
  },
  {
   "cell_type": "code",
   "execution_count": null,
   "id": "d32bace4-6db0-409d-b6d2-ead7f6c1cdda",
   "metadata": {},
   "outputs": [],
   "source": []
  }
 ],
 "metadata": {
  "kernelspec": {
   "display_name": "Python 3 (ipykernel)",
   "language": "python",
   "name": "python3"
  },
  "language_info": {
   "codemirror_mode": {
    "name": "ipython",
    "version": 3
   },
   "file_extension": ".py",
   "mimetype": "text/x-python",
   "name": "python",
   "nbconvert_exporter": "python",
   "pygments_lexer": "ipython3",
   "version": "3.12.2"
  }
 },
 "nbformat": 4,
 "nbformat_minor": 5
}
