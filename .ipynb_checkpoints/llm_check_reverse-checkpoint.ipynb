{
 "cells": [
  {
   "cell_type": "code",
   "execution_count": 1,
   "id": "2ae73117-8157-43e4-a910-61ed0bb96012",
   "metadata": {},
   "outputs": [],
   "source": [
    "import os\n",
    "import xml.etree.ElementTree as ET\n",
    "import random\n",
    "import shutil\n",
    "import yaml\n",
    "import datetime\n",
    "import cv2\n",
    "import numpy as np\n",
    "import os\n",
    "import cv2\n",
    "import csv\n",
    "import numpy as np\n",
    "import ollama\n",
    "curr_dir = os.getcwd()"
   ]
  },
  {
   "cell_type": "code",
   "execution_count": null,
   "id": "a66d0597-dc05-49aa-8b00-76fc77bea722",
   "metadata": {},
   "outputs": [],
   "source": [
    "\n",
    "To detect whether the lanes in the video are two-way or one-way, you can process the video frames and analyze lane markings. Here's how you can implement it, with the response limited to \"two-way\" or \"one-way\" only.\n",
    "\n"
   ]
  },
  {
   "cell_type": "code",
   "execution_count": 21,
   "id": "dfab15a8-9468-49d4-82b1-85c8e426564a",
   "metadata": {},
   "outputs": [
    {
     "name": "stdout",
     "output_type": "stream",
     "text": [
      "One-way.\n"
     ]
    }
   ],
   "source": [
    "import ollama\n",
    "\n",
    "res = ollama.chat(\n",
    "\tmodel= \"llama3.2-vision:11b\",\n",
    "\tmessages=[\n",
    "\t\t{\n",
    "\t\t\t'role': 'user',\n",
    "\t\t\t'content':  \"\"\" one-way : every cars go to same direction\n",
    "                            two-way : Cars travel in opposite directions, with separate lanes for each direction\n",
    "                            To detect whether the lanes in the video are two-way or one-way\n",
    "                            Answer only one in [one-way/two-way] answer in one word\n",
    "\"\"\",\n",
    "\t\t\t'images': ['test/Suwon_CH03_20200722_1400_WED_9m_NH_highway_OW5_rainy_FHD_034.png']\n",
    "\t\t}\n",
    "\t]\n",
    ")\n",
    "\n",
    "print(res['message']['content'])"
   ]
  },
  {
   "cell_type": "code",
   "execution_count": 22,
   "id": "c21ac7bd-7028-40dc-8329-75e2dcc98563",
   "metadata": {},
   "outputs": [
    {
     "name": "stdout",
     "output_type": "stream",
     "text": [
      "One-way.\n"
     ]
    }
   ],
   "source": [
    "import ollama\n",
    "\n",
    "res = ollama.chat(\n",
    "\tmodel= \"llama3.2-vision:11b\",\n",
    "\tmessages=[\n",
    "\t\t{\n",
    "\t\t\t'role': 'user',\n",
    "\t\t\t'content':  \"\"\" one-way : every cars go to same direction\n",
    "                            two-way : Cars travel in opposite directions, with separate lanes for each direction\n",
    "                            To detect whether the lanes in the video are two-way or one-way\n",
    "                            Answer only one in [one-way/two-way] answer in one word\n",
    "\"\"\",\n",
    "\t\t\t'images': ['test/Suwon_CH01_20200720_2000_MON_9m_NH_highway_TW5_sunny_FHD_005.png']\n",
    "\t\t}\n",
    "\t]\n",
    ")\n",
    "\n",
    "print(res['message']['content'])"
   ]
  },
  {
   "cell_type": "code",
   "execution_count": 11,
   "id": "9561c461-8750-4152-ab8e-7caed87b8c89",
   "metadata": {},
   "outputs": [
    {
     "name": "stdout",
     "output_type": "stream",
     "text": [
      "DOWN\n"
     ]
    }
   ],
   "source": [
    "import ollama\n",
    "\n",
    "res = ollama.chat(\n",
    "\tmodel= \"llama3.2-vision:11b\",\n",
    "\tmessages=[\n",
    "\t\t{\n",
    "\t\t\t'role': 'user',\n",
    "\t\t\t'content':  \"\"\"tell me which direction is inverse. \n",
    "                            Answer only one in [UP/DOWN/LEFT/RIGHT] answer in one word\n",
    "                            If there is two direction, say two direction\"\"\",\n",
    "\t\t\t'images': ['test/Suwon_CH03_20200722_1400_WED_9m_NH_highway_OW5_rainy_FHD_034.png']\n",
    "\t\t}\n",
    "\t]\n",
    ")\n",
    "\n",
    "print(res['message']['content'])"
   ]
  },
  {
   "cell_type": "code",
   "execution_count": 5,
   "id": "632e6e48-c4f2-4a08-824d-4a399d19b8b0",
   "metadata": {},
   "outputs": [
    {
     "name": "stdout",
     "output_type": "stream",
     "text": [
      "DOWN\n"
     ]
    }
   ],
   "source": [
    "import ollama\n",
    "\n",
    "res = ollama.chat(\n",
    "\tmodel= \"llama3.2-vision:11b\",\n",
    "\tmessages=[\n",
    "\t\t{\n",
    "\t\t\t'role': 'user',\n",
    "\t\t\t'content':  \"\"\"tell me which direction is inverse. \n",
    "                            Answer only one in [UP/DOWN/LEFT/RIGHT] answer in one word\n",
    "                            If there is two direction, say two direction\"\"\",\n",
    "\t\t\t'images': ['test/Suwon_CH01_20200720_2000_MON_9m_NH_highway_TW5_sunny_FHD_005.png']\n",
    "\t\t}\n",
    "\t]\n",
    ")\n",
    "\n",
    "print(res['message']['content'])"
   ]
  },
  {
   "cell_type": "code",
   "execution_count": null,
   "id": "97957da3-4709-4be6-8a03-c28f4145b349",
   "metadata": {},
   "outputs": [],
   "source": []
  },
  {
   "cell_type": "code",
   "execution_count": null,
   "id": "67ff9a2b-9f6d-4e0d-8603-835c9ae03ba5",
   "metadata": {},
   "outputs": [],
   "source": []
  }
 ],
 "metadata": {
  "kernelspec": {
   "display_name": "Python 3 (ipykernel)",
   "language": "python",
   "name": "python3"
  },
  "language_info": {
   "codemirror_mode": {
    "name": "ipython",
    "version": 3
   },
   "file_extension": ".py",
   "mimetype": "text/x-python",
   "name": "python",
   "nbconvert_exporter": "python",
   "pygments_lexer": "ipython3",
   "version": "3.12.2"
  }
 },
 "nbformat": 4,
 "nbformat_minor": 5
}
